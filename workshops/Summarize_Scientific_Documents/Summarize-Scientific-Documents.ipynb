{
 "cells": [
  {
   "cell_type": "markdown",
   "id": "10f42322-8e6b-4df5-9585-a969d364b12a",
   "metadata": {},
   "source": [
    "# Summarize Scientific Documents with Amazon Comprehend and HuggingFace"
   ]
  },
  {
   "cell_type": "markdown",
   "id": "c2e28edf-de16-4de0-96ff-c4b5678d4e17",
   "metadata": {},
   "source": [
    "Researchers must stay up-to-date on their fields of interest. However, it's difficult to keep track of the large number of journals, whitepapers, and research pre-prints generated in many areas. In response, many research groups have turned to AI/ML tools to summarize and classify new documents.\n",
    "\n",
    "In this workshop, we'll use several AWS AI/ML services to process scientific documents from the [NIH NCBI PMC Article Dataset](https://registry.opendata.aws/ncbi-pmc/) on the Registry of Open Data. This is a free full-text archive of biomedical and life sciences journal article at the U.S. National Institutes of Health's National Library of Medicine.\n",
    "\n",
    "This notebook requires that the SageMaker Execution Role has additional permission to call the Amazon Comprehend services. Please reach out to your system administrator if you are running this outside of an AWS-hosted workshop.\n",
    "\n",
    "This notebook was created and tested on an `ml.t3.medium (2 vCPU + 4 GiB)` notebook instance running the `Python 3 (Data Science 3.0)` kernel in SageMaker Studio."
   ]
  },
  {
   "cell_type": "markdown",
   "id": "0da45f90-8e9c-4c0e-8fe6-da0f9bbe994b",
   "metadata": {},
   "source": [
    "# 1. Import Libraries and Create Clients"
   ]
  },
  {
   "cell_type": "code",
   "execution_count": null,
   "id": "ff4bfd94-7d5f-4c69-b4b1-637d71c465e6",
   "metadata": {
    "tags": []
   },
   "outputs": [],
   "source": [
    "%pip install --disable-pip-version-check -U -q -r requirements.txt"
   ]
  },
  {
   "cell_type": "code",
   "execution_count": null,
   "id": "02f953c1-9862-42b4-b195-6ad821562eb3",
   "metadata": {
    "tags": []
   },
   "outputs": [],
   "source": [
    "import boto3\n",
    "import sagemaker\n",
    "import os\n",
    "import json\n",
    "import pprint\n",
    "import pandas as pd\n",
    "from random import sample\n",
    "import re\n",
    "\n",
    "boto_session = boto3.Session()\n",
    "s3 = boto_session.client(\"s3\")\n",
    "sm_session = sagemaker.Session(boto_session=boto_session)\n",
    "s3_bucket = sm_session.default_bucket()\n",
    "s3_prefix = \"sci-docs/data\"\n",
    "print(f\"S3 path is {s3_bucket}/{s3_prefix}\")"
   ]
  },
  {
   "cell_type": "markdown",
   "id": "1de31b09-df82-49af-876f-f5c76b4dd13c",
   "metadata": {},
   "source": [
    "# 2. Download Documents from the NIH NCBI PMC Article Dataset"
   ]
  },
  {
   "cell_type": "markdown",
   "id": "7f7ac0c3-4b3d-48cb-84be-388f00f758ee",
   "metadata": {},
   "source": [
    "Copy 25 articles from the PubMed open data set (https://registry.opendata.aws/ncbi-pmc/) into the SageMaker default bucket for this account."
   ]
  },
  {
   "cell_type": "code",
   "execution_count": null,
   "id": "e5ba4ce3-8f55-45b1-8acc-f0146e51a1db",
   "metadata": {
    "tags": []
   },
   "outputs": [],
   "source": [
    "pmc_bucket = \"pmc-oa-opendata\"\n",
    "pmc_prefix = \"oa_comm/txt/all/\"\n",
    "local_raw_data_dir = \"data/raw\"\n",
    "# let us specify 25 specific PMC articles to download\n",
    "article_names = [\n",
    "    \"PMC1043862.txt\",\n",
    "    \"PMC1054881.txt\",\n",
    "    \"PMC1054888.txt\",\n",
    "    \"PMC1064076.txt\",\n",
    "    \"PMC1064081.txt\",\n",
    "    \"PMC1064104.txt\",\n",
    "    \"PMC1064852.txt\",\n",
    "    \"PMC1064855.txt\",\n",
    "    \"PMC1064860.txt\",\n",
    "    \"PMC1064883.txt\",\n",
    "    \"PMC1064892.txt\",\n",
    "    \"PMC1064893.txt\",\n",
    "    \"PMC1065049.txt\",\n",
    "    \"PMC1065056.txt\",\n",
    "    \"PMC1065057.txt\",\n",
    "    \"PMC1065073.txt\",\n",
    "    \"PMC1065100.txt\",\n",
    "    \"PMC1065320.txt\",\n",
    "    \"PMC1065326.txt\",\n",
    "    \"PMC1069647.txt\",\n",
    "    \"PMC1069665.txt\",\n",
    "    \"PMC1073698.txt\",\n",
    "    \"PMC1074343.txt\",\n",
    "    \"PMC1074358.txt\",\n",
    "    \"PMC1074751.txt\",\n",
    "]\n",
    "for article in article_names:\n",
    "    print(article)\n",
    "    sm_session.download_data(\n",
    "        local_raw_data_dir, bucket=pmc_bucket, key_prefix=pmc_prefix + article\n",
    "    )\n",
    "\n",
    "# Once all files have been downloaded, upload them all to the S3 bucket for your project\n",
    "sm_session.upload_data(\n",
    "    local_raw_data_dir, bucket=s3_bucket, key_prefix=s3_prefix + \"/raw\"\n",
    ")"
   ]
  },
  {
   "cell_type": "markdown",
   "id": "218c3891-39c2-4db0-ad41-897c802971f9",
   "metadata": {},
   "source": [
    "Look at a few examples"
   ]
  },
  {
   "cell_type": "code",
   "execution_count": 13,
   "id": "bf08584a-adb6-4988-8186-9f42a2387527",
   "metadata": {
    "tags": []
   },
   "outputs": [
    {
     "name": "stdout",
     "output_type": "stream",
     "text": [
      "PMC1043862.txt\n",
      "\n",
      "==== Front\n",
      "PLoS BiolPLoS BiolpbioplosbiolPLoS Biology1544-91731545-7885Public Library of Science San Francisco, USA 10.1371/journal.pbio.0030122SynopsisAnimal BehaviorNeuroscienceZoologyInsectsCracking the Olfactory Code Synopsis4 2005 22 2 2005 22 2 2005 3 4 e122Copyright: © 2005 Public Library of Science.2005This is an open-access article distributed under the terms of the Creative Commons Attribution License, which permits unrestricted use, distribution, and reproduction in any medium, provided the original author and source are properly credited.\n",
      "Perceptual and Neural Olfactory Similarity in Honeybees \n",
      "\n",
      "Perception Space-The Final Frontier\n",
      "==== Body\n",
      "For Proust, a taste of cookie was enough to trigger vivid recollections of his childhood, the first of a long string of reveries that he fashioned into his famous memoir Remembrance of Things Past. For many animals, too, tastes and smells are evocative and play a crucial role in finding food, allowing them to build on past successes and to learn how to find their next meal.\n",
      "\n",
      "To locate blooming flowers, for example, honeybees rely heavily on scent. They can associate a whiff of an aldehyde, say, with a nectar-filled orchid. Then later they'll seek out the same or similar scents. To succeed in the wild, they must be able to distinguish relevant scents at varying concentrations, and within complex milieus of other scents. But to find food in varied conditions and adapt to new situations, they also have to generalize from past experience.\n"
     ]
    }
   ],
   "source": [
    "art = sample(article_names, 1)[0]\n",
    "print(art)\n",
    "!head data/raw/{art}"
   ]
  },
  {
   "cell_type": "markdown",
   "id": "2b5548da-8719-43a7-9480-9efda9f5fecc",
   "metadata": {},
   "source": [
    "# 3. Summarize the Documents Using Amazon Comprehend Topic Modelling"
   ]
  },
  {
   "cell_type": "markdown",
   "id": "33bed8d3-6fe9-44cc-9e1a-f9b7951f0b74",
   "metadata": {},
   "source": [
    "Submit an Amazon Comprehend topic modelling job"
   ]
  },
  {
   "cell_type": "code",
   "execution_count": 24,
   "id": "2984d622-2a9f-42db-9d70-29c25c941d83",
   "metadata": {
    "tags": []
   },
   "outputs": [
    {
     "name": "stdout",
     "output_type": "stream",
     "text": [
      "Job 5c6f6d4cd8c8bad35b69608b3d574e8d submitted\n"
     ]
    }
   ],
   "source": [
    "comprehend = boto_session.client(service_name=\"comprehend\")\n",
    "\n",
    "sagemaker.s3.s3_path_join(s3_bucket, s3_prefix, \"raw\")\n",
    "\n",
    "input_s3_url = sagemaker.s3.s3_path_join(\"s3://\", s3_bucket, s3_prefix, \"raw\")\n",
    "input_doc_format = \"ONE_DOC_PER_FILE\"\n",
    "output_s3_url = sagemaker.s3.s3_path_join(\"s3://\", s3_bucket, s3_prefix, \"output\")\n",
    "data_access_role_arn = sagemaker.session.get_execution_role()\n",
    "number_of_topics = 25\n",
    "\n",
    "input_data_config = {\"S3Uri\": input_s3_url, \"InputFormat\": input_doc_format}\n",
    "output_data_config = {\"S3Uri\": output_s3_url}\n",
    "\n",
    "start_topics_detection_job_result = comprehend.start_topics_detection_job(\n",
    "    NumberOfTopics=number_of_topics,\n",
    "    InputDataConfig=input_data_config,\n",
    "    OutputDataConfig=output_data_config,\n",
    "    DataAccessRoleArn=data_access_role_arn,\n",
    ")\n",
    "\n",
    "job_id = start_topics_detection_job_result[\"JobId\"]\n",
    "print(f\"Job {job_id} submitted\")"
   ]
  },
  {
   "cell_type": "markdown",
   "id": "81e11ef1-fb8f-4480-89db-3d38c8196524",
   "metadata": {},
   "source": [
    "Check the job status by running this cell. Note that the job may take 10 minutes or more to finish."
   ]
  },
  {
   "cell_type": "code",
   "execution_count": 30,
   "id": "f4077f0d-cace-4070-8395-526b1cc6c4be",
   "metadata": {
    "tags": []
   },
   "outputs": [
    {
     "name": "stdout",
     "output_type": "stream",
     "text": [
      "Job 5c6f6d4cd8c8bad35b69608b3d574e8d status is COMPLETED\n"
     ]
    }
   ],
   "source": [
    "describe_topics_detection_job_result = comprehend.describe_topics_detection_job(\n",
    "    JobId=job_id\n",
    ").get(\"TopicsDetectionJobProperties\", [])\n",
    "print(f\"Job {job_id} status is {describe_topics_detection_job_result['JobStatus']}\")"
   ]
  },
  {
   "cell_type": "markdown",
   "id": "ea15645d-efa1-48e1-b666-0c819fdb865e",
   "metadata": {},
   "source": [
    "Once job is complete, download and unpack the results"
   ]
  },
  {
   "cell_type": "code",
   "execution_count": 31,
   "id": "fc63594d-d585-424c-8150-b017066b4e93",
   "metadata": {
    "tags": []
   },
   "outputs": [
    {
     "name": "stdout",
     "output_type": "stream",
     "text": [
      "topic-terms.csv\n",
      "doc-topics.csv\n"
     ]
    },
    {
     "data": {
      "text/html": [
       "<div>\n",
       "<style scoped>\n",
       "    .dataframe tbody tr th:only-of-type {\n",
       "        vertical-align: middle;\n",
       "    }\n",
       "\n",
       "    .dataframe tbody tr th {\n",
       "        vertical-align: top;\n",
       "    }\n",
       "\n",
       "    .dataframe thead th {\n",
       "        text-align: right;\n",
       "    }\n",
       "</style>\n",
       "<table border=\"1\" class=\"dataframe\">\n",
       "  <thead>\n",
       "    <tr style=\"text-align: right;\">\n",
       "      <th></th>\n",
       "      <th>docname</th>\n",
       "      <th>topic</th>\n",
       "      <th>proportion</th>\n",
       "      <th>term</th>\n",
       "    </tr>\n",
       "  </thead>\n",
       "  <tbody>\n",
       "    <tr>\n",
       "      <th>0</th>\n",
       "      <td>PMC1043862.txt</td>\n",
       "      <td>19</td>\n",
       "      <td>1.000000</td>\n",
       "      <td>bee, scent, brain, chemical, smell, distance, ...</td>\n",
       "    </tr>\n",
       "    <tr>\n",
       "      <th>1</th>\n",
       "      <td>PMC1054881.txt</td>\n",
       "      <td>9</td>\n",
       "      <td>0.824953</td>\n",
       "      <td>cohesin, sa2, scc1, cell, phosphorylation, chr...</td>\n",
       "    </tr>\n",
       "    <tr>\n",
       "      <th>2</th>\n",
       "      <td>PMC1054881.txt</td>\n",
       "      <td>0</td>\n",
       "      <td>0.069081</td>\n",
       "      <td>abbreviation, declare, sr, mt, excess, wm, car...</td>\n",
       "    </tr>\n",
       "    <tr>\n",
       "      <th>3</th>\n",
       "      <td>PMC1054881.txt</td>\n",
       "      <td>1</td>\n",
       "      <td>0.034858</td>\n",
       "      <td>discussion, abbreviation, ltd.this, declare, w...</td>\n",
       "    </tr>\n",
       "    <tr>\n",
       "      <th>4</th>\n",
       "      <td>PMC1054881.txt</td>\n",
       "      <td>21</td>\n",
       "      <td>0.017785</td>\n",
       "      <td>cell, camp, e2, receptor, estrogen, level, mem...</td>\n",
       "    </tr>\n",
       "    <tr>\n",
       "      <th>...</th>\n",
       "      <td>...</td>\n",
       "      <td>...</td>\n",
       "      <td>...</td>\n",
       "      <td>...</td>\n",
       "    </tr>\n",
       "    <tr>\n",
       "      <th>177</th>\n",
       "      <td>PMC1074358.txt</td>\n",
       "      <td>12</td>\n",
       "      <td>0.009949</td>\n",
       "      <td>inflammation, inflammatory, journal, access, r...</td>\n",
       "    </tr>\n",
       "    <tr>\n",
       "      <th>178</th>\n",
       "      <td>PMC1074751.txt</td>\n",
       "      <td>22</td>\n",
       "      <td>0.852933</td>\n",
       "      <td>activity, stimulus, spontaneous, neuron, oscil...</td>\n",
       "    </tr>\n",
       "    <tr>\n",
       "      <th>179</th>\n",
       "      <td>PMC1074751.txt</td>\n",
       "      <td>0</td>\n",
       "      <td>0.071058</td>\n",
       "      <td>abbreviation, declare, sr, mt, excess, wm, car...</td>\n",
       "    </tr>\n",
       "    <tr>\n",
       "      <th>180</th>\n",
       "      <td>PMC1074751.txt</td>\n",
       "      <td>1</td>\n",
       "      <td>0.059401</td>\n",
       "      <td>discussion, abbreviation, ltd.this, declare, w...</td>\n",
       "    </tr>\n",
       "    <tr>\n",
       "      <th>181</th>\n",
       "      <td>PMC1074751.txt</td>\n",
       "      <td>23</td>\n",
       "      <td>0.016608</td>\n",
       "      <td>bwc1, light, strain, bwc2, gene, mutant, mate,...</td>\n",
       "    </tr>\n",
       "  </tbody>\n",
       "</table>\n",
       "<p>182 rows × 4 columns</p>\n",
       "</div>"
      ],
      "text/plain": [
       "            docname  topic  proportion  \\\n",
       "0    PMC1043862.txt     19    1.000000   \n",
       "1    PMC1054881.txt      9    0.824953   \n",
       "2    PMC1054881.txt      0    0.069081   \n",
       "3    PMC1054881.txt      1    0.034858   \n",
       "4    PMC1054881.txt     21    0.017785   \n",
       "..              ...    ...         ...   \n",
       "177  PMC1074358.txt     12    0.009949   \n",
       "178  PMC1074751.txt     22    0.852933   \n",
       "179  PMC1074751.txt      0    0.071058   \n",
       "180  PMC1074751.txt      1    0.059401   \n",
       "181  PMC1074751.txt     23    0.016608   \n",
       "\n",
       "                                                  term  \n",
       "0    bee, scent, brain, chemical, smell, distance, ...  \n",
       "1    cohesin, sa2, scc1, cell, phosphorylation, chr...  \n",
       "2    abbreviation, declare, sr, mt, excess, wm, car...  \n",
       "3    discussion, abbreviation, ltd.this, declare, w...  \n",
       "4    cell, camp, e2, receptor, estrogen, level, mem...  \n",
       "..                                                 ...  \n",
       "177  inflammation, inflammatory, journal, access, r...  \n",
       "178  activity, stimulus, spontaneous, neuron, oscil...  \n",
       "179  abbreviation, declare, sr, mt, excess, wm, car...  \n",
       "180  discussion, abbreviation, ltd.this, declare, w...  \n",
       "181  bwc1, light, strain, bwc2, gene, mutant, mate,...  \n",
       "\n",
       "[182 rows x 4 columns]"
      ]
     },
     "metadata": {},
     "output_type": "display_data"
    }
   ],
   "source": [
    "if describe_topics_detection_job_result[\"JobStatus\"] == \"COMPLETED\":\n",
    "    output_url = sagemaker.s3.parse_s3_url(\n",
    "        describe_topics_detection_job_result[\"OutputDataConfig\"][\"S3Uri\"]\n",
    "    )\n",
    "    sm_session.download_data(\n",
    "        \"data\",\n",
    "        bucket=output_url[0],\n",
    "        key_prefix=output_url[1],\n",
    "    )\n",
    "    os.system(\"tar xvfz data/output.tar.gz -C data/\")\n",
    "\n",
    "    topics = (\n",
    "        pd.read_csv(\"data/topic-terms.csv\")\n",
    "        .sort_values([\"topic\", \"weight\"], ascending=[True, False])\n",
    "        .groupby([\"topic\"])[\"term\"]\n",
    "        .agg(lambda x: \", \".join(x))\n",
    "    )\n",
    "    docs = pd.read_csv(\"data/doc-topics.csv\").sort_values(\n",
    "        [\"docname\", \"proportion\"], ascending=[True, False]\n",
    "    )\n",
    "    results = pd.merge(docs, topics, how=\"left\", on=\"topic\")\n",
    "    display(results)"
   ]
  },
  {
   "cell_type": "markdown",
   "id": "0dcae0b6-c17a-4304-a448-10f94d6fc3cc",
   "metadata": {},
   "source": [
    "Let's look at some specific examples:"
   ]
  },
  {
   "cell_type": "code",
   "execution_count": 32,
   "id": "2e4f4ddb-1fc9-4fc7-9df0-6ab9e209288d",
   "metadata": {
    "tags": []
   },
   "outputs": [
    {
     "name": "stdout",
     "output_type": "stream",
     "text": [
      "Document name is PMC1064852.txt\n",
      "Identified terms are node, cancer, breast, nx, model, numb, involve, nodal, positive, ratio\n",
      "\n",
      "==== Front\n",
      "PLoS BiolPLoS BiolpbioplosbiolPLoS Biology1544-91731545-7885Public Library of Science San Francisco, USA 1576027810.1371/journal.pbio.0030095Research ArticleGenetics/Genomics/Gene TherapyMicrobiologyYeast and FungiLight Controls Growth and Development via a Conserved Pathway in the Fungal Kingdom Light Regulates C. neoformans DevelopmentIdnurm Alexander \n",
      "1\n",
      "Heitman Joseph heitm001@duke.edu\n",
      "1\n",
      "1Department of Molecular Genetics and Microbiology, Howard Hughes Medical InstituteDuke University Medical Center, Durham, North CarolinaUnited States of AmericaChory Joanne Academic EditorThe Salk Institute for Biological StudiesUnited States of America4 2005 15 3 2005 15 3 2005 3 4 e9520 6 2004 18 1 2005 Copyright: © 2005 Idnurm and Heitman.2005This is an open-access article distributed under the terms of the Creative Commons Attribution License, which permits unrestricted use, distribution, and reproduction in any medium, provided the original author and source are properly credited.\n",
      "White Collar Proteins Help Fungi Do It in the Dark \n",
      "Light inhibits mating and haploid fruiting of the human fungal pathogen Cryptococcus neoformans, but the mechanisms involved were unknown. Two genes controlling light responses were discovered through candidate gene and insertional mutagenesis approaches. Deletion of candidate genes encoding a predicted opsin or phytochrome had no effect on mating, while strains mutated in the white collar 1 homolog gene BWC1 mated equally well in the light or the dark. The predicted Bwc1 protein shares identity with Neurospora crassa WC-1, but lacks the zinc finger DNA binding domain. BWC1 regulates cell fusion and repression of hyphal development after fusion in response to blue light. In addition, bwc1 mutant strains are hypersensitive to ultraviolet light. To identify other components required for responses to light, a novel self-fertile haploid strain was created and subjected to Agrobacterium-mediated insertional mutagenesis. One UV-sensitive mutant that filaments equally well in the light and the dark was identified and found to have an insertion in the BWC2 gene, whose product is structurally similar to N. crassa WC-2. The C. neoformans Bwc1 and Bwc2 proteins interact in the yeast two-hybrid assay. Deletion of BWC1 or BWC2 reduces the virulence of C. neoformans in a murine model of infection; the Bwc1-Bwc2 system thus represents a novel protein complex that influences both development and virulence in a pathogenic fungus. These results demonstrate that a role for blue/UV light in controlling development is an ancient process that predates the divergence of the fungi into the ascomycete and basidiomycete phyla.\n",
      "\n",
      "Two genes controlling light responses - BWC1 and BWC2 - were identified and shown to regulate development and virulence of the fungal pathogen Cryptococcus neoformans\n",
      "==== Body\n",
      "Introduction\n",
      "Light is the fundamental energy source for life on earth and as such is a major environmental signal for organisms from all kingdoms of life. In the fungal kingdom, light can regulate growth, the direction of growth, asexual and sexual reproduction, and pigment formation, all of which are important aspects for the survival and dissemination of fungal species. These processes have negative implications to many aspects of human life, as the uncontrolled proliferation of fungi can lead to devastating plant disease, mold, and human disease. On the other hand, fungi are essential for recycling nutrients in the environment, in mycorrhizal interactions with plants, and as a source of food and pharmaceutical metabolites for humans. Understanding the role of environmental signals in fungal development is vital to increase the benefits and decrease the costs that fungi present. Despite the importance of light to fungal development, much has yet to be determined to illuminate the mechanisms fungi use to perceive and respond to light.\n",
      "\n",
      "The effects of light have been investigated in model fungal species. While spectral analyses and the morphological effects of light have been well characterized in genera such as Coprinus (a basidiomycete) or Phycomyces (a zygomycete), at the molecular level Neurospora crassa (an ascomycete) is best understood based on the functions of the white collar (wc-1 and wc-2) genes in light sensing [1,2,3]. In N. crassa, blue light regulates induction of carotenoid pigment production, protoperithecia (sexual fruiting body) formation and phototropism of perithecial beaks, and circadian rhythm, all of which are abolished by mutations in wc-1 or wc-2 [4]. These two genes encode proteins with several conserved domains, including a zinc finger DNA binding domain found in both proteins [5,6,7]. The two proteins physically interact through PAS (conserved in Per, Arnt, Sim proteins) domains [8,9,10]. The WC-1 protein functions as the blue light receptor through a specialized PAS domain responsible for sensing light, oxygen, and voltage in other proteins (LOV domain), and, together with WC-2, acts as a transcription factor. The WC-1 protein interacts with a flavin chromophore [flavin adenine dinucleotide (FAD)] to function as the blue light receptor [11,12]. A small protein, VIVID, also perceives blue light through a LOV domain and modulates N. crassa sensitivity to light [13]. N. crassa has an additional four candidate photoactive protein homologs whose functions in photoperception remain elusive [14,15].\n",
      "\n",
      "We set out to identify genes involved in the process by which light inhibits mating of the basidiomycete Cryptococcus neoformans. In nature, cryptococcal varieties are associated with bird excreta, soil, tree hollows, and even caves [16,17]. Thus, the light stimuli studied under laboratory conditions are highly relevant to the varying light signals the fungus experiences in the wild. C. neoformans exists as a haploid yeast with two bipolar mating types (a and α). MATa and MATα cells fuse to form a dikaryotic hypha that terminates in a basidium in which nuclear fusion and meiosis occur, producing four long chains of haploid basidiospores by mitosis and budding. A similar process, known as haploid or monokaryotic fruiting, can occur with only one mating partner that also gives rise to filaments that terminate in basidium-like structures and produce short spore chains. Spores have been implicated as an infectious propagule, further underscoring the importance of understanding the regulatory processes governing basidiospore production [18,19]. Mating and fruiting are controlled in the laboratory by stimuli such as the presence of potential mating partners (via pheromone signaling), nutrient limitation, desiccation, temperature, and light [19]. Many aspects of the transduction pathways for these signals have been elucidated, particularly in response to pheromones and nutrient limitation [20], but no components of light signaling had been reported to date for this important human pathogen. We identify here two genes required for C. neoformans responses to light, and demonstrate their role in blue light regulation of development and sensitivity to UV light, and their requirement for full virulence of this pathogen in a mammalian host.\n",
      "\n",
      "Results\n",
      "\n",
      "C. neoformans Expresses Three Candidate Photoreceptors That Could Regulate Development\n",
      "Mating and fruiting of C. neoformans can be variable during culturing. Previous work in our laboratory and others has endeavored to find environmental factors that lead to this variation. One factor identified was light; cultures wrapped in aluminum foil exhibited enhanced mating and haploid fruiting compared to cultures in the light [19,21]. Our assays used cardboard containers in which 9-cm2 holes were excised from the lid and overlaid with aluminum foil or clear plastic wrap. Under these conditions, light inhibited both mating and haploid fruiting of C. neoformans, thereby ruling out any effects of plate-sealing on CO2 levels or desiccation (Figure 1A and 1B).\n",
      "\n",
      "Figure 1 Bwc1 Inhibits Filament Formation during C. neoformans Mating or Haploid Fruiting\n"
     ]
    }
   ],
   "source": [
    "if describe_topics_detection_job_result[\"JobStatus\"] == \"COMPLETED\":\n",
    "\n",
    "    input_url = sagemaker.s3.parse_s3_url(\n",
    "        describe_topics_detection_job_result[\"InputDataConfig\"][\"S3Uri\"]\n",
    "    )\n",
    "    sample = results.sample()\n",
    "    docname, idx, score, terms = sample.iloc[0, :]\n",
    "\n",
    "    print(f\"Document name is {docname}\")\n",
    "    print(f\"Identified terms are {terms}\")\n",
    "\n",
    "    sm_session.download_data(\n",
    "        \"data\", bucket=input_url[0], key_prefix=os.path.join(input_url[1], docname)\n",
    "    )\n",
    "    os.system(f\"head -n 25 data/{docname}\")"
   ]
  },
  {
   "cell_type": "markdown",
   "id": "80681160-180a-4fce-8ce1-cc79899aeae0",
   "metadata": {},
   "source": [
    "# 4. Generate TLDR Summaries Using a Pre-Trained NLP Model from HuggingFace"
   ]
  },
  {
   "cell_type": "code",
   "execution_count": 17,
   "id": "785636a6-6033-469c-b3fb-7522fc6248ed",
   "metadata": {
    "tags": []
   },
   "outputs": [],
   "source": [
    "import sagemaker\n",
    "from sagemaker.huggingface import HuggingFaceModel\n",
    "from sagemaker.async_inference.async_inference_config import AsyncInferenceConfig\n",
    "from sagemaker.async_inference.waiter_config import WaiterConfig\n",
    "\n",
    "role = sagemaker.get_execution_role()\n",
    "\n",
    "# Hub Model configuration. https://huggingface.co/models\n",
    "hub = {\"HF_MODEL_ID\": \"alk/pegasus-scitldr\", \"HF_TASK\": \"text2text-generation\"}\n",
    "\n",
    "\n",
    "# create Hugging Face Model Class\n",
    "huggingface_model = HuggingFaceModel(\n",
    "    transformers_version=\"4.17.0\",\n",
    "    pytorch_version=\"1.10.2\",\n",
    "    py_version=\"py38\",\n",
    "    env=hub,\n",
    "    role=role,\n",
    ")"
   ]
  },
  {
   "cell_type": "code",
   "execution_count": 18,
   "id": "9d918044-8196-43cf-8f53-214985758539",
   "metadata": {
    "tags": []
   },
   "outputs": [
    {
     "name": "stdout",
     "output_type": "stream",
     "text": [
      "------!"
     ]
    }
   ],
   "source": [
    "# deploy model to SageMaker Inference\n",
    "async_config = AsyncInferenceConfig(\n",
    "    output_path=f\"s3://{s3_bucket}/{s3_prefix}/tldr_output\",\n",
    "    max_concurrent_invocations_per_instance=4,\n",
    ")\n",
    "\n",
    "predictor = huggingface_model.deploy(\n",
    "    async_inference_config=async_config,\n",
    "    initial_instance_count=1,  # number of instances\n",
    "    instance_type=\"ml.m5.4xlarge\",  # ec2 instance type\n",
    "    wait=True,\n",
    ")"
   ]
  },
  {
   "cell_type": "markdown",
   "id": "69a92d55-9592-44d0-b6fe-b8cbdf782c9d",
   "metadata": {},
   "source": [
    "Convert document text to json format and upload to s3"
   ]
  },
  {
   "cell_type": "code",
   "execution_count": 20,
   "id": "f88eb3e2-7f70-41e1-aa95-7efa53f5360c",
   "metadata": {
    "tags": []
   },
   "outputs": [
    {
     "name": "stdout",
     "output_type": "stream",
     "text": [
      "PMC1065049.txt\n",
      "PMC1065320.txt\n",
      "PMC1064081.txt\n",
      "PMC1064855.txt\n",
      "PMC1065056.txt\n",
      "PMC1074751.txt\n",
      "PMC1064852.txt\n",
      "PMC1073698.txt\n",
      "PMC1064104.txt\n",
      "PMC1065057.txt\n",
      "PMC1064852.txt\n",
      "PMC1069665.txt\n",
      "{'inputs': 'The integrin αvβ3 plays an important role in angiogenesis and tumor cell metastasis, and is currently being evaluated as a target for new therapeutic approaches. Several techniques are being studied to enable noninvasive determination of αvβ3 expression. We developed [18F]Galacto-RGD, a 18F-labeled glycosylated αvβ3 antagonist, allowing monitoring of αvβ3 expression with positron emission tomography (PET).  Methods and Findings Here we show by quantitative analysis of images resulting from a small-animal PET scanner that uptake of [18F]Galacto-RGD in the tumor correlates with αvβ3 expression subsequently determined by Western blot analyses. Moreover, using the A431 human squamous cell carcinoma model we demonstrate that this approach is sensitive enough to visualize αvβ3 expression resulting exclusively from the tumor vasculature. Most important, this study shows, that [18F]Galacto-RGD with PET enables noninvasive quantitative assessment of the αvβ3 expression pattern on tumor and endo'}\n"
     ]
    }
   ],
   "source": [
    "# Find an article with well-defined background information\n",
    "result = None\n",
    "while result is None:\n",
    "    art = sample(article_names, 1)[0]\n",
    "    print(art)\n",
    "\n",
    "    with open(f\"data/raw/{art}\", \"r\", encoding=\"utf-8\", errors=\"replace\") as f:\n",
    "        text = f.read().replace(\"\\n\", \" \").replace(\"\\t\", \" \")\n",
    "        result = re.search(\"Background (.{,1000})\", text)\n",
    "\n",
    "dict = {\"inputs\": result.group(1)}  # Search for background infomation\n",
    "print(dict)"
   ]
  },
  {
   "cell_type": "code",
   "execution_count": 21,
   "id": "2c0b51c0-8e4f-4043-8efd-f966e1452a25",
   "metadata": {
    "tags": []
   },
   "outputs": [
    {
     "name": "stdout",
     "output_type": "stream",
     "text": [
      "[{'generated_text': 'We developed [18F]Galacto-RGD, a 18F-labeled glycosylated '\n",
      "                    'v3 antagonist, allowing monitoring of v3 expression with '\n",
      "                    'positron emission tomography (PET).'}]\n"
     ]
    }
   ],
   "source": [
    "async_response = predictor.predict_async(data=dict)\n",
    "\n",
    "waiter = WaiterConfig(max_attempts=24, delay=15)\n",
    "result = async_response.get_result(waiter)\n",
    "pprint.pprint(result)"
   ]
  },
  {
   "cell_type": "markdown",
   "id": "311b4a91-0422-43f5-81e6-8274bb077115",
   "metadata": {},
   "source": [
    "# 5. Clean Up"
   ]
  },
  {
   "cell_type": "code",
   "execution_count": 33,
   "id": "018ed5ce-5baa-4cb1-be43-02b4b9f913db",
   "metadata": {
    "tags": []
   },
   "outputs": [
    {
     "data": {
      "text/plain": [
       "0"
      ]
     },
     "execution_count": 33,
     "metadata": {},
     "output_type": "execute_result"
    }
   ],
   "source": [
    "predictor.delete_endpoint()\n",
    "\n",
    "# Delete all S3 objects\n",
    "bucket = boto_session.resource(\"s3\").Bucket(s3_bucket)\n",
    "bucket.objects.filter(Prefix=\"sci-docs\").delete()\n",
    "os.system(f\"rm -rf data\")"
   ]
  },
  {
   "cell_type": "code",
   "execution_count": null,
   "id": "008926ea-9fe9-455a-b6d4-ccfa1c64c013",
   "metadata": {},
   "outputs": [],
   "source": []
  }
 ],
 "metadata": {
  "instance_type": "ml.t3.medium",
  "kernelspec": {
   "display_name": "Python 3 (Data Science 3.0)",
   "language": "python",
   "name": "python3__SAGEMAKER_INTERNAL__arn:aws:sagemaker:us-west-2:236514542706:image/sagemaker-data-science-310-v1"
  },
  "language_info": {
   "codemirror_mode": {
    "name": "ipython",
    "version": 3
   },
   "file_extension": ".py",
   "mimetype": "text/x-python",
   "name": "python",
   "nbconvert_exporter": "python",
   "pygments_lexer": "ipython3",
   "version": "3.10.6"
  },
  "vscode": {
   "interpreter": {
    "hash": "a8534c14445fc6cdc3039d8140510d6736e5b4960d89f445a45d8db6afd8452b"
   }
  }
 },
 "nbformat": 4,
 "nbformat_minor": 5
}
