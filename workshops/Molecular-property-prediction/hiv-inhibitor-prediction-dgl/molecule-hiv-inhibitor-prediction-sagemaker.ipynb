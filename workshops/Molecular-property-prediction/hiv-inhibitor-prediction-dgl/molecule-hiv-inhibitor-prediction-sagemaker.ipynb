{
 "cells": [
  {
   "cell_type": "markdown",
   "metadata": {},
   "source": [
    "# HIV Inhibitor Prediction Using Graph Neural Networks (GNN) on Amazon SageMaker\n",
    "\n",
    "## Learning Objectives\n",
    "\n",
    "    * Understand the basics of Graph Neural Networks and how they can be applied to molecular graphs\n",
    "    * Learn how to use the Deep Graph Library\n",
    "    * Understand how to build, train, and deploy a DGL-model on SageMaker\n",
    "    * Hyperparameter Tuning of deep-learning models.\n",
    "    * Using Bring-Your-Own Script with SageMaker for training custom models\n",
    "    * Use SageMaker Experiments to track experiment results\n",
    "\n",
    "\n",
    "## Introduction :\n",
    "\n",
    "Human immunodeficiency virus type 1 (HIV-1) is the most common cause of Acquired Immunodeficiency Syndrome (AIDS), and an ongoing area of research is to determine compounds that inhibit HIV-1 viral replication.  Schematically, this is shown below as:\n",
    "\n",
    "![Inhibitor](img/1.jpg)\n",
    "<div style=\"text-align: center\">\n",
    "<font size=1> \n",
    "Image Source : Biological evaluation of molecules of the azaBINOL class as antiviral agents (https://www.sciencedirect.com/science/article/abs/pii/S0968089619306704)\n",
    " </font>\n",
    "</div>\n",
    "\n",
    "<br/>\n",
    "<br/>\n",
    "<br/>\n",
    "\n",
    "\n",
    "\n",
    "### Why is Deep Learning being applied to biological networks?\n",
    "\n",
    "If you are familiar with classical network analysis, you probably encountered various measures around graphs, such as the [betweenness centrality](https://en.wikipedia.org/wiki/Betweenness_centrality), the [degree centrality](https://en.wikipedia.org/wiki/Centrality#Degree_centrality), or methods for analyzing networks, such as [random walk with restart](https://towardsdatascience.com/random-walks-with-restart-explained-77c3fe216bca). These methods have been used in the past for doing things like calculating properties of nodes, analyzing networks, or analyzing groups of disease [genes.](https://pubmed.ncbi.nlm.nih.gov/18371930/) However, many such methods that rely on these types of centralities suffer from the fact that they are **transductive,** which means that they can only be used for generating features for a particular graph. Thus, doing calculations such as edge prediction or graph classification, where many different graphs are used,  may be difficult. See [this](https://arxiv.org/abs/1706.02216) paper for further discussion of this issue.\n",
    "\n",
    "(A quick note on nomenclature: we use the term “graphs\" to refer to biological networks; we reserve the term \"network\" for a neural network. Although it is common in the computational biology field to refer to biological graphs as networks, in the deep learning field, \"network\" refers almost exclusively to a neural network).\n",
    "\n",
    "One of the key ideas behind applying deep learning to graphs is that [convolution neural networks,](https://www.d2l.ai/chapter_convolutional-neural-networks/index.html) commonly used in computer vision, can with certain modifications also be used in the context of analyzing graphs. Convolutions, among other properties, allow for **inductive** learning, whereby features can be learned for different graph topologies.  These convolutions thus transform the underlying information in the graph nodes and edges. While a single convolutional layer is generally not sufficient for most tasks, many different convolutions can be combined to form a deep graph convolutional neural network. By using layers of graph convolutions, you can build complex neural networks that can do graph prediction (i.e., predict the class of a network), link prediction (predict missing edges in a network), as well as many other tasks. \n",
    "\n",
    "With deep learning models, it is also possible to incorporate different edge types as well as external information about edges and nodes. This makes deep learning an attractive approach for analyzing and making predictions about graphs, since biological networks are frequently very heterogeneous, with diverse datasets, such as metabolic, biophysical, proteomic and functional assays, and gene regulatory networks. For example, [this](https://www.amazon.science/blog/amazon-web-services-open-sources-biological-knowledge-graph-to-fight-covid-19) blog post shows how a knowledge graph with diverse node and edge types to predict drug repurposing.\n",
    "\n",
    "While of course researchers can create their own convolutional layers, deep learning researchers have already built many convolutions and architectures that have proven useful in many applications. For example, [GraphSage](https://arxiv.org/pdf/1706.02216.pdf) can be used for predicting protein-protein interactions. Another commonly used approach is [Graph Attention Networks](https://arxiv.org/pdf/1710.10903.pdf) (GAT).\n",
    "\n",
    "For a deeper overview of deep graph learning, and how it is being used to analyze biological data, see [this](https://academic.oup.com/bib/article/22/2/1515/5964185) review paper. You may also find [this](http://snap.stanford.edu/deepnetbio-ismb/) tutorial useful.\n",
    "\n",
    "### What is the Deep Graph Library (DGL)? When Should you Use it?\n",
    "\n",
    "Simply put, Deep Graph Library (DGL) allows researches and developers to easily and quickly apply deep graph learning approaches to their data by abstracting away much of the difficult deep learning work and code.  The DGL library comes with a number of prebuilt layers, so that researchers don’t have to reimplement these themselves. For example, [this](https://docs.dgl.ai/generated/dgl.nn.pytorch.conv.SAGEConv.html#dgl.nn.pytorch.conv.SAGEConv) page shows the method call within DGL for using the GraphSage convolution, while [this](https://docs.dgl.ai/generated/dgl.nn.pytorch.conv.GATConv.html#dgl.nn.pytorch.conv.GATConv) page shows the method call for GAT. You can take a look at the many other convolutions DGL already has [here](https://docs.dgl.ai/api/python/nn-pytorch.html). Of course, you have the flexibility to create your own layers and architectures as well.  \n",
    "\n",
    "Furthermore, the [DGL-LifeScience](https://lifesci.dgl.ai/index.html) python package provides an even further abstraction of DGL, so that computational biologists, biochemists, and bioinformaticians who wish to leverage deep graph methods can easily do so for certain common use cases and performing common operations in the context of analyzing small and large molecules. If you want to learn more about how to use the DGL library, we recommend getting started with [this](https://docs.dgl.ai/en/0.6.x/guide/graph.html) tutorial.\n",
    "\n",
    "\n",
    "## Notebook Overview\n",
    "\n",
    "This example notebook focuses on training multiple Graph neural network models using Deep Graph Library and deploying it using Amazon SageMaker, which is a  comprehensive and fully managed machine learning service. With SageMaker, data scientists and developers can quickly and easily build and train machine learning models, and then directly deploy them into a production-ready hosted environment. \n",
    "\n",
    "**Note:** Please select the Kernel as Python 3 (Pytorch 1.6 Python 3.6 CPU Optimized).\n",
    "\n"
   ]
  },
  {
   "cell_type": "markdown",
   "metadata": {},
   "source": [
    "### Setup"
   ]
  },
  {
   "cell_type": "markdown",
   "metadata": {},
   "source": [
    "Let's start by installing dgl libraries latest sagemaker version and importinn some Python libraries."
   ]
  },
  {
   "cell_type": "code",
   "execution_count": null,
   "metadata": {},
   "outputs": [],
   "source": [
    "%pip install --quiet dgl\n",
    "%pip install --quiet dgllife\n",
    "%pip install -U --quiet sagemaker==\"2.75.1\"\n",
    "%pip install --quiet rdkit-pypi"
   ]
  },
  {
   "cell_type": "code",
   "execution_count": null,
   "metadata": {},
   "outputs": [],
   "source": [
    "from functools import partial\n",
    "import numpy as np\n",
    "import torch\n",
    "import torch.nn as nn\n",
    "import pandas as pd\n",
    "\n",
    "import dgl\n",
    "\n",
    "from dgllife.model import load_pretrained\n",
    "from dgllife.utils import smiles_to_bigraph, EarlyStopping, Meter, CanonicalAtomFeaturizer, CanonicalBondFeaturizer\n",
    "from functools import partial\n",
    "from torch.optim import Adam\n",
    "from torch.utils.data import DataLoader\n",
    "\n",
    "from dgllife.data import HIV\n",
    "\n",
    "import rdkit\n",
    "from rdkit import Chem\n",
    "from rdkit.Chem import Draw"
   ]
  },
  {
   "cell_type": "code",
   "execution_count": 4,
   "metadata": {},
   "outputs": [
    {
     "data": {
      "text/plain": [
       "'2021.09.4'"
      ]
     },
     "execution_count": 4,
     "metadata": {},
     "output_type": "execute_result"
    }
   ],
   "source": [
    "rdkit.__version__"
   ]
  },
  {
   "cell_type": "code",
   "execution_count": 5,
   "metadata": {},
   "outputs": [],
   "source": [
    "node_featurizer = CanonicalAtomFeaturizer(atom_data_field='feat')\n",
    "edge_featurizer = None#CanonicalBondFeaturizer(bond_data_field='feat1')\n",
    "num_workers = 1\n",
    "split_ratio = \"0.7:0.2:0.1\""
   ]
  },
  {
   "cell_type": "markdown",
   "metadata": {},
   "source": [
    "### Dataset"
   ]
  },
  {
   "cell_type": "markdown",
   "metadata": {},
   "source": [
    "The Drug Therapeutics Program AIDS Antiviral Screen has tested the ability of 43,850 compounds to inhibit viral replication. You can read more about this dataset and the assays [here](https://wiki.nci.nih.gov/display/NCIDTPdata/AIDS+Antiviral+Screen+Data). The DGL library has a pre-processed version of this dataset where each compound is classified as either Confirmed Inactive (CI; labeled as 0) or Confirmed Moderately Active/Confirmed Active (CM,CA; labeled as 1). If you download and inspect the raw dataset from [here](https://moleculenet.org/datasets-1) (you can download a csv using [this](https://deepchemdata.s3-us-west-1.amazonaws.com/datasets/HIV.csv) link) you will see the data looks something like this:\n",
    "\n",
    "\n",
    "|smiles |activity |HIV_active |\n",
    "|---  |---  |---  |\n",
    "|CC(C)(CCC(=O)O)CCC(=O)O  |CI |0  |\n",
    "|O=C(O)Cc1ccc(SSc2ccc(CC(=O)O)cc2)cc1 |CM |1  |\n",
    "|O=C(O)c1ccccc1SSc1ccccc1C(=O)O |CI |0  |\n",
    "|CCCCCCCCCCCC(=O)Nc1ccc(SSc2ccc(NC(=O)CCCCCCCCCCC)cc2)cc1 |CI |0  | \n",
    "\n",
    "Since Confirmed Inactive compounds are labeled 0, while  Confirmed Moderately Active/Confirmed Active are labeled 1, this problem is a **graph classification problem**. Each molecule (which is described as a [SMILES](https://en.wikipedia.org/wiki/Simplified_molecular-input_line-entry_system) string) will be constructed as a graph, with the goal of classifying each molecule as either active or inactive. In this graph, each atom is a node, and an edge is a bond between two atoms. "
   ]
  },
  {
   "cell_type": "code",
   "execution_count": null,
   "metadata": {},
   "outputs": [],
   "source": [
    "dataset = HIV(smiles_to_graph=partial(smiles_to_bigraph, add_self_loop=True),\n",
    "                  node_featurizer=node_featurizer,\n",
    "                  edge_featurizer=edge_featurizer,\n",
    "                  n_jobs=num_workers)"
   ]
  },
  {
   "cell_type": "code",
   "execution_count": 7,
   "metadata": {},
   "outputs": [
    {
     "data": {
      "text/plain": [
       "dgllife.data.hiv.HIV"
      ]
     },
     "execution_count": 7,
     "metadata": {},
     "output_type": "execute_result"
    }
   ],
   "source": [
    "type(dataset)"
   ]
  },
  {
   "cell_type": "markdown",
   "metadata": {},
   "source": [
    "### Explore the dataset"
   ]
  },
  {
   "cell_type": "code",
   "execution_count": 8,
   "metadata": {},
   "outputs": [
    {
     "data": {
      "text/plain": [
       "(41127, 2)"
      ]
     },
     "execution_count": 8,
     "metadata": {},
     "output_type": "execute_result"
    }
   ],
   "source": [
    "dataset.df.shape"
   ]
  },
  {
   "cell_type": "code",
   "execution_count": 9,
   "metadata": {},
   "outputs": [
    {
     "data": {
      "text/html": [
       "<div>\n",
       "<style scoped>\n",
       "    .dataframe tbody tr th:only-of-type {\n",
       "        vertical-align: middle;\n",
       "    }\n",
       "\n",
       "    .dataframe tbody tr th {\n",
       "        vertical-align: top;\n",
       "    }\n",
       "\n",
       "    .dataframe thead th {\n",
       "        text-align: right;\n",
       "    }\n",
       "</style>\n",
       "<table border=\"1\" class=\"dataframe\">\n",
       "  <thead>\n",
       "    <tr style=\"text-align: right;\">\n",
       "      <th></th>\n",
       "      <th>smiles</th>\n",
       "      <th>HIV_active</th>\n",
       "    </tr>\n",
       "  </thead>\n",
       "  <tbody>\n",
       "    <tr>\n",
       "      <th>0</th>\n",
       "      <td>CCC1=[O+][Cu-3]2([O+]=C(CC)C1)[O+]=C(CC)CC(CC)...</td>\n",
       "      <td>0</td>\n",
       "    </tr>\n",
       "    <tr>\n",
       "      <th>1</th>\n",
       "      <td>C(=Cc1ccccc1)C1=[O+][Cu-3]2([O+]=C(C=Cc3ccccc3...</td>\n",
       "      <td>0</td>\n",
       "    </tr>\n",
       "    <tr>\n",
       "      <th>2</th>\n",
       "      <td>CC(=O)N1c2ccccc2Sc2c1ccc1ccccc21</td>\n",
       "      <td>0</td>\n",
       "    </tr>\n",
       "    <tr>\n",
       "      <th>3</th>\n",
       "      <td>Nc1ccc(C=Cc2ccc(N)cc2S(=O)(=O)O)c(S(=O)(=O)O)c1</td>\n",
       "      <td>0</td>\n",
       "    </tr>\n",
       "    <tr>\n",
       "      <th>4</th>\n",
       "      <td>O=S(=O)(O)CCS(=O)(=O)O</td>\n",
       "      <td>0</td>\n",
       "    </tr>\n",
       "    <tr>\n",
       "      <th>5</th>\n",
       "      <td>CCOP(=O)(Nc1cccc(Cl)c1)OCC</td>\n",
       "      <td>0</td>\n",
       "    </tr>\n",
       "    <tr>\n",
       "      <th>6</th>\n",
       "      <td>O=C(O)c1ccccc1O</td>\n",
       "      <td>0</td>\n",
       "    </tr>\n",
       "    <tr>\n",
       "      <th>7</th>\n",
       "      <td>CC1=C2C(=COC(C)C2C)C(O)=C(C(=O)O)C1=O</td>\n",
       "      <td>0</td>\n",
       "    </tr>\n",
       "    <tr>\n",
       "      <th>8</th>\n",
       "      <td>O=[N+]([O-])c1ccc(SSc2ccc([N+](=O)[O-])cc2[N+]...</td>\n",
       "      <td>0</td>\n",
       "    </tr>\n",
       "    <tr>\n",
       "      <th>9</th>\n",
       "      <td>O=[N+]([O-])c1ccccc1SSc1ccccc1[N+](=O)[O-]</td>\n",
       "      <td>0</td>\n",
       "    </tr>\n",
       "    <tr>\n",
       "      <th>10</th>\n",
       "      <td>CC(C)(CCC(=O)O)CCC(=O)O</td>\n",
       "      <td>0</td>\n",
       "    </tr>\n",
       "    <tr>\n",
       "      <th>11</th>\n",
       "      <td>O=C(O)Cc1ccc(SSc2ccc(CC(=O)O)cc2)cc1</td>\n",
       "      <td>1</td>\n",
       "    </tr>\n",
       "    <tr>\n",
       "      <th>12</th>\n",
       "      <td>O=C(O)c1ccccc1SSc1ccccc1C(=O)O</td>\n",
       "      <td>0</td>\n",
       "    </tr>\n",
       "    <tr>\n",
       "      <th>13</th>\n",
       "      <td>CCCCCCCCCCCC(=O)Nc1ccc(SSc2ccc(NC(=O)CCCCCCCCC...</td>\n",
       "      <td>0</td>\n",
       "    </tr>\n",
       "    <tr>\n",
       "      <th>14</th>\n",
       "      <td>Sc1cccc2c(S)cccc12</td>\n",
       "      <td>0</td>\n",
       "    </tr>\n",
       "  </tbody>\n",
       "</table>\n",
       "</div>"
      ],
      "text/plain": [
       "                                               smiles  HIV_active\n",
       "0   CCC1=[O+][Cu-3]2([O+]=C(CC)C1)[O+]=C(CC)CC(CC)...           0\n",
       "1   C(=Cc1ccccc1)C1=[O+][Cu-3]2([O+]=C(C=Cc3ccccc3...           0\n",
       "2                    CC(=O)N1c2ccccc2Sc2c1ccc1ccccc21           0\n",
       "3     Nc1ccc(C=Cc2ccc(N)cc2S(=O)(=O)O)c(S(=O)(=O)O)c1           0\n",
       "4                              O=S(=O)(O)CCS(=O)(=O)O           0\n",
       "5                          CCOP(=O)(Nc1cccc(Cl)c1)OCC           0\n",
       "6                                     O=C(O)c1ccccc1O           0\n",
       "7               CC1=C2C(=COC(C)C2C)C(O)=C(C(=O)O)C1=O           0\n",
       "8   O=[N+]([O-])c1ccc(SSc2ccc([N+](=O)[O-])cc2[N+]...           0\n",
       "9          O=[N+]([O-])c1ccccc1SSc1ccccc1[N+](=O)[O-]           0\n",
       "10                            CC(C)(CCC(=O)O)CCC(=O)O           0\n",
       "11               O=C(O)Cc1ccc(SSc2ccc(CC(=O)O)cc2)cc1           1\n",
       "12                     O=C(O)c1ccccc1SSc1ccccc1C(=O)O           0\n",
       "13  CCCCCCCCCCCC(=O)Nc1ccc(SSc2ccc(NC(=O)CCCCCCCCC...           0\n",
       "14                                 Sc1cccc2c(S)cccc12           0"
      ]
     },
     "execution_count": 9,
     "metadata": {},
     "output_type": "execute_result"
    }
   ],
   "source": [
    "dataset.df.head(15)"
   ]
  },
  {
   "cell_type": "markdown",
   "metadata": {},
   "source": [
    "* Dataset containes ~41K molecules in `smiles` format.\n",
    "* The `HIV_active` column (label) indicates that the molecule is a suitable HIV inhibitor or not. "
   ]
  },
  {
   "cell_type": "markdown",
   "metadata": {},
   "source": [
    "First, let's verify if there are any missing values in the dataset."
   ]
  },
  {
   "cell_type": "code",
   "execution_count": null,
   "metadata": {},
   "outputs": [],
   "source": [
    "dataset.df.info()"
   ]
  },
  {
   "cell_type": "code",
   "execution_count": 11,
   "metadata": {},
   "outputs": [
    {
     "data": {
      "text/plain": [
       "False"
      ]
     },
     "execution_count": 11,
     "metadata": {},
     "output_type": "execute_result"
    }
   ],
   "source": [
    "dataset.df.isnull().values.any()"
   ]
  },
  {
   "cell_type": "markdown",
   "metadata": {},
   "source": [
    "As you can see, there are `no` missing values in this dataset. Then let's explore the class distribution of the dataset."
   ]
  },
  {
   "cell_type": "code",
   "execution_count": 12,
   "metadata": {},
   "outputs": [
    {
     "data": {
      "text/plain": [
       "0    39684\n",
       "1     1443\n",
       "Name: HIV_active, dtype: int64"
      ]
     },
     "execution_count": 12,
     "metadata": {},
     "output_type": "execute_result"
    }
   ],
   "source": [
    "dataset.df['HIV_active'].value_counts()"
   ]
  },
  {
   "cell_type": "code",
   "execution_count": 13,
   "metadata": {},
   "outputs": [
    {
     "data": {
      "text/plain": [
       "<AxesSubplot:>"
      ]
     },
     "execution_count": 13,
     "metadata": {},
     "output_type": "execute_result"
    },
    {
     "data": {
      "image/png": "[encoded data removed]",
      "text/plain": [
       "<Figure size 432x288 with 1 Axes>"
      ]
     },
     "metadata": {
      "needs_background": "light"
     },
     "output_type": "display_data"
    }
   ],
   "source": [
    "dataset.df['HIV_active'].value_counts().plot(kind='bar')"
   ]
  },
  {
   "cell_type": "markdown",
   "metadata": {},
   "source": [
    "* Dataset is heavily imbalaced as there are only ~3% compounds screened as HIV inhibtiors."
   ]
  },
  {
   "cell_type": "markdown",
   "metadata": {},
   "source": [
    "### Explore Moleculular Properties (with RDKit)\n",
    "\n",
    "The [RDKit](https://www.rdkit.org/docs/cppapi/index.html) is an open-source cheminformatics toolkit. It includes a collection of standard cheminformatics functionality for molecule I/O, substructure searching, chemical reactions, coordinate generation (2D or 3D), fingerprinting, etc.\n",
    "\n",
    "We are going to use this library to explore the molecules (presented in smiles format) in the dataset. Following are few ramdomly selected molecules from the dataset visualized using RDKit\n",
    "\n"
   ]
  },
  {
   "cell_type": "code",
   "execution_count": 68,
   "metadata": {},
   "outputs": [
    {
     "data": {
      "image/png": "[encoded data removed]",
      "text/plain": [
       "<IPython.core.display.Image object>"
      ]
     },
     "execution_count": 68,
     "metadata": {},
     "output_type": "execute_result"
    }
   ],
   "source": [
    "random_molecule_start_index = 10\n",
    "\n",
    "sample_smiles = dataset.df['smiles'][random_molecule_start_index:random_molecule_start_index + 8].values\n",
    "sample_molecules = [Chem.MolFromSmiles(smile) for smile in sample_smiles]\n",
    "Draw.MolsToGridImage(sample_molecules, molsPerRow=4, subImgSize=(600, 600))"
   ]
  },
  {
   "cell_type": "markdown",
   "metadata": {},
   "source": [
    "* Let's look at a single molecule and explore the properties."
   ]
  },
  {
   "cell_type": "code",
   "execution_count": 15,
   "metadata": {},
   "outputs": [
    {
     "data": {
      "text/plain": [
       "'CC(C)(CCC(=O)O)CCC(=O)O'"
      ]
     },
     "execution_count": 15,
     "metadata": {},
     "output_type": "execute_result"
    }
   ],
   "source": [
    "sample_smiles[0]"
   ]
  },
  {
   "cell_type": "code",
   "execution_count": 16,
   "metadata": {},
   "outputs": [
    {
     "data": {
      "image/png": "[encoded data removed]",
      "text/plain": [
       "<rdkit.Chem.rdchem.Mol at 0x7f4e61594c60>"
      ]
     },
     "execution_count": 16,
     "metadata": {},
     "output_type": "execute_result"
    }
   ],
   "source": [
    "mol = sample_molecules[0]\n",
    "mol"
   ]
  },
  {
   "cell_type": "markdown",
   "metadata": {},
   "source": [
    "* Using the methods here we can further explore the features of the molecules.\n",
    "https://www.rdkit.org/docs/cppapi/classRDKit_1_1Atom.html"
   ]
  },
  {
   "cell_type": "code",
   "execution_count": 17,
   "metadata": {},
   "outputs": [
    {
     "name": "stdout",
     "output_type": "stream",
     "text": [
      "Total number of atoms in the molecule : 13\n"
     ]
    }
   ],
   "source": [
    "atoms = mol.GetAtoms()\n",
    "print(\"Total number of atoms in the molecule : {}\".format(len(atoms)))"
   ]
  },
  {
   "cell_type": "code",
   "execution_count": null,
   "metadata": {},
   "outputs": [],
   "source": [
    "molecule_features = []\n",
    "for atom in atoms:\n",
    "    atom_features = {}\n",
    "    atom_features['atomic_symbol'] = atom.GetSymbol()\n",
    "    atom_features['atomic_numbers'] = atom.GetAtomicNum()\n",
    "    atom_features['degree'] = atom.GetDegree()\n",
    "    atom_features['formal_charge'] = atom.GetFormalCharge()\n",
    "    atom_features['hybridization'] = atom.GetHybridization()\n",
    "    atom_features['is_aromatic'] = atom.GetIsAromatic()\n",
    "    molecule_features.append(atom_features)\n",
    "molecule_features"
   ]
  },
  {
   "cell_type": "markdown",
   "metadata": {},
   "source": [
    "* We can apply node-fearizer directly into the molecule like below and generate above results."
   ]
  },
  {
   "cell_type": "code",
   "execution_count": null,
   "metadata": {},
   "outputs": [],
   "source": [
    "atom_featurizer = CanonicalAtomFeaturizer(atom_data_field='feat')\n",
    "atom_featurizer(mol)"
   ]
  },
  {
   "cell_type": "code",
   "execution_count": 20,
   "metadata": {},
   "outputs": [
    {
     "data": {
      "text/plain": [
       "74"
      ]
     },
     "execution_count": 20,
     "metadata": {},
     "output_type": "execute_result"
    }
   ],
   "source": [
    "atom_featurizer.feat_size()"
   ]
  },
  {
   "cell_type": "markdown",
   "metadata": {},
   "source": [
    "We already have these embedded to our graph since we have used the node featurizer at the top. \n",
    "\n",
    "https://lifesci.dgl.ai/generated/dgllife.utils.CanonicalAtomFeaturizer.html\n",
    "\n",
    "Let's decode the graph associated to above index"
   ]
  },
  {
   "cell_type": "code",
   "execution_count": 21,
   "metadata": {},
   "outputs": [],
   "source": [
    "smiles, graphs, labels, masks = map(list, zip(*dataset))"
   ]
  },
  {
   "cell_type": "code",
   "execution_count": 22,
   "metadata": {},
   "outputs": [
    {
     "data": {
      "text/plain": [
       "'CC(C)(CCC(=O)O)CCC(=O)O'"
      ]
     },
     "execution_count": 22,
     "metadata": {},
     "output_type": "execute_result"
    }
   ],
   "source": [
    "smiles[random_molecule_start_index]"
   ]
  },
  {
   "cell_type": "code",
   "execution_count": 23,
   "metadata": {},
   "outputs": [
    {
     "data": {
      "text/plain": [
       "13"
      ]
     },
     "execution_count": 23,
     "metadata": {},
     "output_type": "execute_result"
    }
   ],
   "source": [
    "random_graph = graphs[random_molecule_start_index]\n",
    "\n",
    "random_graph.num_nodes()"
   ]
  },
  {
   "cell_type": "code",
   "execution_count": 24,
   "metadata": {},
   "outputs": [
    {
     "data": {
      "text/plain": [
       "37"
      ]
     },
     "execution_count": 24,
     "metadata": {},
     "output_type": "execute_result"
    }
   ],
   "source": [
    "random_graph.num_edges()"
   ]
  },
  {
   "cell_type": "code",
   "execution_count": 25,
   "metadata": {},
   "outputs": [
    {
     "data": {
      "text/plain": [
       "torch.Size([13, 74])"
      ]
     },
     "execution_count": 25,
     "metadata": {},
     "output_type": "execute_result"
    }
   ],
   "source": [
    "random_graph.ndata['feat'].shape"
   ]
  },
  {
   "cell_type": "code",
   "execution_count": 26,
   "metadata": {},
   "outputs": [
    {
     "data": {
      "text/plain": [
       "tensor([1., 0., 0., 0., 0., 0., 0., 0., 0., 0., 0., 0., 0., 0., 0., 0., 0., 0.,\n",
       "        0., 0., 0., 0., 0., 0., 0., 0., 0., 0., 0., 0., 0., 0., 0., 0., 0., 0.,\n",
       "        0., 0., 0., 0., 0., 0., 0., 0., 1., 0., 0., 0., 0., 0., 0., 0., 0., 0.,\n",
       "        0., 0., 0., 1., 0., 0., 0., 0., 0., 0., 0., 1., 0., 0., 0., 0., 0., 0.,\n",
       "        1., 0.])"
      ]
     },
     "execution_count": 26,
     "metadata": {},
     "output_type": "execute_result"
    }
   ],
   "source": [
    "random_graph.ndata['feat'][0, :]"
   ]
  },
  {
   "cell_type": "code",
   "execution_count": 27,
   "metadata": {},
   "outputs": [
    {
     "data": {
      "text/plain": [
       "tensor([0., 0., 1., 0., 0., 0., 0., 0., 0., 0., 0., 0., 0., 0., 0., 0., 0., 0.,\n",
       "        0., 0., 0., 0., 0., 0., 0., 0., 0., 0., 0., 0., 0., 0., 0., 0., 0., 0.,\n",
       "        0., 0., 0., 0., 0., 0., 0., 0., 1., 0., 0., 0., 0., 0., 0., 0., 0., 0.,\n",
       "        0., 1., 0., 0., 0., 0., 0., 0., 0., 0., 1., 0., 0., 0., 0., 0., 1., 0.,\n",
       "        0., 0.])"
      ]
     },
     "execution_count": 27,
     "metadata": {},
     "output_type": "execute_result"
    }
   ],
   "source": [
    "random_graph.ndata['feat'][1, :]"
   ]
  },
  {
   "cell_type": "markdown",
   "metadata": {},
   "source": [
    "Order of the atoms represented in the graph is different (This is a not an problem). "
   ]
  },
  {
   "cell_type": "markdown",
   "metadata": {},
   "source": [
    "### Split the dataset"
   ]
  },
  {
   "cell_type": "markdown",
   "metadata": {},
   "source": [
    "DGL-LifeSci provides interfaces to split your data for train, validation and test sets based on the strategy that you prefer. \n",
    "More details : https://lifesci.dgl.ai/api/utils.splitters.html\n",
    "\n",
    "We are going to use the Scaffold Splitter for this project. \n",
    "\n",
    "**ScaffoldSplitter**:\n",
    "\n",
    "Group molecules based on their scaffolds and sort groups based on their sizes. The groups are then split for k-fold cross validation.\n",
    "\n",
    "Same as usual k-fold splitting methods, each molecule will appear only once in the validation set among all folds. In addition, this method ensures that molecules with a same scaffold will be collectively in either the training set or the validation set for each fold. Scaffold splitting, rather than random splitting, is commonly used in chemoinformatics to ensure that molecules that are very similair to the training set also appear in the testing set."
   ]
  },
  {
   "cell_type": "code",
   "execution_count": null,
   "metadata": {},
   "outputs": [],
   "source": [
    "#Split the dataset\n",
    "from dgllife.utils import ScaffoldSplitter, RandomSplitter\n",
    "\n",
    "train_ratio, val_ratio, test_ratio = map(float, split_ratio.split(':'))\n",
    "\n",
    "train_set, val_set, test_set = ScaffoldSplitter.train_val_test_split(\n",
    "            dataset, frac_train=train_ratio, frac_val=val_ratio, frac_test=test_ratio,\n",
    "            scaffold_func='smiles')"
   ]
  },
  {
   "cell_type": "markdown",
   "metadata": {},
   "source": [
    "* Lets check the distribution of classes of train, validation, test datasets after the split."
   ]
  },
  {
   "cell_type": "code",
   "execution_count": 29,
   "metadata": {},
   "outputs": [
    {
     "data": {
      "text/plain": [
       "28788"
      ]
     },
     "execution_count": 29,
     "metadata": {},
     "output_type": "execute_result"
    }
   ],
   "source": [
    "len(train_set)"
   ]
  },
  {
   "cell_type": "code",
   "execution_count": null,
   "metadata": {},
   "outputs": [],
   "source": [
    "train_set.dataset.df.loc[train_set.indices]['HIV_active'].value_counts().plot(kind=\"bar\")"
   ]
  },
  {
   "cell_type": "code",
   "execution_count": 31,
   "metadata": {},
   "outputs": [
    {
     "data": {
      "text/plain": [
       "8226"
      ]
     },
     "execution_count": 31,
     "metadata": {},
     "output_type": "execute_result"
    }
   ],
   "source": [
    "len(val_set)"
   ]
  },
  {
   "cell_type": "code",
   "execution_count": null,
   "metadata": {},
   "outputs": [],
   "source": [
    "val_set.dataset.df.loc[val_set.indices]['HIV_active'].value_counts().plot(kind=\"bar\")"
   ]
  },
  {
   "cell_type": "code",
   "execution_count": 33,
   "metadata": {},
   "outputs": [
    {
     "data": {
      "text/plain": [
       "4113"
      ]
     },
     "execution_count": 33,
     "metadata": {},
     "output_type": "execute_result"
    }
   ],
   "source": [
    "len(test_set)"
   ]
  },
  {
   "cell_type": "code",
   "execution_count": null,
   "metadata": {},
   "outputs": [],
   "source": [
    "test_set.dataset.df.loc[test_set.indices]['HIV_active'].value_counts().plot(kind=\"bar\")"
   ]
  },
  {
   "cell_type": "markdown",
   "metadata": {},
   "source": [
    "* All three datasets (train, test, validation) follows the same data distrubtions in terms of class balance."
   ]
  },
  {
   "cell_type": "markdown",
   "metadata": {},
   "source": [
    "## Using DGL in Amazon Sagemaker with Pytorch backend."
   ]
  },
  {
   "cell_type": "markdown",
   "metadata": {},
   "source": [
    "#### Set up the environment and create the session\n",
    "\n",
    "Here we specify a bucket to use and the role that will be used for working with SageMaker. The session remembers our connection parameters to SageMaker.\n"
   ]
  },
  {
   "cell_type": "code",
   "execution_count": 35,
   "metadata": {},
   "outputs": [],
   "source": [
    "import sagemaker\n",
    "from sagemaker import get_execution_role\n",
    "\n",
    "role = get_execution_role()\n",
    "session = sagemaker.Session()\n",
    "bucket = session.default_bucket()\n",
    "\n",
    "s3_prefix = \"./hiv_inhibitor_prediction/sagemaker\""
   ]
  },
  {
   "cell_type": "markdown",
   "metadata": {},
   "source": [
    "### Upload Data to S3\n",
    "In order to accomodate model training on SageMaker we need to upload the data to s3 location. We are going to use the sagemaker.Session.upload_data function to upload our datasets to an S3 location. The return value inputs identifies the location -- we will use later when we start the training job."
   ]
  },
  {
   "cell_type": "code",
   "execution_count": 36,
   "metadata": {},
   "outputs": [],
   "source": [
    "dataset.df.to_csv(\"full.csv\", index=False)\n",
    "pd.DataFrame(train_set.indices, columns =[\"indices\"]).to_csv(\"train.csv\", index=False)\n",
    "pd.DataFrame(val_set.indices, columns =[\"indices\"]).to_csv(\"validation.csv\", index=False)"
   ]
  },
  {
   "cell_type": "code",
   "execution_count": 37,
   "metadata": {},
   "outputs": [],
   "source": [
    "input_full = session.upload_data(\n",
    "        path=\"full.csv\", bucket=bucket, key_prefix=s3_prefix\n",
    "    )\n",
    "\n",
    "input_train = session.upload_data(\n",
    "        path=\"train.csv\", bucket=bucket, key_prefix=s3_prefix\n",
    "    )\n",
    "input_val = session.upload_data(\n",
    "        path=\"validation.csv\", bucket=bucket, key_prefix=s3_prefix\n",
    "    )"
   ]
  },
  {
   "cell_type": "markdown",
   "metadata": {},
   "source": [
    "### Explore the model architectures to be used \n",
    "\n",
    "We are going to represent each of the modelcule as a graph. Each atom in the molecule would be a node within the graph. Hence the atom properties will be considered as node features after doing some transformations. Using these features we are going to classify the whole graph/molecule whether a it inhibits HIV virus replication or not using Graph neural networks (GNNs). In GNN terms this is considered as Graph classification problem.\n",
    "\n",
    "We are going to use above prebuilt model architecures (GCN, GAT) which comes with DGL-LifeSci to train the model."
   ]
  },
  {
   "cell_type": "markdown",
   "metadata": {},
   "source": [
    "\n",
    "**1. GCNPredictor** : \n",
    "\n",
    "Documentation : https://lifesci.dgl.ai/_modules/dgllife/model/model_zoo/gcn_predictor.html\n",
    "\n",
    "Code : https://github.com/awslabs/dgl-lifesci/blob/master/python/dgllife/model/model_zoo/gcn_predictor.py"
   ]
  },
  {
   "cell_type": "code",
   "execution_count": 38,
   "metadata": {},
   "outputs": [],
   "source": [
    "from dgllife.model import GCNPredictor\n",
    "import torch.nn.functional as F\n",
    "\n",
    "model = GCNPredictor(\n",
    "            in_feats=10,\n",
    "            hidden_feats=[10, 4],\n",
    "            activation=[F.relu, F.relu],\n",
    "            residual=[False] * 2\n",
    "            )"
   ]
  },
  {
   "cell_type": "code",
   "execution_count": 39,
   "metadata": {},
   "outputs": [
    {
     "data": {
      "text/plain": [
       "GCNPredictor(\n",
       "  (gnn): GCN(\n",
       "    (gnn_layers): ModuleList(\n",
       "      (0): GCNLayer(\n",
       "        (graph_conv): GraphConv(in=10, out=10, normalization=none, activation=<function relu at 0x7f4e630007b8>)\n",
       "        (dropout): Dropout(p=0.0, inplace=False)\n",
       "        (bn_layer): BatchNorm1d(10, eps=1e-05, momentum=0.1, affine=True, track_running_stats=True)\n",
       "      )\n",
       "      (1): GCNLayer(\n",
       "        (graph_conv): GraphConv(in=10, out=4, normalization=none, activation=<function relu at 0x7f4e630007b8>)\n",
       "        (dropout): Dropout(p=0.0, inplace=False)\n",
       "        (bn_layer): BatchNorm1d(4, eps=1e-05, momentum=0.1, affine=True, track_running_stats=True)\n",
       "      )\n",
       "    )\n",
       "  )\n",
       "  (readout): WeightedSumAndMax(\n",
       "    (weight_and_sum): WeightAndSum(\n",
       "      (atom_weighting): Sequential(\n",
       "        (0): Linear(in_features=4, out_features=1, bias=True)\n",
       "        (1): Sigmoid()\n",
       "      )\n",
       "    )\n",
       "  )\n",
       "  (predict): MLPPredictor(\n",
       "    (predict): Sequential(\n",
       "      (0): Dropout(p=0.0, inplace=False)\n",
       "      (1): Linear(in_features=8, out_features=128, bias=True)\n",
       "      (2): ReLU()\n",
       "      (3): BatchNorm1d(128, eps=1e-05, momentum=0.1, affine=True, track_running_stats=True)\n",
       "      (4): Linear(in_features=128, out_features=1, bias=True)\n",
       "    )\n",
       "  )\n",
       ")"
      ]
     },
     "execution_count": 39,
     "metadata": {},
     "output_type": "execute_result"
    }
   ],
   "source": [
    "model"
   ]
  },
  {
   "cell_type": "markdown",
   "metadata": {},
   "source": [
    "As you can see `GCNPredictor` architecture compised of multple layers of `gnn_layers` which itself comprised of DGL `GraphConv`."
   ]
  },
  {
   "cell_type": "markdown",
   "metadata": {},
   "source": [
    "## Training on SageMaker\n",
    "\n"
   ]
  },
  {
   "cell_type": "markdown",
   "metadata": {},
   "source": [
    "#### Training Script\n",
    "\n",
    "We are going to use Pytorch as the DGL backend. Our training script should save model artifacts learned during training to a file path called model_dir, as stipulated by the SageMaker PyTorch image. Upon completion of training, model artifacts saved in model_dir will be uploaded to S3 by SageMaker and will be used for deployment.\n",
    "\n",
    "We save this script in a file named train.py, and put the file in a directory named code/. The full training script can be viewed under code/.\n",
    "    \n",
    "    "
   ]
  },
  {
   "cell_type": "code",
   "execution_count": null,
   "metadata": {},
   "outputs": [],
   "source": [
    "!cat code/train.py"
   ]
  },
  {
   "cell_type": "markdown",
   "metadata": {},
   "source": [
    "#### Create an experiment\n",
    "\n",
    "When training with SageMaker it is a good idea to track all the trails that we do to come up with better model under a single colelction. Hence later we would be able compare each of the trails. That colelction is called SageMaker experiments."
   ]
  },
  {
   "cell_type": "code",
   "execution_count": null,
   "metadata": {},
   "outputs": [],
   "source": [
    "%pip install sagemaker-experiments --quiet"
   ]
  },
  {
   "cell_type": "code",
   "execution_count": null,
   "metadata": {},
   "outputs": [],
   "source": [
    "from smexperiments.experiment import Experiment\n",
    "\n",
    "experiment_name = \"HIV-Inhibitor-Prediction-Experiment\"\n",
    "\n",
    "try :\n",
    "    experiment = Experiment.load(experiment_name)\n",
    "except Exception as e:\n",
    "    if e.response['Error']['Code'] == \"ResourceNotFound\":\n",
    "        print(\"Experiment name [{}], does not exists. Hence creating.\".format(experiment_name))\n",
    "        experiment = Experiment.create(experiment_name = experiment_name,\n",
    "                                description = \"Experiment to track all the hiv inhibitr prediction trails.\")\n",
    "    else:\n",
    "        raise e\n",
    "experiment                               "
   ]
  },
  {
   "cell_type": "markdown",
   "metadata": {},
   "source": [
    "#### Define hyper parameters"
   ]
  },
  {
   "cell_type": "markdown",
   "metadata": {},
   "source": [
    "Next, let's define hyper parameters assocated with the model. As per training script we created above here are some of the hyper parameters that we can use to tune our model(s). One highlight here is that the model architecture is also given here as the hyper parameter which allows other model architecutures like GAT, MPNN. "
   ]
  },
  {
   "cell_type": "code",
   "execution_count": 43,
   "metadata": {},
   "outputs": [],
   "source": [
    "from sagemaker.pytorch import PyTorch\n",
    "import time\n",
    "\n",
    "hyperparameters={\n",
    "    # Feature Engineering\n",
    "    \"gnn-featurizer-type\": 'canonical',\n",
    "    \n",
    "    # Model Architecture\n",
    "    \"gnn-model-name\" : 'GCN-p',\n",
    "    \"gnn-residuals\" : False,\n",
    "    \"gnn-batchnorm\" : True,\n",
    "    \"gnn-dropout\" : 0.0013086019242321,\n",
    "    \"gnn-predictor-hidden-feats\" : 512,\n",
    "    \n",
    "    # Training\n",
    "    \"batch-size\" : 512,\n",
    "    \"epochs\" : 20,\n",
    "    \"learning-rate\" : 0.000508635928951698,\n",
    "    \"weight-decay\" : 0.0013253058161908312,\n",
    "    \"patience\" : 30\n",
    "}\n",
    "\n",
    "metric_definitions =[\n",
    "                   {'Name': 'train:roc_auc_score', 'Regex': 'training:roc_auc_score\\s\\[([0-9\\\\,.]+)\\]'},\n",
    "                   {'Name': 'validation:roc_auc_score', 'Regex': ',\\svalidation:roc_auc_score\\s\\[([0-9\\\\,.]+)\\]'},\n",
    "                   {'Name': 'best validation:roc_auc_score', 'Regex': 'best\\svalidation:roc_auc_score\\s\\[([0-9\\\\,.]+)\\]'},\n",
    "                   {'Name': 'epoch', 'Regex': 'epoch\\s\\[([0-9]+)\\]'},\n",
    "                   {'Name': 'train:loss', 'Regex': 'loss\\s\\[([0-9\\\\,.]+)\\]'}\n",
    "                ]\n",
    "\n"
   ]
  },
  {
   "cell_type": "markdown",
   "metadata": {},
   "source": [
    "#### Create trial\n",
    "\n",
    "From here onwards each model training that we are going to perform will be tracked under the experiement that we created above as a seperate trail."
   ]
  },
  {
   "cell_type": "code",
   "execution_count": 44,
   "metadata": {},
   "outputs": [],
   "source": [
    "trial_name = \"hiv-inhibitor-prediction-training-{}-{}\".format(hyperparameters[\"gnn-model-name\"], time.strftime(\"%m-%d-%Y-%H-%M-%S\"))\n",
    "trial = experiment.create_trial(trial_name=trial_name)"
   ]
  },
  {
   "cell_type": "markdown",
   "metadata": {},
   "source": [
    "### Train\n",
    "\n",
    "DGL expects a neural network runtime and supports all Tensorlow, Pytorch and MxNext as it's runtimes. For for this project we are going to use `Pytorch` as the backend.\n",
    "\n",
    "The Amazon SageMaker Python SDK makes it easier to run a PyTorch script in Amazon SageMaker using its PyTorch estimator. After that, we can use the SageMaker Python SDK to deploy the trained model and run predictions. For more information on how to use this SDK with PyTorch, see the SageMaker Python SDK documentation.\n",
    "\n",
    "To start, we use the PyTorch estimator class to train our model. When creating our estimator, we make sure to specify a few things:\n",
    "\n",
    "* `entry_point`: the name of our PyTorch script. It contains our training script, which loads data from the input channels, configures training with hyperparameters, trains a model, and saves a model. It also contains code to load and run the model during inference.\n",
    "\n",
    "* `source_dir`: the location of our training scripts and requirements.txt file. \"requirements.txt\" lists packages you want to use with your script.\n",
    "\n",
    "* `framework_version`: the PyTorch version we want to use.\n",
    "The PyTorch estimator supports both single-machine & multi-machine, distributed PyTorch training using SMDataParallel"
   ]
  },
  {
   "cell_type": "code",
   "execution_count": null,
   "metadata": {},
   "outputs": [],
   "source": [
    "training_job_name = \"tr-{}\".format(trial_name) \n",
    "print('Training job name: ', training_job_name)\n",
    "\n",
    "estimator = PyTorch(\n",
    "    entry_point = \"train.py\",\n",
    "    source_dir = \"code\",\n",
    "    role = role,\n",
    "    framework_version = \"1.9.0\",\n",
    "    py_version=\"py38\",\n",
    "    instance_count=1,\n",
    "    instance_type=\"ml.p3.2xlarge\",\n",
    "    debugger_hook_config=False,\n",
    "    disable_profiler=True,\n",
    "    hyperparameters = hyperparameters,\n",
    "    metric_definitions=metric_definitions\n",
    ")\n",
    "\n",
    "estimator.fit({\"data_full\" : input_full, \"data_train\" : input_train, \"data_val\" : input_val}, \n",
    "              job_name = training_job_name,\n",
    "             experiment_config = {\n",
    "                    # \"ExperimentName\"\n",
    "                    \"TrialName\" : trial.trial_name,\n",
    "                    \"TrialComponentDisplayName\" : \"TrainingJob\",\n",
    "                })"
   ]
  },
  {
   "cell_type": "markdown",
   "metadata": {},
   "source": [
    "### Training results :"
   ]
  },
  {
   "cell_type": "markdown",
   "metadata": {},
   "source": [
    "* As you can see with the initial training here we get about 76% AUC value. How the metrics like training loss, validation loss and roc score changed over the time can be viewed on the SageMaker experiements."
   ]
  },
  {
   "cell_type": "markdown",
   "metadata": {},
   "source": [
    "Before, we deploy the model to an endpoint, let's see the where the model trained arffacts are stored in S3.\n"
   ]
  },
  {
   "cell_type": "code",
   "execution_count": 46,
   "metadata": {},
   "outputs": [
    {
     "name": "stdout",
     "output_type": "stream",
     "text": [
      "Stored s3://sagemaker-us-east-1-111918798052/tr-hiv-inhibitor-prediction-training-GCN-p-11-01-2022-14-48-05/output/model.tar.gz as model_data\n"
     ]
    }
   ],
   "source": [
    "#model_data='s3://sagemaker-us-west-2-431678540810/tr-hiv-inhibitor-prediction-training-GCN-p-02-27-2022-22-25-51/output/model.tar.gz'\n",
    "model_data = estimator.model_data\n",
    "print(\"Stored {} as model_data\".format(model_data))"
   ]
  },
  {
   "cell_type": "markdown",
   "metadata": {},
   "source": [
    "## Deploy the model on Amazon SageMaker\n",
    "After training our model, we host it on an Amazon SageMaker Endpoint. To make the endpoint load the model and serve predictions, we implement a few methods in inference.py.\n",
    "\n",
    "* `model_fn()`: function defined to load the saved model and return a model object that can be used for model serving. The SageMaker PyTorch model server loads our model by invoking model_fn.\n",
    "* `input_fn()`: deserializes and prepares the prediction input. In this example, our request body is first serialized to JSON and within the JSON it expects the `smiles` of the molecules that needs to be predicted. The input of smiles first converts graph using DGL and then add the features to each node using the same featurizer used at the time of training. Then the graph with features is returned by this function which is the requested format by the model. \n",
    "* `predict_fn()`: performs the prediction and returns the result. To deploy our endpoint, we call deploy() on our PyTorch estimator object, passing in our desired number of instances and instance type:"
   ]
  },
  {
   "cell_type": "code",
   "execution_count": 47,
   "metadata": {},
   "outputs": [
    {
     "name": "stdout",
     "output_type": "stream",
     "text": [
      "Endpoint name:  HIV-Inhibitor-Prediction-EP-11-01-2022-15-02-09\n"
     ]
    }
   ],
   "source": [
    "from sagemaker.pytorch import PyTorchModel\n",
    "\n",
    "endpoint_name = \"HIV-Inhibitor-Prediction-EP-{}\".format(time.strftime(\"%m-%d-%Y-%H-%M-%S\"))\n",
    "print(\"Endpoint name: \", endpoint_name)\n",
    "\n",
    "model = PyTorchModel(model_data=model_data, source_dir='code',\n",
    "                        entry_point='inference.py', role=role, framework_version=\"1.9.0\", py_version='py38')\n",
    "\n"
   ]
  },
  {
   "cell_type": "code",
   "execution_count": 48,
   "metadata": {},
   "outputs": [
    {
     "name": "stderr",
     "output_type": "stream",
     "text": [
      "INFO:sagemaker:Creating model with name: pytorch-inference-2022-11-01-15-02-10-632\n",
      "INFO:sagemaker:Creating endpoint-config with name HIV-Inhibitor-Prediction-EP-11-01-2022-15-02-09\n",
      "INFO:sagemaker:Creating endpoint with name HIV-Inhibitor-Prediction-EP-11-01-2022-15-02-09\n"
     ]
    },
    {
     "name": "stdout",
     "output_type": "stream",
     "text": [
      "------!"
     ]
    }
   ],
   "source": [
    "predictor = model.deploy(initial_instance_count=1, instance_type=\"ml.c5.xlarge\", endpoint_name=endpoint_name)"
   ]
  },
  {
   "cell_type": "markdown",
   "metadata": {},
   "source": [
    "## Predicting test_set with the endpoint :\n",
    "\n",
    "As our newly created endpoint expects the smiles as the input let's get the all the smiles of the test_set. We can use followng function for that."
   ]
  },
  {
   "cell_type": "code",
   "execution_count": 49,
   "metadata": {},
   "outputs": [],
   "source": [
    "def collate_molgraphs(data):\n",
    "    \"\"\"Batching a list of datapoints for dataloader.\n",
    "    Parameters\n",
    "    ----------\n",
    "    data : list of 4-tuples.\n",
    "        Each tuple is for a single datapoint, consisting of\n",
    "        a SMILES, a DGLGraph, all-task labels and optionally a binary\n",
    "        mask indicating the existence of labels.\n",
    "    Returns\n",
    "    -------\n",
    "    smiles : list\n",
    "        List of smiles\n",
    "    bg : DGLGraph\n",
    "        The batched DGLGraph.\n",
    "    labels : Tensor of dtype float32 and shape (B, T)\n",
    "        Batched datapoint labels. B is len(data) and\n",
    "        T is the number of total tasks.\n",
    "    masks : Tensor of dtype float32 and shape (B, T)\n",
    "        Batched datapoint binary mask, indicating the\n",
    "        existence of labels.\n",
    "    \"\"\"\n",
    "\n",
    "    smiles, graphs, labels, masks = map(list, zip(*data))\n",
    "    \n",
    "    bg = dgl.batch(graphs)\n",
    "    bg.set_n_initializer(dgl.init.zero_initializer)\n",
    "    bg.set_e_initializer(dgl.init.zero_initializer)\n",
    "    labels = torch.stack(labels, dim=0)\n",
    "    masks = torch.stack(masks, dim=0)\n",
    "\n",
    "    return smiles, bg, labels, masks"
   ]
  },
  {
   "cell_type": "markdown",
   "metadata": {},
   "source": [
    "Using that function let's get all the smiles in the test set."
   ]
  },
  {
   "cell_type": "code",
   "execution_count": 50,
   "metadata": {},
   "outputs": [],
   "source": [
    "test_smiles, bg, test_labels, masks = collate_molgraphs(test_set)"
   ]
  },
  {
   "cell_type": "markdown",
   "metadata": {},
   "source": [
    "### Predicting for a single molecule :\n",
    "\n",
    "Let's use single molecule from the test set and predict the probability of its beeing and inhibitor using the newly created endpoint above. Here is a randomly selected molecule. "
   ]
  },
  {
   "cell_type": "code",
   "execution_count": 51,
   "metadata": {},
   "outputs": [
    {
     "data": {
      "image/png": "[encoded data removed]",
      "text/plain": [
       "<rdkit.Chem.rdchem.Mol at 0x7f4e2de14580>"
      ]
     },
     "execution_count": 51,
     "metadata": {},
     "output_type": "execute_result"
    }
   ],
   "source": [
    "mol = Chem.MolFromSmiles(test_smiles[110])\n",
    "mol"
   ]
  },
  {
   "cell_type": "markdown",
   "metadata": {},
   "source": [
    "Let's send this molecule data as JSON format to the endpoint and get the results."
   ]
  },
  {
   "cell_type": "code",
   "execution_count": 52,
   "metadata": {},
   "outputs": [],
   "source": [
    "from sagemaker.predictor import Predictor\n",
    "\n",
    "predictor = Predictor(endpoint_name=endpoint_name)\n",
    "\n",
    "predictor.serializer = sagemaker.serializers.JSONSerializer()\n",
    "predictor.deserializer = sagemaker.deserializers.JSONDeserializer()"
   ]
  },
  {
   "cell_type": "code",
   "execution_count": 53,
   "metadata": {},
   "outputs": [
    {
     "data": {
      "text/plain": [
       "[-5.051063060760498]"
      ]
     },
     "execution_count": 53,
     "metadata": {},
     "output_type": "execute_result"
    }
   ],
   "source": [
    "json = {\n",
    "    \"smiles\" : \n",
    "        [test_smiles[110]]\n",
    "}\n",
    "\n",
    "prediction_logits = predictor.predict(json)\n",
    "prediction_logits"
   ]
  },
  {
   "cell_type": "markdown",
   "metadata": {},
   "source": [
    "This had returned the logit value of above molecule beeing considered as an inhibitor."
   ]
  },
  {
   "cell_type": "markdown",
   "metadata": {},
   "source": [
    "### Predicting for a for whole test_set :\n"
   ]
  },
  {
   "cell_type": "code",
   "execution_count": 54,
   "metadata": {},
   "outputs": [],
   "source": [
    "json = {\n",
    "    \"smiles\" : \n",
    "        test_smiles\n",
    "}\n",
    "\n",
    "prediction_logits = predictor.predict(json)"
   ]
  },
  {
   "cell_type": "markdown",
   "metadata": {},
   "source": [
    "### Examine the test results "
   ]
  },
  {
   "cell_type": "code",
   "execution_count": 55,
   "metadata": {},
   "outputs": [
    {
     "data": {
      "text/plain": [
       "0.7127986249251627"
      ]
     },
     "execution_count": 55,
     "metadata": {},
     "output_type": "execute_result"
    }
   ],
   "source": [
    "from sklearn.metrics import roc_curve, roc_auc_score\n",
    "import matplotlib.pyplot as plt \n",
    "\n",
    "roc_auc_score(test_labels[:,0].numpy(), np.asarray(prediction_logits))"
   ]
  },
  {
   "cell_type": "markdown",
   "metadata": {},
   "source": [
    "* We get the ROC/AUC score for test set with the initial model aroinf 0.75.\n",
    "* Below is the ROC Curve"
   ]
  },
  {
   "cell_type": "code",
   "execution_count": 56,
   "metadata": {},
   "outputs": [
    {
     "data": {
      "image/png": "[encoded data removed]",
      "text/plain": [
       "<Figure size 432x288 with 1 Axes>"
      ]
     },
     "metadata": {
      "needs_background": "light"
     },
     "output_type": "display_data"
    }
   ],
   "source": [
    "fpr, tpr, _ = roc_curve(test_labels[:,0].numpy(), np.asarray(prediction_logits))\n",
    "\n",
    "plt.plot(fpr, tpr)\n",
    "plt.title(\"ROC Plot\")\n",
    "plt.xlabel(\"False Positive Rate\")\n",
    "plt.ylabel(\"True Positive Rate\")\n",
    "plt.show()"
   ]
  },
  {
   "cell_type": "markdown",
   "metadata": {},
   "source": [
    "## Hyper parameter tunning \n",
    "\n",
    "So far we have trained a single model with fixed hyper parameters. Next lets try to further optimize the model by trying out different hyper-parameters. We can use [Amazon SageMaker Hyper-parameter tuner](https://docs.aws.amazon.com/sagemaker/latest/dg/automatic-model-tuning-how-it-works.html) for this purpose."
   ]
  },
  {
   "cell_type": "code",
   "execution_count": null,
   "metadata": {},
   "outputs": [],
   "source": [
    "from sagemaker.tuner import (\n",
    "    IntegerParameter,\n",
    "    CategoricalParameter,\n",
    "    ContinuousParameter,\n",
    "    HyperparameterTuner,\n",
    ")\n",
    "gcn_hyperparameter_ranges = {\n",
    "    \n",
    "    \"gnn-dropout\": ContinuousParameter(0.001 , 0.003),\n",
    "    \"gnn-predictor-hidden-feats\" : CategoricalParameter([128, 256, 512]),\n",
    "    \n",
    "    \"batch-size\" :  CategoricalParameter([256, 512]),\n",
    "    \"learning-rate\" : ContinuousParameter(0.0001, 0.001),\n",
    "    \"weight-decay\" : ContinuousParameter(0.001, 0.01)\n",
    "    \n",
    "}\n",
    "\n",
    "objective_metric_name = \"best validation:roc_auc_score\"\n",
    "\n",
    "gcn_estimator = PyTorch(\n",
    "    entry_point = \"train.py\",\n",
    "    source_dir = \"code\",\n",
    "    role = role,\n",
    "    framework_version = \"1.9.0\",\n",
    "    py_version=\"py38\",\n",
    "    instance_count=1,\n",
    "    instance_type=\"ml.g4dn.4xlarge\",\n",
    "    debugger_hook_config=False,\n",
    "    disable_profiler=True\n",
    ")\n",
    "\n",
    "gcn_tuner = HyperparameterTuner(\n",
    "    gcn_estimator,\n",
    "    objective_metric_name,\n",
    "    gcn_hyperparameter_ranges,\n",
    "    metric_definitions,\n",
    "    max_jobs=1,\n",
    "    max_parallel_jobs=1\n",
    ")\n",
    "\n",
    "hyper_parameter_job_name = \"hpo-hiv-gcn-p-{}\".format(time.strftime(\"%m-%d-%H-%M-%S\")) \n",
    "print('Training job name: ', hyper_parameter_job_name)\n",
    "\n",
    "gcn_tuner.fit({\"data_full\" : input_full, \"data_train\" : input_train, \"data_val\" : input_val}, job_name = hyper_parameter_job_name)\n"
   ]
  },
  {
   "cell_type": "code",
   "execution_count": 60,
   "metadata": {},
   "outputs": [],
   "source": [
    "# if the notebook lost it's connection, you can attach the tunner job by attaching the name below.\n",
    "#gcn_tuner = HyperparameterTuner.attach(\"hpo-hiv-gcn-p-03-16-02-38-07\")\n"
   ]
  },
  {
   "cell_type": "markdown",
   "metadata": {},
   "source": [
    "Let's examine the best model and it's hyper parameters."
   ]
  },
  {
   "cell_type": "code",
   "execution_count": null,
   "metadata": {},
   "outputs": [],
   "source": [
    "import boto3\n",
    "\n",
    "smclient = boto3.client(\"sagemaker\")\n",
    "\n",
    "best_overall_training_job = smclient.describe_hyper_parameter_tuning_job(\n",
    "    HyperParameterTuningJobName=hyper_parameter_job_name\n",
    ")\n",
    "\n",
    "best_overall_training_job[\"BestTrainingJob\"]"
   ]
  },
  {
   "cell_type": "code",
   "execution_count": 62,
   "metadata": {},
   "outputs": [
    {
     "name": "stdout",
     "output_type": "stream",
     "text": [
      "\n",
      "2022-11-01 15:38:47 Starting - Preparing the instances for training\n",
      "2022-11-01 15:38:47 Downloading - Downloading input data\n",
      "2022-11-01 15:38:47 Training - Training image download completed. Training in progress.\n",
      "2022-11-01 15:38:47 Uploading - Uploading generated training model\n",
      "2022-11-01 15:38:47 Completed - Resource retained for reuse\n"
     ]
    }
   ],
   "source": [
    "best_gcn_training_job = sagemaker.estimator.Estimator.attach(best_overall_training_job[\"BestTrainingJob\"][\"TrainingJobName\"])"
   ]
  },
  {
   "cell_type": "code",
   "execution_count": null,
   "metadata": {},
   "outputs": [],
   "source": [
    "best_gcn_model = PyTorchModel(model_data=best_gcn_training_job.model_data, source_dir='code',\n",
    "                        entry_point='inference.py', role=role, framework_version=\"1.9.0\", py_version='py38')\n",
    "\n",
    "best_gcn_predictor = best_gcn_model.deploy(initial_instance_count=1, instance_type=\"ml.c5.xlarge\", endpoint_name=\"best-gcn-\" + endpoint_name)"
   ]
  },
  {
   "cell_type": "code",
   "execution_count": 64,
   "metadata": {},
   "outputs": [
    {
     "data": {
      "text/plain": [
       "0.7573688174742657"
      ]
     },
     "execution_count": 64,
     "metadata": {},
     "output_type": "execute_result"
    }
   ],
   "source": [
    "best_gcn_predictor.serializer = sagemaker.serializers.JSONSerializer()\n",
    "best_gcn_predictor.deserializer = sagemaker.deserializers.JSONDeserializer()\n",
    "\n",
    "json = {\n",
    "    \"smiles\" : \n",
    "        test_smiles\n",
    "}\n",
    "\n",
    "prediction_logits = best_gcn_predictor.predict(json)\n",
    "roc_auc_score(test_labels[:,0].numpy(), np.asarray(prediction_logits))"
   ]
  },
  {
   "cell_type": "markdown",
   "metadata": {},
   "source": [
    "## Clean up \n",
    "\n",
    "Lastly, please remember to delete the Amazon SageMaker endpoint to avoid charges:"
   ]
  },
  {
   "cell_type": "code",
   "execution_count": null,
   "metadata": {},
   "outputs": [],
   "source": [
    "best_gcn_predictor.delete_endpoint()"
   ]
  },
  {
   "cell_type": "code",
   "execution_count": null,
   "metadata": {},
   "outputs": [],
   "source": [
    "predictor.delete_endpoint()"
   ]
  },
  {
   "cell_type": "code",
   "execution_count": null,
   "metadata": {},
   "outputs": [],
   "source": []
  }
 ],
 "metadata": {
  "instance_type": "ml.t3.medium",
  "kernelspec": {
   "display_name": "Python 3 (PyTorch 1.6 Python 3.6 CPU Optimized)",
   "language": "python",
   "name": "python3__SAGEMAKER_INTERNAL__arn:aws:sagemaker:us-east-1:081325390199:image/pytorch-1.6-cpu-py36-ubuntu16.04-v1"
  },
  "language_info": {
   "codemirror_mode": {
    "name": "ipython",
    "version": 3
   },
   "file_extension": ".py",
   "mimetype": "text/x-python",
   "name": "python",
   "nbconvert_exporter": "python",
   "pygments_lexer": "ipython3",
   "version": "3.6.13"
  }
 },
 "nbformat": 4,
 "nbformat_minor": 4
}
