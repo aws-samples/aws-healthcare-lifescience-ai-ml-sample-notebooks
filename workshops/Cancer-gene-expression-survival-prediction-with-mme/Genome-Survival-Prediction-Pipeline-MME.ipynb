{
 "cells": [
  {
   "cell_type": "markdown",
   "id": "9e9ea171-e1c5-4877-a71d-4adeac97b89e",
   "metadata": {},
   "source": [
    "# Build and Deploy Many Models Leveraging Cancer Gene Expression Data With SageMaker Pipelines and SageMaker Multi-Model Endpoints\n",
    "\n",
    "When building machine learning models that leverage genomic data, a key problem is how to allow users to select which features should be used when querying models. To address this,data scientists will sometimes build multiple models to handle specific sub-problems within the dataset. In the context of survival analysis for cancer, a common approach is to analyze gene signatures, and to predict the survival of patients based on the gene expression signatures. See [here](https://www.nature.com/articles/s41598-021-84787-5) for a an example of such an approach in the context of a number of different cancer types. See also [this](https://pubmed.ncbi.nlm.nih.gov/31296308/) review, which discusses different techniques to perform survival analysis.\n",
    "\n",
    "A problem that may occur is that, should an application require publishing models based on many hundreds or thousands of gene signatures, managing and deploying all such models may become difficult to maintain and thus unweildly. In this blog post, we show how you can leverage SageMaker Pipelines and SageMaker MultiModel Endpoints to build and deploy many such models. \n",
    "\n",
    "To give a specific example, we will leverage the sample cancer RNA expression dataset discussed in the paper [Non-Small Cell Lung Cancer Radiogenomics Map Identifies Relationships between Molecular and Imaging Phenotypes with Prognostic Implications](https://pubmed.ncbi.nlm.nih.gov/28727543/). To simpify the use case, we will focus on 21 co-expressed groups that have been found in this paper to be clicially significant in NSCLC (see that paper, Table 2). These groups of genes, which the authors term metagenes, are annotated in different cellcular pathways. For example, the first group of genes LRIG1, HPGD and GDF15 are relate to the EGFR signaling pathay, while CIM,LMO2 and EFR2 all are involved in cell hypoxia/inflaation. Thus, each cancer patient (row) has gene expression values (columns). In addtion, each of the 199 patients is annoted by their survival status; each described by their Survival Status (1 for deceased; 0 for alive at time of collection of the dataset. We followed the preprocessing [this blog post](https://aws.amazon.com/blogs/industries/building-scalable-machine-learning-pipelines-for-multimodal-health-data-on-aws/) for preprocessing the data. As described more fully in that blog post, the final dataset is 119 patients where each cancer patient (row) has gene expression values (columns). If you run the pipeline described in that blog post, you will get the entire gene expression profile based on the raw FASTQ files, or you can also access the entire gene expression at [GEO](https://www.ncbi.nlm.nih.gov/geo/query/acc.cgi?acc=GSE103584). \n",
    "\n",
    "The architecture for this approach is as follows:\n",
    "\n",
    "![](images/Architecture.jpeg)\n",
    "\n",
    "As can be seen in the diagram, we first start with data that is located in S3. We then create a [SageMaker Pipeline](https://sagemaker-examples.readthedocs.io/en/latest/sagemaker-pipelines/index.html). SageMaker Pipelines is a powerful feature that allows data scientists to wrap different components of their workload as a pipeline. This allows for a deployment strategy whereby each step of the analysis is automatically kicked off after the previous job finishes. See the associate code repository ?? for the specific syntax for creating a SageMaker Pipeline.\n",
    "The pipeline consists of:\n",
    "\n",
    "* A SageMaker Processing job for preprocessing the data\n",
    "\n",
    "* A SageMaker Training job for training the model. \n",
    "\n",
    "* A SageMaker Processing job for evaluating and registering the model in SageMaker Model Registry.\n",
    "\n",
    "* A seperate SageMaker Processing job for deploying the model on SageMaker Multi Model Endpoint (MME)\n",
    "\n",
    "\n",
    "\n",
    "\n",
    "Before we begin lets verify SageMaker version"
   ]
  },
  {
   "cell_type": "code",
   "execution_count": null,
   "id": "cdf9dfab-fc7f-438c-9212-49d299274320",
   "metadata": {},
   "outputs": [],
   "source": [
    "import sagemaker\n",
    "sagemaker.__version__"
   ]
  },
  {
   "cell_type": "code",
   "execution_count": null,
   "id": "445a345a-cf12-47e9-9ffe-9490309ad20a",
   "metadata": {
    "tags": []
   },
   "outputs": [],
   "source": [
    "%pip install --upgrade --quiet sagemaker==2.244.2"
   ]
  },
  {
   "cell_type": "markdown",
   "id": "f97fd49d-5a55-4246-a7b5-edaa09b357e5",
   "metadata": {},
   "source": [
    "* Please restart the kernel after the sagemaker update. You can do that by following the options on the menu Kernel->Restart Kernel.\n",
    "* After restarting execute the from below. Make sure that the version of the sagemaker is updated '>=2.94.0'."
   ]
  },
  {
   "cell_type": "code",
   "execution_count": null,
   "id": "22d4d10f-725b-4b3a-b52c-900ed7a2c8bb",
   "metadata": {
    "tags": []
   },
   "outputs": [],
   "source": [
    "import sagemaker\n",
    "sagemaker.__version__"
   ]
  },
  {
   "cell_type": "markdown",
   "id": "a2e8125b-bd7d-4be7-877b-58c8e5445849",
   "metadata": {},
   "source": [
    "Then let's import rest of the packages needed."
   ]
  },
  {
   "cell_type": "code",
   "execution_count": null,
   "id": "1925c3c0-3193-4536-8e8d-f51e2d80e2cd",
   "metadata": {
    "tags": []
   },
   "outputs": [],
   "source": [
    "import time\n",
    "import pandas as pd\n",
    "import numpy as np\n",
    "from sklearn.preprocessing import StandardScaler, MinMaxScaler\n",
    "from sklearn.model_selection import train_test_split\n",
    "from sagemaker import get_execution_role\n",
    "\n",
    "from sagemaker.multidatamodel import MultiDataModel\n",
    "\n",
    "from sagemaker.pytorch import PyTorch\n",
    "from sagemaker.pytorch.model import PyTorchModel\n",
    "\n",
    "from sagemaker.workflow.pipeline_context import PipelineSession\n",
    "from sagemaker.workflow.fail_step import FailStep\n",
    "from sagemaker.workflow.functions import Join\n",
    "from sagemaker.model_metrics import MetricsSource, ModelMetrics\n",
    "from sagemaker.workflow.functions import Join\n",
    "from sagemaker.workflow.model_step import ModelStep\n",
    "from sagemaker.workflow.conditions import ConditionLessThanOrEqualTo\n",
    "from sagemaker.workflow.condition_step import ConditionStep\n",
    "from sagemaker.workflow.functions import JsonGet\n",
    "\n",
    "from sagemaker.predictor import Predictor\n",
    "\n",
    "import matplotlib.pyplot as plt"
   ]
  },
  {
   "cell_type": "markdown",
   "id": "ce9b88dd-56db-4c23-baa3-6ae83fc8aa90",
   "metadata": {},
   "source": [
    "### Read the data \n",
    "\n",
    "Data related to the project is available in the `data` folder. Lets read the and do some exploratory analysis of it and basic pre-processing."
   ]
  },
  {
   "cell_type": "code",
   "execution_count": null,
   "id": "0cf392c9-76d1-4db1-ad4a-2c85083c6c48",
   "metadata": {
    "tags": []
   },
   "outputs": [],
   "source": [
    "genomic_data_with_label = pd.read_csv(\"data/Genomic-data-119patients.csv\")\n",
    "genomic_data_with_label"
   ]
  },
  {
   "cell_type": "markdown",
   "id": "17944acb-d627-47bb-9fb6-5014b0f260e9",
   "metadata": {},
   "source": [
    "You can see that for each patient (`Case_ID`) we have all gene expression levels, as well as SurvivalStatus. Note that this dataset also contains a pathological label for the patient. We will not be leveraging this column, but you can read more about the histopathology data associated with this dataset [here](https://aws.amazon.com/blogs/industries/building-scalable-machine-learning-pipelines-for-multimodal-health-data-on-aws/). Thus, we remove `Case_ID` and `PathologicalMstage`"
   ]
  },
  {
   "cell_type": "code",
   "execution_count": null,
   "id": "e31012ee-788c-409e-a786-971cf7c3c060",
   "metadata": {
    "tags": []
   },
   "outputs": [],
   "source": [
    "genomic_data_with_label.drop(columns=[\"Case_ID\", \"PathologicalMstage\"], inplace=True)"
   ]
  },
  {
   "cell_type": "markdown",
   "id": "fd09bd55-e225-44ca-b1e5-6eede57aceed",
   "metadata": {},
   "source": [
    "Next, we check the Class Balanceness"
   ]
  },
  {
   "cell_type": "code",
   "execution_count": null,
   "id": "94ed0ed8-4c4c-449f-8503-e26d85275f4b",
   "metadata": {
    "tags": []
   },
   "outputs": [],
   "source": [
    "genomic_data_with_label.SurvivalStatus.value_counts().plot.bar()\n",
    "plt.show()"
   ]
  },
  {
   "cell_type": "markdown",
   "id": "86932ff9-a393-4443-a014-7c73133b1de9",
   "metadata": {},
   "source": [
    "While class `0` is a greater proportion of cases, there is sufficient number of class `1` to proceed without rebalancing the data.\n",
    "\n",
    "Next, we will rescale the data column, by column."
   ]
  },
  {
   "cell_type": "code",
   "execution_count": null,
   "id": "1bafc906-ba74-4cc4-8c48-82a4fba0b925",
   "metadata": {
    "tags": []
   },
   "outputs": [],
   "source": [
    "genomic_data = genomic_data_with_label.drop(columns=[\"SurvivalStatus\"])\n",
    "labels = genomic_data_with_label[\"SurvivalStatus\"]\n",
    "\n",
    "scaler = MinMaxScaler()\n",
    "genomic_data[genomic_data.columns] = scaler.fit_transform(genomic_data.to_numpy())\n",
    "genomic_data                  "
   ]
  },
  {
   "cell_type": "markdown",
   "id": "95de8282-8aa1-4739-87b1-44677da0294a",
   "metadata": {},
   "source": [
    "### Split the data Train/Test\n"
   ]
  },
  {
   "cell_type": "code",
   "execution_count": null,
   "id": "e80edd4d-12a8-43ef-96f0-a544ecd80854",
   "metadata": {
    "tags": []
   },
   "outputs": [],
   "source": [
    "X_train, X_val, y_train, y_val = train_test_split(genomic_data, labels, test_size = 0.2)\n"
   ]
  },
  {
   "cell_type": "markdown",
   "id": "8dc3e8d6-8b74-4e11-ae97-d629483273bb",
   "metadata": {},
   "source": [
    "After spliting the data lets visually verify that the class distributions follow the same both in `train` and `validation` data."
   ]
  },
  {
   "cell_type": "code",
   "execution_count": null,
   "id": "3b30c33b-6466-4c9e-84d9-569a18a0b3b7",
   "metadata": {
    "tags": []
   },
   "outputs": [],
   "source": [
    "y_train.value_counts().plot.bar()\n",
    "plt.show()"
   ]
  },
  {
   "cell_type": "code",
   "execution_count": null,
   "id": "dcf9096b-008a-40c8-82f2-c701314d1c70",
   "metadata": {
    "tags": []
   },
   "outputs": [],
   "source": [
    "y_val.value_counts().plot.bar()\n",
    "plt.show()"
   ]
  },
  {
   "cell_type": "markdown",
   "id": "ac1ed187-56ad-4d6e-9db0-c8de76cb9302",
   "metadata": {},
   "source": [
    "### Save data"
   ]
  },
  {
   "cell_type": "code",
   "execution_count": null,
   "id": "076a2760-b7be-47dd-9eee-1cf9bdc3c6df",
   "metadata": {
    "tags": []
   },
   "outputs": [],
   "source": [
    "X_train.insert(0, \"SurvivalStatus\", y_train)\n",
    "X_train.to_csv(\"./data/train_data.csv\", index = False, header=True)"
   ]
  },
  {
   "cell_type": "code",
   "execution_count": null,
   "id": "1c05e717-5f08-4e84-946a-16b17b886d17",
   "metadata": {
    "tags": []
   },
   "outputs": [],
   "source": [
    "X_val.insert(0, \"SurvivalStatus\", y_val)\n",
    "X_val.to_csv(\"./data/validation_data.csv\", index = False, header=True)"
   ]
  },
  {
   "cell_type": "markdown",
   "id": "302812ca-daa7-411b-844a-1202037df084",
   "metadata": {},
   "source": [
    "### Prepare for SageMaker Training"
   ]
  },
  {
   "cell_type": "code",
   "execution_count": null,
   "id": "96ea6495-a011-4432-81f4-83ac82b7b002",
   "metadata": {
    "tags": []
   },
   "outputs": [],
   "source": [
    "role = get_execution_role()\n",
    "session = sagemaker.Session()\n",
    "bucket = session.default_bucket()\n",
    "\n",
    "s3_prefix = \"genome-survival-classification/data\""
   ]
  },
  {
   "cell_type": "markdown",
   "id": "8ec97077-df78-4012-8f5a-ed7fe83c0340",
   "metadata": {},
   "source": [
    "### Upload to S3"
   ]
  },
  {
   "cell_type": "code",
   "execution_count": null,
   "id": "a6f51cc3-2646-4812-bf62-374217c01a2b",
   "metadata": {
    "tags": []
   },
   "outputs": [],
   "source": [
    "input_train = session.upload_data(\n",
    "        path=\"./data/train_data.csv\", bucket=bucket, key_prefix=\"{}/train\".format(s3_prefix)\n",
    "    )\n",
    "\n",
    "input_val = session.upload_data(\n",
    "        path=\"./data/validation_data.csv\", bucket=bucket, key_prefix=\"{}/validation\".format(s3_prefix)\n",
    "    )\n",
    "\n",
    "print(\"Train data : [{}]\".format(input_train))\n",
    "print(\"Val data : [{}]\".format(input_val))"
   ]
  },
  {
   "cell_type": "markdown",
   "id": "b380194b-f835-46ed-8ba4-7b7045a81bbd",
   "metadata": {},
   "source": [
    "## Create the Multimodel Endpoint \n",
    "\n",
    "At this time we are creating the multi-model endpoint (one time configuration) to serve the models that are going to be delivered by the SageMaker piplines. Note that for now we are deploying a MME model that points to an empty collection of models; we will populate the collection of models later in the SageMaker Pipeline step. We also specify a custom inference.py script, which will allow users to choose which model to invoke. \n"
   ]
  },
  {
   "cell_type": "code",
   "execution_count": null,
   "id": "8da29b31-7086-4143-97e5-ce388ec0634b",
   "metadata": {
    "tags": []
   },
   "outputs": [],
   "source": [
    "FRAMEWORK_VERSION = \"1.12.0\"\n",
    "\n",
    "mme_model_data_location = \"s3://{}/{}/mme-models-location\".format(bucket, s3_prefix)\n",
    "\n",
    "endpoint_name = \"Genome-Survival-Prediction-MultiModel-Endpoint-{}\".format(time.strftime(\"%H-%M-%S\"))\n",
    "\n",
    "model = PyTorchModel(model_data=\"./model/model.tar.gz\", \n",
    "                     source_dir='src', \n",
    "                     entry_point='inference.py', \n",
    "                     role=role, \n",
    "                     framework_version=FRAMEWORK_VERSION,\n",
    "                     py_version = \"py38\",\n",
    "                     sagemaker_session=session)\n",
    "\n",
    " \n",
    "mme = MultiDataModel(\n",
    "    name = \"Genome-Survival-Prediction-MME-Model-{}\".format(time.strftime(\"%H-%M-%S\")),\n",
    "    model_data_prefix = mme_model_data_location,\n",
    "    model = model,  # passing our model\n",
    "    sagemaker_session=session,\n",
    ")\n",
    "\n",
    "mme_predictor = mme.deploy(\n",
    "    initial_instance_count=1, \n",
    "    instance_type=\"ml.m5.large\", \n",
    "    endpoint_name=endpoint_name\n",
    ")"
   ]
  },
  {
   "cell_type": "markdown",
   "id": "d6f202e8-66b1-4af0-814c-32ff00d2f210",
   "metadata": {},
   "source": [
    "#### Check for current models (First time it should be empty)"
   ]
  },
  {
   "cell_type": "code",
   "execution_count": null,
   "id": "267ed5dc-3397-49a1-bf74-1e55a8222d9a",
   "metadata": {
    "tags": []
   },
   "outputs": [],
   "source": [
    "list(mme.list_models())"
   ]
  },
  {
   "cell_type": "markdown",
   "id": "d0bcec3b-94ca-4027-b8d2-c91c53907ad1",
   "metadata": {},
   "source": [
    "## Creating the pipeline \n",
    "\n",
    "At this point, the trained models are stored on S3, and the Multi-Model Enpoint can dynamically retrieve the needed model based on the user request. The user specifies not only the input data to run, but which specific model to use. \n",
    "\n",
    "Thinking back to the gene expression data, the following diagram represents an overview of the modeling process FIX:\n",
    "\n",
    "![](images/image_2.jpg)\n",
    "\n",
    "In this diagram, we first start with the original gene expression data (red indicates higher expression; blue lower expression), and then split that data into N seperate subsets of gene expression data. Model 1, for example, is built on genes 1,2,3; Model 2 on genes 4,5,6 etc. We then train multiple models, where each subsample of gene expression data is leveraged to predict survival. Note that each execution of the SageMaker Pipeline corresponds to building one model based on a gene signature.   \n",
    "\n",
    "As mentioned in the introduction, we are leveraging a small data set for just 21 genes found to be signficant in predicting survival in lung cancer. However, you could do similair analysis with others groups of genes, such as those present in the [KEGG pathway database](https://www.genome.jp/kegg/pathway.html) or [Molecular Signatures Database](http://www.gsea-msigdb.org/gsea/msigdb/index.jsp)\n",
    "\n"
   ]
  },
  {
   "cell_type": "code",
   "execution_count": null,
   "id": "721dcf50-3e73-42dc-9625-29bfd945737d",
   "metadata": {
    "tags": []
   },
   "outputs": [],
   "source": [
    "pipeline_session = PipelineSession()\n",
    "\n",
    "from sagemaker.workflow.parameters import (\n",
    "    ParameterInteger,\n",
    "    ParameterString,\n",
    "    ParameterFloat,\n",
    ")\n",
    "\n",
    "input_train_data = ParameterString(\n",
    "    name=\"InputTrainData\",\n",
    "    default_value=input_train,\n",
    ")\n",
    "\n",
    "input_validation_data = ParameterString(\n",
    "    name=\"InputValidationData\",\n",
    "    default_value=input_val,\n",
    ")\n",
    "\n",
    "genome_group = ParameterString(\n",
    "    name=\"genomeGroup\",\n",
    "    default_value=\"ALL\",\n",
    ")\n",
    "\n",
    "training_instance_type = ParameterString(\n",
    "    name=\"TrainingInstanceType\", \n",
    "    default_value=\"ml.m5.large\"\n",
    ")\n",
    "\n",
    "mme_model_location = ParameterString(\n",
    "    name=\"MMEModelsLocation\",\n",
    "    default_value=mme_model_data_location,\n",
    ")\n",
    "\n",
    "from sagemaker.workflow.steps import CacheConfig\n",
    "\n",
    "cache_config = CacheConfig(enable_caching=True, expire_after=\"PT1H\")\n"
   ]
  },
  {
   "cell_type": "markdown",
   "id": "626e9955-9b59-49bc-933c-78957ca4922f",
   "metadata": {},
   "source": [
    "#### Training Step"
   ]
  },
  {
   "cell_type": "code",
   "execution_count": null,
   "id": "bf4b182f-67ff-46fe-b8d4-04bf7cd0d7ee",
   "metadata": {
    "tags": []
   },
   "outputs": [],
   "source": [
    "pytorch_estimator = PyTorch(\n",
    "     source_dir=\"src\",           \n",
    "     entry_point=\"train.py\",\n",
    "     framework_version = \"1.12.0\",\n",
    "     py_version = \"py38\",\n",
    "     instance_type= training_instance_type,\n",
    "     instance_count=1,\n",
    "     role = role,\n",
    "     hyperparameters = {\n",
    "         \"genome-group\" : genome_group\n",
    "     },\n",
    "    sagemaker_session = pipeline_session\n",
    ")\n",
    "\n",
    "#pytorch_estimator.fit({\"train_data\" : input_train, \"val_data\": input_val})"
   ]
  },
  {
   "cell_type": "code",
   "execution_count": null,
   "id": "e188b0fd-3804-47d2-842b-acac0f3e0cb9",
   "metadata": {
    "tags": []
   },
   "outputs": [],
   "source": [
    "from sagemaker.inputs import TrainingInput\n",
    "from sagemaker.workflow.steps import TrainingStep\n",
    "\n",
    "step_train = TrainingStep(\n",
    "    name=\"Genome-Survival-Prediction-Training\",\n",
    "    estimator=pytorch_estimator,\n",
    "    inputs={\n",
    "        \"train_data\": TrainingInput(\n",
    "            s3_data=input_train_data,\n",
    "            content_type=\"text/csv\",\n",
    "        ),\n",
    "         \"val_data\": TrainingInput(\n",
    "            s3_data=input_validation_data,\n",
    "            content_type=\"text/csv\",\n",
    "        )\n",
    "    },\n",
    "    cache_config=cache_config\n",
    ")"
   ]
  },
  {
   "cell_type": "markdown",
   "id": "b96166bd-5187-428b-9eec-33372edcca65",
   "metadata": {},
   "source": [
    "#### Model evaluation Step"
   ]
  },
  {
   "cell_type": "code",
   "execution_count": null,
   "id": "3c5ebc8a-6135-49ff-b170-74693991c089",
   "metadata": {
    "tags": []
   },
   "outputs": [],
   "source": [
    "from sagemaker.sklearn.processing import SKLearnProcessor\n",
    "from sagemaker.workflow.properties import PropertyFile\n",
    "from sagemaker.processing import ProcessingInput, ProcessingOutput\n",
    "from sagemaker.workflow.steps import ProcessingStep\n",
    "\n",
    "framework_version = \"0.23-1\"\n",
    "\n",
    "sklearn_processor = SKLearnProcessor(\n",
    "    framework_version=framework_version,\n",
    "    instance_type=\"ml.m5.large\",\n",
    "    instance_count=1,\n",
    "    base_job_name=\"Genome-Survival-Prediction-Eval\",\n",
    "    role=role,\n",
    "    env = {\n",
    "        \"genomeGroup\" : genome_group\n",
    "    },\n",
    "    sagemaker_session = pipeline_session\n",
    ")"
   ]
  },
  {
   "cell_type": "code",
   "execution_count": null,
   "id": "0ec11859-a2ff-4b0c-97a3-151d66f2764d",
   "metadata": {
    "tags": []
   },
   "outputs": [],
   "source": [
    "evaluation_report = PropertyFile(\n",
    "    name=\"EvaluationReport\", output_name=\"evaluation\", path=\"evaluation.json\"\n",
    ")\n",
    "\n",
    "step_eval = ProcessingStep(\n",
    "    name=\"Genome-Survival-Prediction-Eval\",\n",
    "    processor=sklearn_processor,\n",
    "    inputs=[\n",
    "        ProcessingInput(\n",
    "            source=step_train.properties.ModelArtifacts.S3ModelArtifacts,\n",
    "            destination=\"/opt/ml/processing/model\",\n",
    "        ),\n",
    "        ProcessingInput(\n",
    "            source=input_validation_data,\n",
    "            destination=\"/opt/ml/processing/test\",\n",
    "        ),\n",
    "        ProcessingInput(\n",
    "            source=\"./src\",\n",
    "            destination=\"/opt/ml/processing/code\",\n",
    "        )\n",
    "    ],\n",
    "    outputs=[\n",
    "        ProcessingOutput(output_name=\"evaluation\", source=\"/opt/ml/processing/evaluation\")\n",
    "    ],\n",
    "    code=\"src/evaluation.py\",\n",
    "    property_files=[evaluation_report],\n",
    ")"
   ]
  },
  {
   "cell_type": "code",
   "execution_count": null,
   "id": "361f41f5-27e4-41d5-8f47-3ce07187c0f1",
   "metadata": {
    "tags": []
   },
   "outputs": [],
   "source": [
    "step_fail = FailStep(\n",
    "    name=\"Genome-Survival-Prediction-Fail\",\n",
    "    error_message=\"Execution failed due to Obective Metric was not met\",\n",
    ")"
   ]
  },
  {
   "cell_type": "markdown",
   "id": "35bece6c-4327-412d-b3b9-02de4407ebe8",
   "metadata": {},
   "source": [
    "#### Define a Register Model Step to Create a Model Package\n"
   ]
  },
  {
   "cell_type": "code",
   "execution_count": null,
   "id": "41555a87-62dc-4662-8f6d-4f1e527ddd5b",
   "metadata": {
    "tags": []
   },
   "outputs": [],
   "source": [
    "model_metrics = ModelMetrics(\n",
    "    model_statistics=MetricsSource(\n",
    "        s3_uri=\"{}/evaluation.json\".format(\n",
    "            step_eval.arguments[\"ProcessingOutputConfig\"][\"Outputs\"][0][\"S3Output\"][\"S3Uri\"]\n",
    "        ),\n",
    "        content_type=\"application/json\",\n",
    "    )\n",
    ")\n",
    "\n",
    "model = PyTorchModel(\n",
    "    model_data=step_train.properties.ModelArtifacts.S3ModelArtifacts,\n",
    "    role=role,\n",
    "    entry_point=\"inference.py\",\n",
    "    source_dir = \"src\",\n",
    "    framework_version = \"1.12.0\",\n",
    "    py_version = \"py38\",\n",
    "    sagemaker_session=PipelineSession()\n",
    ")\n",
    "\n",
    "# in addition, we might also want to register a model to SageMaker Model Registry\n",
    "register_model_step_args = model.register(\n",
    "    content_types=[\"application/json\"],\n",
    "    response_types=[\"application/json\"],\n",
    "    inference_instances=[\"ml.t2.medium\", \"ml.m5.xlarge\"],\n",
    "    transform_instances=[\"ml.m5.xlarge\"],\n",
    "    model_package_group_name='Genome-Survival-Prediction-Model-Package-Group',\n",
    "    approval_status = \"Approved\"\n",
    ")\n",
    "\n",
    "step_model_registration = ModelStep(\n",
    "   name=\"Genome-Survival-Prediction-Model-Registration\",\n",
    "   step_args=register_model_step_args,\n",
    ")\n",
    "\n"
   ]
  },
  {
   "cell_type": "markdown",
   "id": "82182449-a53b-40b7-8843-97ab1f643194",
   "metadata": {},
   "source": [
    "#### Define MME Deployment Step\n"
   ]
  },
  {
   "cell_type": "code",
   "execution_count": null,
   "id": "8b823816-e9c1-4fde-a9aa-858c5613831c",
   "metadata": {
    "tags": []
   },
   "outputs": [],
   "source": [
    "sklearn_processor_for_mme_deployment = SKLearnProcessor(\n",
    "    framework_version=framework_version,\n",
    "    instance_type=\"ml.m5.xlarge\",\n",
    "    instance_count=1,\n",
    "    base_job_name=\"Genome-Survival-Prediction-Deployment\",\n",
    "    role=role,\n",
    "    env = {\n",
    "        \"modelPackageArn\" : step_model_registration.steps[1].properties.ModelPackageArn,\n",
    "        \"mmeModelLocation\" : mme_model_location,\n",
    "        \"genomeGroup\" : genome_group,\n",
    "        \"AWS_DEFAULT_REGION\": session.boto_region_name\n",
    "    }\n",
    ")\n",
    "\n",
    "step_mme_deployment = ProcessingStep(\n",
    "    name=\"Genome-Survival-Prediction-MME-Deployment\",\n",
    "    processor=sklearn_processor_for_mme_deployment,\n",
    "    inputs=[\n",
    "        \n",
    "    ],\n",
    "    outputs=[\n",
    "        ProcessingOutput(output_name=\"mme_model_location\", source=\"/opt/ml/processing/model/mme\")\n",
    "    ],\n",
    "    code=\"src/mme_deployment.py\"\n",
    ")"
   ]
  },
  {
   "cell_type": "markdown",
   "id": "47577d1d-c3d8-40b2-b3b6-bde34ca59878",
   "metadata": {},
   "source": [
    "### Condition Step"
   ]
  },
  {
   "cell_type": "code",
   "execution_count": null,
   "id": "5d854028-1df9-4bae-a72b-52fa94c5e62c",
   "metadata": {
    "tags": []
   },
   "outputs": [],
   "source": [
    "cond_lte = ConditionLessThanOrEqualTo(\n",
    "    left=JsonGet(\n",
    "        step_name=step_eval.name,\n",
    "        property_file=evaluation_report,\n",
    "        json_path=\"metrics.test_accuracy.value\",\n",
    "    ),\n",
    "    right=0.4\n",
    ")\n",
    "\n",
    "step_cond = ConditionStep(\n",
    "    name=\"Genome-Survival-Prediction-Condition\",\n",
    "    conditions=[cond_lte],\n",
    "    if_steps=[step_fail],\n",
    "    else_steps=[step_model_registration, step_mme_deployment],\n",
    ")"
   ]
  },
  {
   "cell_type": "markdown",
   "id": "f0dbe662-e0c3-4b01-add3-c2f840a8e0de",
   "metadata": {},
   "source": [
    "### Create the pipeline using all the steps defined above"
   ]
  },
  {
   "cell_type": "code",
   "execution_count": null,
   "id": "fca12fef-dd6c-4de6-8ba7-b51fa0148d5a",
   "metadata": {
    "tags": []
   },
   "outputs": [],
   "source": [
    "from sagemaker.workflow.pipeline import Pipeline\n",
    "\n",
    "pipeline_name = f\"Genome-Survival-Prediction-Pipeline\"\n",
    "pipeline = Pipeline(\n",
    "    name=pipeline_name,\n",
    "    parameters=[\n",
    "        input_train_data,\n",
    "        input_validation_data,\n",
    "        training_instance_type,\n",
    "        genome_group,\n",
    "        mme_model_location\n",
    "    ],\n",
    "    steps=[step_train, step_eval, step_cond]\n",
    ")"
   ]
  },
  {
   "cell_type": "code",
   "execution_count": null,
   "id": "c25313f1-f76b-4638-9e76-65142ecda773",
   "metadata": {
    "tags": []
   },
   "outputs": [],
   "source": [
    "import json\n",
    "\n",
    "definition = json.loads(pipeline.definition())\n",
    "definition"
   ]
  },
  {
   "cell_type": "code",
   "execution_count": null,
   "id": "29fcb44d-ea5d-465e-b1ab-b44cd6024b97",
   "metadata": {
    "tags": []
   },
   "outputs": [],
   "source": [
    "pipeline.upsert(role_arn=role)"
   ]
  },
  {
   "cell_type": "markdown",
   "id": "c922e1c4-ab01-40a1-a5da-5f4b02e09a61",
   "metadata": {},
   "source": [
    "If you are using SageMaker Studio, you can visualize what each step of the pipeline actually looks like:\n",
    "\n",
    "![](images/image_3.jpg)"
   ]
  },
  {
   "cell_type": "markdown",
   "id": "fc5254db-1638-43ee-bfb6-a00e7e620673",
   "metadata": {},
   "source": [
    "### Start the pipeline with all the Gene groups."
   ]
  },
  {
   "cell_type": "code",
   "execution_count": null,
   "id": "3bc37055-f5fc-4f6f-b8b2-87a3026aa4db",
   "metadata": {
    "tags": []
   },
   "outputs": [],
   "source": [
    "execution = pipeline.start({\n",
    "        \"genomeGroup\" : \"ALL\"\n",
    "    }\n",
    ")"
   ]
  },
  {
   "cell_type": "markdown",
   "id": "8e981eef-04c9-4187-add2-e527486138b8",
   "metadata": {},
   "source": [
    "### Pipeline Operations: Examining and Waiting for Pipeline Execution\n",
    "\n",
    "Describe the pipeline execution"
   ]
  },
  {
   "cell_type": "code",
   "execution_count": null,
   "id": "62ee313b-5b0b-4948-905d-d5d4d8acf4f9",
   "metadata": {
    "tags": []
   },
   "outputs": [],
   "source": [
    "execution.describe()"
   ]
  },
  {
   "cell_type": "markdown",
   "id": "093fe1b2-e14e-4528-89e1-e0450c29f73c",
   "metadata": {},
   "source": [
    "Wait for the execution to complete.\n"
   ]
  },
  {
   "cell_type": "code",
   "execution_count": null,
   "id": "488a4eaa-6249-4e02-8ed4-cc44f51816f9",
   "metadata": {
    "tags": []
   },
   "outputs": [],
   "source": [
    "execution.wait()"
   ]
  },
  {
   "cell_type": "markdown",
   "id": "eee962c0-06e5-4af0-86fb-fd5179bcc24a",
   "metadata": {},
   "source": [
    "### Verify how many models deploye on MME"
   ]
  },
  {
   "cell_type": "code",
   "execution_count": null,
   "id": "a0b06a8b-2ec5-4d23-bd0e-f4084bc367fc",
   "metadata": {
    "tags": []
   },
   "outputs": [],
   "source": [
    "list(mme.list_models())"
   ]
  },
  {
   "cell_type": "markdown",
   "id": "c031170a-3325-4679-8ecb-29b6c3c2b024",
   "metadata": {},
   "source": [
    "* We can see there is model suffixed with 'ALL' already in the MME location. Let's do some predictions with the test dataset. "
   ]
  },
  {
   "cell_type": "markdown",
   "id": "0b901590-f32b-47ff-ad2f-d6e61d8b51e3",
   "metadata": {},
   "source": [
    "### Predict with trained models using test data\n"
   ]
  },
  {
   "cell_type": "code",
   "execution_count": null,
   "id": "825d7171-45c7-45e5-b924-08a001e1a2b5",
   "metadata": {
    "tags": []
   },
   "outputs": [],
   "source": [
    "predictor = Predictor(endpoint_name = endpoint_name)\n",
    "\n",
    "predictor.serializer = sagemaker.serializers.JSONSerializer()\n",
    "predictor.deserializer = sagemaker.deserializers.CSVDeserializer()"
   ]
  },
  {
   "cell_type": "code",
   "execution_count": null,
   "id": "fc401ebe-fbdf-4ba6-9117-429ed1052be6",
   "metadata": {
    "tags": []
   },
   "outputs": [],
   "source": [
    "payload = {\n",
    "    \"inputs\" : X_val.iloc[:, 1:].values\n",
    "}\n",
    "\n",
    "predictor.predict(payload, target_model=\"/model-ALL.tar.gz\")"
   ]
  },
  {
   "cell_type": "markdown",
   "id": "c2811b58-f6f0-4a90-a5e9-fc7d67ddf40a",
   "metadata": {},
   "source": [
    "### Next lets start training model with the \"metagene_19\" Gene group"
   ]
  },
  {
   "cell_type": "code",
   "execution_count": null,
   "id": "60f9b528-8a38-4fcf-810d-725e0934448e",
   "metadata": {
    "tags": []
   },
   "outputs": [],
   "source": [
    "execution = pipeline.start(\n",
    "    parameters=dict(\n",
    "        genomeGroup=\"metagene_19\"\n",
    "    )\n",
    ")"
   ]
  },
  {
   "cell_type": "code",
   "execution_count": null,
   "id": "f9c6559e-d8b0-4cdf-97a2-a491fd9422d3",
   "metadata": {
    "tags": []
   },
   "outputs": [],
   "source": [
    "execution.wait()"
   ]
  },
  {
   "cell_type": "markdown",
   "id": "7e71b214-c9be-4558-a9b9-8ebc77419c82",
   "metadata": {},
   "source": [
    "### Verify how many models deploye on MME"
   ]
  },
  {
   "cell_type": "code",
   "execution_count": null,
   "id": "b4366722-06c0-4583-bce2-4bf33225baab",
   "metadata": {
    "tags": []
   },
   "outputs": [],
   "source": [
    "list(mme.list_models())"
   ]
  },
  {
   "cell_type": "markdown",
   "id": "27c45470-b4a4-47d4-a449-7457b67885c4",
   "metadata": {},
   "source": [
    "We can see there is a new model suffixed with 'metagene_19' in the MME location. Let's do some predictions with the test dataset. "
   ]
  },
  {
   "cell_type": "code",
   "execution_count": null,
   "id": "5890cdf7-e859-429d-a3a2-c0cada84c269",
   "metadata": {
    "tags": []
   },
   "outputs": [],
   "source": [
    "payload = {\n",
    "    \"inputs\" : X_val[['LRIG1', 'HPGD', 'GDF15']].iloc[0:5, :].values\n",
    "}\n",
    "payload"
   ]
  },
  {
   "cell_type": "code",
   "execution_count": null,
   "id": "3f5ea007-e3fb-43f3-b040-0a2c755a4693",
   "metadata": {
    "tags": []
   },
   "outputs": [],
   "source": [
    "predictor.predict(payload, target_model=\"/model-metagene_19.tar.gz\")"
   ]
  },
  {
   "cell_type": "markdown",
   "id": "6febc0d7-65dd-440a-9016-18781d9af25c",
   "metadata": {},
   "source": [
    "## Clean up\n",
    "\n",
    "Once you are completed the work with the notebook, please delete the endpoint by uncommenting the following code."
   ]
  },
  {
   "cell_type": "code",
   "execution_count": null,
   "id": "331c04d8-39da-4734-94f2-bad3579f49e6",
   "metadata": {
    "tags": []
   },
   "outputs": [],
   "source": [
    "#predictor.delete_endpoint()"
   ]
  }
 ],
 "metadata": {
  "instance_type": "ml.t3.medium",
  "kernelspec": {
   "display_name": "Python 3 (ipykernel)",
   "language": "python",
   "name": "python3"
  },
  "language_info": {
   "codemirror_mode": {
    "name": "ipython",
    "version": 3
   },
   "file_extension": ".py",
   "mimetype": "text/x-python",
   "name": "python",
   "nbconvert_exporter": "python",
   "pygments_lexer": "ipython3",
   "version": "3.9.13"
  }
 },
 "nbformat": 4,
 "nbformat_minor": 5
}
