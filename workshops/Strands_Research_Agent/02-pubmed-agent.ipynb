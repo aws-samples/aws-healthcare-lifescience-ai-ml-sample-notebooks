{
 "cells": [
  {
   "cell_type": "markdown",
   "id": "2d534971-cb20-4752-9331-a3f98339eced",
   "metadata": {},
   "source": [
    "# Create a PubMed Research Agent with Strands Agents"
   ]
  },
  {
   "cell_type": "code",
   "execution_count": null,
   "id": "722465ef-f70b-48fc-9b78-d4d8a49f30b2",
   "metadata": {
    "scrolled": true
   },
   "outputs": [],
   "source": [
    "%pip install -U boto3 strands-agents strands-agents-tools"
   ]
  },
  {
   "cell_type": "code",
   "execution_count": null,
   "id": "217d7e17-be9a-474e-b683-d3f7ccd69b34",
   "metadata": {},
   "outputs": [],
   "source": [
    "import logging\n",
    "\n",
    "# Enables Strands debug log level\n",
    "logging.getLogger(\"strands\").setLevel(logging.INFO)\n",
    "\n",
    "# Sets the logging format and streams logs to stderr\n",
    "logging.basicConfig(\n",
    "    format=\"%(levelname)s | %(name)s | %(message)s\", handlers=[logging.StreamHandler()]\n",
    ")"
   ]
  },
  {
   "cell_type": "code",
   "execution_count": null,
   "id": "3dc83f7c-2fb1-4a83-b11a-295532e3b68f",
   "metadata": {},
   "outputs": [],
   "source": [
    "QUERY = \"What are some recent advances in GLP-1 drugs?\""
   ]
  },
  {
   "cell_type": "markdown",
   "id": "96912844-0b45-43e6-a233-286045130e7d",
   "metadata": {},
   "source": [
    "## Basic Prompt without Context"
   ]
  },
  {
   "cell_type": "code",
   "execution_count": null,
   "id": "fd3e83c5-005b-41af-8fa5-303f75f00f7e",
   "metadata": {
    "scrolled": true
   },
   "outputs": [],
   "source": [
    "from strands import Agent\n",
    "\n",
    "SYSTEM_PROMPT = \"\"\"\n",
    "    You are a specialized PubMed research agent. Your role is to:\n",
    "    1. Search PubMed for medical papers related to the query\n",
    "    2. Extract and summarize the most relevant clinical findings\n",
    "    3. Identify key research groups and methodologies\n",
    "    4. Return structured, well-cited information with PMCID references\n",
    "    \"\"\"\n",
    "\n",
    "# Initialize your agent\n",
    "agent = Agent(system_prompt=SYSTEM_PROMPT, load_tools_from_directory=False)\n",
    "\n",
    "# Send a message to the agent\n",
    "response = agent(QUERY)"
   ]
  },
  {
   "cell_type": "markdown",
   "id": "4d8e03cf-6bd2-4739-bfae-c875abeedd76",
   "metadata": {},
   "source": [
    "Copy and paste a few of the PMCIDs in the previous cell into the [PubMed web search](https://pubmed.ncbi.nlm.nih.gov/). Notice anything unusual? They likely point to completely unrelated resources! Without additional context, LLMs will do their best to generate IDs that seem convincing - they may even return real IDs included in their training data. However, if we want our agent to consistently return accurate, up-to-date results we need to provide it with a tool."
   ]
  },
  {
   "cell_type": "markdown",
   "id": "33c8e13b-12f7-4125-9c68-493b69f876cb",
   "metadata": {},
   "source": [
    "## Search PubMed for Abstract Context"
   ]
  },
  {
   "cell_type": "code",
   "execution_count": null,
   "id": "cbca2f29-3e6d-417c-a25b-beb31433cd5f",
   "metadata": {
    "scrolled": true
   },
   "outputs": [],
   "source": [
    "from strands import Agent\n",
    "from tools import search_pubmed\n",
    "\n",
    "SYSTEM_PROMPT = \"\"\"You are a life science research assistant. When given a scientific question, follow this process:\n",
    "\n",
    "1. Use the search_pubmed tool with rerank=\"referenced_by\", max_results to 200-500, and max_records to 20-50 to find highly-cited papers. Search broadly first, then narrow down. Use temporal filters like \"last 5 years\"[dp] for recent work. \n",
    "2. Extract and summarize the most relevant clinical findings.\n",
    "3. Return structured, well-cited information with PMID references.\n",
    "\n",
    "Key guidelines:\n",
    "- Always use rerank=\"referenced_by\" in searches to prioritize influential papers.\n",
    "- Limit searches to 20-50 articles for focused analysis.\n",
    "- Select articles strategically based on citation count and relevance.\n",
    "\"\"\"\n",
    "\n",
    "# Initialize your agent\n",
    "agent = Agent(\n",
    "    system_prompt=SYSTEM_PROMPT, tools=[search_pubmed], load_tools_from_directory=False\n",
    ")\n",
    "\n",
    "# Send a message to the agent\n",
    "response = agent(QUERY)"
   ]
  },
  {
   "cell_type": "markdown",
   "id": "bad2831a-cad8-4c41-a0e5-9503e1a503f4",
   "metadata": {},
   "source": [
    "## Retrieve Full Text"
   ]
  },
  {
   "cell_type": "code",
   "execution_count": null,
   "id": "8d3709a8-03fc-4f06-91c8-9c4c332198ea",
   "metadata": {},
   "outputs": [],
   "source": [
    "from tools import search_pubmed, read_pubmed\n",
    "\n",
    "SYSTEM_PROMPT = \"\"\"You are a life science research assistant. When given a scientific question, follow this process:\n",
    "\n",
    "1. Use the search_pubmed tool with rerank=\"referenced_by\", max_results to 200-500, and max_records to 20-50 to find highly-cited papers. Search broadly first, then narrow down. Use temporal filters like \"last 5 years\"[dp] for recent work. \n",
    "2. Use read_pubmed on the 1-2 most relevant articles from your search results to gain a better understanding of the space. Focus on highly-cited papers and reviews.\n",
    "3. Extract and summarize the most relevant clinical findings.\n",
    "3. Return structured, well-cited information with PMID references.\n",
    "\n",
    "Key guidelines:\n",
    "- Always use rerank=\"referenced_by\" in searches to prioritize influential papers.\n",
    "- Limit searches to 20-50 articles for focused analysis.\n",
    "- Select articles strategically based on citation count and relevance.\n",
    "\"\"\"\n",
    "\n",
    "# Initialize your agent\n",
    "agent = Agent(\n",
    "    system_prompt=SYSTEM_PROMPT,\n",
    "    tools=[search_pubmed, read_pubmed],\n",
    "    load_tools_from_directory=False,\n",
    ")\n",
    "\n",
    "# Send a message to the agent\n",
    "response = agent(QUERY)"
   ]
  },
  {
   "cell_type": "code",
   "execution_count": null,
   "id": "6ee878e3-9f2f-45eb-94c1-2d92b478bcfe",
   "metadata": {},
   "outputs": [],
   "source": []
  }
 ],
 "metadata": {
  "kernelspec": {
   "display_name": "Python 3 (ipykernel)",
   "language": "python",
   "name": "python3"
  },
  "language_info": {
   "codemirror_mode": {
    "name": "ipython",
    "version": 3
   },
   "file_extension": ".py",
   "mimetype": "text/x-python",
   "name": "python",
   "nbconvert_exporter": "python",
   "pygments_lexer": "ipython3",
   "version": "3.12.9"
  }
 },
 "nbformat": 4,
 "nbformat_minor": 5
}
