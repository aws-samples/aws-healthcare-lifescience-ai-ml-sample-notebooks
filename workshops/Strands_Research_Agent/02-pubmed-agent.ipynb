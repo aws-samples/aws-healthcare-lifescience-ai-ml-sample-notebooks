{
 "cells": [
  {
   "cell_type": "markdown",
   "id": "2d534971-cb20-4752-9331-a3f98339eced",
   "metadata": {},
   "source": [
    "# Create a PubMed Research Agent with Strands Agents\n",
    "\n",
    "In this notebook, you'll create a research agent using Strands that can query the PubMed Central (PMC) journal database for information about scientific discoveries.\n",
    "\n",
    "## Prerequisites\n",
    "\n",
    "- Python 3.10 or later\n",
    "- AWS account configured with appropriate permissions\n",
    "- Access to the Anthropic Claude 3.7 Sonnet model in Amazon Bedrock\n",
    "- Basic understanding of Python programming"
   ]
  },
  {
   "cell_type": "code",
   "execution_count": 1,
   "id": "722465ef-f70b-48fc-9b78-d4d8a49f30b2",
   "metadata": {
    "scrolled": true
   },
   "outputs": [
    {
     "name": "stdout",
     "output_type": "stream",
     "text": [
      "Requirement already satisfied: boto3 in /Users/necibea/.local/share/mise/installs/python/3.12.11/lib/python3.12/site-packages (1.40.51)\n",
      "Requirement already satisfied: strands-agents in /Users/necibea/.local/share/mise/installs/python/3.12.11/lib/python3.12/site-packages (1.12.0)\n",
      "Requirement already satisfied: strands-agents-tools in /Users/necibea/.local/share/mise/installs/python/3.12.11/lib/python3.12/site-packages (0.2.11)\n",
      "Requirement already satisfied: botocore<1.41.0,>=1.40.51 in /Users/necibea/.local/share/mise/installs/python/3.12.11/lib/python3.12/site-packages (from boto3) (1.40.51)\n",
      "Requirement already satisfied: jmespath<2.0.0,>=0.7.1 in /Users/necibea/.local/share/mise/installs/python/3.12.11/lib/python3.12/site-packages (from boto3) (1.0.1)\n",
      "Requirement already satisfied: s3transfer<0.15.0,>=0.14.0 in /Users/necibea/.local/share/mise/installs/python/3.12.11/lib/python3.12/site-packages (from boto3) (0.14.0)\n",
      "Requirement already satisfied: docstring-parser<1.0,>=0.15 in /Users/necibea/.local/share/mise/installs/python/3.12.11/lib/python3.12/site-packages (from strands-agents) (0.17.0)\n",
      "Requirement already satisfied: mcp<2.0.0,>=1.11.0 in /Users/necibea/.local/share/mise/installs/python/3.12.11/lib/python3.12/site-packages (from strands-agents) (1.13.1)\n",
      "Requirement already satisfied: opentelemetry-api<2.0.0,>=1.30.0 in /Users/necibea/.local/share/mise/installs/python/3.12.11/lib/python3.12/site-packages (from strands-agents) (1.36.0)\n",
      "Requirement already satisfied: opentelemetry-instrumentation-threading<1.00b0,>=0.51b0 in /Users/necibea/.local/share/mise/installs/python/3.12.11/lib/python3.12/site-packages (from strands-agents) (0.57b0)\n",
      "Requirement already satisfied: opentelemetry-sdk<2.0.0,>=1.30.0 in /Users/necibea/.local/share/mise/installs/python/3.12.11/lib/python3.12/site-packages (from strands-agents) (1.36.0)\n",
      "Requirement already satisfied: pydantic<3.0.0,>=2.4.0 in /Users/necibea/.local/share/mise/installs/python/3.12.11/lib/python3.12/site-packages (from strands-agents) (2.11.7)\n",
      "Requirement already satisfied: typing-extensions<5.0.0,>=4.13.2 in /Users/necibea/.local/share/mise/installs/python/3.12.11/lib/python3.12/site-packages (from strands-agents) (4.14.1)\n",
      "Requirement already satisfied: watchdog<7.0.0,>=6.0.0 in /Users/necibea/.local/share/mise/installs/python/3.12.11/lib/python3.12/site-packages (from strands-agents) (6.0.0)\n",
      "Requirement already satisfied: aiohttp<4.0.0,>=3.8.0 in /Users/necibea/.local/share/mise/installs/python/3.12.11/lib/python3.12/site-packages (from strands-agents-tools) (3.12.15)\n",
      "Requirement already satisfied: aws-requests-auth<0.5.0,>=0.4.3 in /Users/necibea/.local/share/mise/installs/python/3.12.11/lib/python3.12/site-packages (from strands-agents-tools) (0.4.3)\n",
      "Requirement already satisfied: dill<0.5.0,>=0.4.0 in /Users/necibea/.local/share/mise/installs/python/3.12.11/lib/python3.12/site-packages (from strands-agents-tools) (0.4.0)\n",
      "Requirement already satisfied: markdownify<2.0.0,>=1.0.0 in /Users/necibea/.local/share/mise/installs/python/3.12.11/lib/python3.12/site-packages (from strands-agents-tools) (1.2.0)\n",
      "Requirement already satisfied: pillow<12.0.0,>=11.2.1 in /Users/necibea/.local/share/mise/installs/python/3.12.11/lib/python3.12/site-packages (from strands-agents-tools) (11.3.0)\n",
      "Requirement already satisfied: prompt-toolkit<4.0.0,>=3.0.51 in /Users/necibea/.local/share/mise/installs/python/3.12.11/lib/python3.12/site-packages (from strands-agents-tools) (3.0.51)\n",
      "Requirement already satisfied: pyjwt<3.0.0,>=2.10.1 in /Users/necibea/.local/share/mise/installs/python/3.12.11/lib/python3.12/site-packages (from strands-agents-tools) (2.10.1)\n",
      "Requirement already satisfied: requests<3.0.0,>=2.28.0 in /Users/necibea/.local/share/mise/installs/python/3.12.11/lib/python3.12/site-packages (from strands-agents-tools) (2.32.5)\n",
      "Requirement already satisfied: rich<15.0.0,>=14.0.0 in /Users/necibea/.local/share/mise/installs/python/3.12.11/lib/python3.12/site-packages (from strands-agents-tools) (14.1.0)\n",
      "Requirement already satisfied: slack-bolt<2.0.0,>=1.23.0 in /Users/necibea/.local/share/mise/installs/python/3.12.11/lib/python3.12/site-packages (from strands-agents-tools) (1.24.0)\n",
      "Requirement already satisfied: sympy<2.0.0,>=1.12.0 in /Users/necibea/.local/share/mise/installs/python/3.12.11/lib/python3.12/site-packages (from strands-agents-tools) (1.14.0)\n",
      "Requirement already satisfied: tenacity<10.0.0,>=9.1.2 in /Users/necibea/.local/share/mise/installs/python/3.12.11/lib/python3.12/site-packages (from strands-agents-tools) (9.1.2)\n",
      "Requirement already satisfied: aiohappyeyeballs>=2.5.0 in /Users/necibea/.local/share/mise/installs/python/3.12.11/lib/python3.12/site-packages (from aiohttp<4.0.0,>=3.8.0->strands-agents-tools) (2.6.1)\n",
      "Requirement already satisfied: aiosignal>=1.4.0 in /Users/necibea/.local/share/mise/installs/python/3.12.11/lib/python3.12/site-packages (from aiohttp<4.0.0,>=3.8.0->strands-agents-tools) (1.4.0)\n",
      "Requirement already satisfied: attrs>=17.3.0 in /Users/necibea/.local/share/mise/installs/python/3.12.11/lib/python3.12/site-packages (from aiohttp<4.0.0,>=3.8.0->strands-agents-tools) (25.3.0)\n",
      "Requirement already satisfied: frozenlist>=1.1.1 in /Users/necibea/.local/share/mise/installs/python/3.12.11/lib/python3.12/site-packages (from aiohttp<4.0.0,>=3.8.0->strands-agents-tools) (1.7.0)\n",
      "Requirement already satisfied: multidict<7.0,>=4.5 in /Users/necibea/.local/share/mise/installs/python/3.12.11/lib/python3.12/site-packages (from aiohttp<4.0.0,>=3.8.0->strands-agents-tools) (6.6.4)\n",
      "Requirement already satisfied: propcache>=0.2.0 in /Users/necibea/.local/share/mise/installs/python/3.12.11/lib/python3.12/site-packages (from aiohttp<4.0.0,>=3.8.0->strands-agents-tools) (0.3.2)\n",
      "Requirement already satisfied: yarl<2.0,>=1.17.0 in /Users/necibea/.local/share/mise/installs/python/3.12.11/lib/python3.12/site-packages (from aiohttp<4.0.0,>=3.8.0->strands-agents-tools) (1.20.1)\n",
      "Requirement already satisfied: python-dateutil<3.0.0,>=2.1 in /Users/necibea/.local/share/mise/installs/python/3.12.11/lib/python3.12/site-packages (from botocore<1.41.0,>=1.40.51->boto3) (2.9.0.post0)\n",
      "Requirement already satisfied: urllib3!=2.2.0,<3,>=1.25.4 in /Users/necibea/.local/share/mise/installs/python/3.12.11/lib/python3.12/site-packages (from botocore<1.41.0,>=1.40.51->boto3) (2.5.0)\n",
      "Requirement already satisfied: beautifulsoup4<5,>=4.9 in /Users/necibea/.local/share/mise/installs/python/3.12.11/lib/python3.12/site-packages (from markdownify<2.0.0,>=1.0.0->strands-agents-tools) (4.13.5)\n",
      "Requirement already satisfied: six<2,>=1.15 in /Users/necibea/.local/share/mise/installs/python/3.12.11/lib/python3.12/site-packages (from markdownify<2.0.0,>=1.0.0->strands-agents-tools) (1.17.0)\n",
      "Requirement already satisfied: anyio>=4.5 in /Users/necibea/.local/share/mise/installs/python/3.12.11/lib/python3.12/site-packages (from mcp<2.0.0,>=1.11.0->strands-agents) (4.10.0)\n",
      "Requirement already satisfied: httpx-sse>=0.4 in /Users/necibea/.local/share/mise/installs/python/3.12.11/lib/python3.12/site-packages (from mcp<2.0.0,>=1.11.0->strands-agents) (0.4.1)\n",
      "Requirement already satisfied: httpx>=0.27.1 in /Users/necibea/.local/share/mise/installs/python/3.12.11/lib/python3.12/site-packages (from mcp<2.0.0,>=1.11.0->strands-agents) (0.28.1)\n",
      "Requirement already satisfied: jsonschema>=4.20.0 in /Users/necibea/.local/share/mise/installs/python/3.12.11/lib/python3.12/site-packages (from mcp<2.0.0,>=1.11.0->strands-agents) (4.25.1)\n",
      "Requirement already satisfied: pydantic-settings>=2.5.2 in /Users/necibea/.local/share/mise/installs/python/3.12.11/lib/python3.12/site-packages (from mcp<2.0.0,>=1.11.0->strands-agents) (2.10.1)\n",
      "Requirement already satisfied: python-multipart>=0.0.9 in /Users/necibea/.local/share/mise/installs/python/3.12.11/lib/python3.12/site-packages (from mcp<2.0.0,>=1.11.0->strands-agents) (0.0.20)\n",
      "Requirement already satisfied: sse-starlette>=1.6.1 in /Users/necibea/.local/share/mise/installs/python/3.12.11/lib/python3.12/site-packages (from mcp<2.0.0,>=1.11.0->strands-agents) (3.0.2)\n",
      "Requirement already satisfied: starlette>=0.27 in /Users/necibea/.local/share/mise/installs/python/3.12.11/lib/python3.12/site-packages (from mcp<2.0.0,>=1.11.0->strands-agents) (0.47.2)\n",
      "Requirement already satisfied: uvicorn>=0.31.1 in /Users/necibea/.local/share/mise/installs/python/3.12.11/lib/python3.12/site-packages (from mcp<2.0.0,>=1.11.0->strands-agents) (0.35.0)\n",
      "Requirement already satisfied: importlib-metadata<8.8.0,>=6.0 in /Users/necibea/.local/share/mise/installs/python/3.12.11/lib/python3.12/site-packages (from opentelemetry-api<2.0.0,>=1.30.0->strands-agents) (8.7.0)\n",
      "Requirement already satisfied: opentelemetry-instrumentation==0.57b0 in /Users/necibea/.local/share/mise/installs/python/3.12.11/lib/python3.12/site-packages (from opentelemetry-instrumentation-threading<1.00b0,>=0.51b0->strands-agents) (0.57b0)\n",
      "Requirement already satisfied: wrapt<2.0.0,>=1.0.0 in /Users/necibea/.local/share/mise/installs/python/3.12.11/lib/python3.12/site-packages (from opentelemetry-instrumentation-threading<1.00b0,>=0.51b0->strands-agents) (1.17.3)\n",
      "Requirement already satisfied: opentelemetry-semantic-conventions==0.57b0 in /Users/necibea/.local/share/mise/installs/python/3.12.11/lib/python3.12/site-packages (from opentelemetry-instrumentation==0.57b0->opentelemetry-instrumentation-threading<1.00b0,>=0.51b0->strands-agents) (0.57b0)\n",
      "Requirement already satisfied: packaging>=18.0 in /Users/necibea/.local/share/mise/installs/python/3.12.11/lib/python3.12/site-packages (from opentelemetry-instrumentation==0.57b0->opentelemetry-instrumentation-threading<1.00b0,>=0.51b0->strands-agents) (25.0)\n",
      "Requirement already satisfied: wcwidth in /Users/necibea/.local/share/mise/installs/python/3.12.11/lib/python3.12/site-packages (from prompt-toolkit<4.0.0,>=3.0.51->strands-agents-tools) (0.2.13)\n",
      "Requirement already satisfied: annotated-types>=0.6.0 in /Users/necibea/.local/share/mise/installs/python/3.12.11/lib/python3.12/site-packages (from pydantic<3.0.0,>=2.4.0->strands-agents) (0.7.0)\n",
      "Requirement already satisfied: pydantic-core==2.33.2 in /Users/necibea/.local/share/mise/installs/python/3.12.11/lib/python3.12/site-packages (from pydantic<3.0.0,>=2.4.0->strands-agents) (2.33.2)\n",
      "Requirement already satisfied: typing-inspection>=0.4.0 in /Users/necibea/.local/share/mise/installs/python/3.12.11/lib/python3.12/site-packages (from pydantic<3.0.0,>=2.4.0->strands-agents) (0.4.1)\n",
      "Requirement already satisfied: charset_normalizer<4,>=2 in /Users/necibea/.local/share/mise/installs/python/3.12.11/lib/python3.12/site-packages (from requests<3.0.0,>=2.28.0->strands-agents-tools) (3.4.3)\n",
      "Requirement already satisfied: idna<4,>=2.5 in /Users/necibea/.local/share/mise/installs/python/3.12.11/lib/python3.12/site-packages (from requests<3.0.0,>=2.28.0->strands-agents-tools) (3.10)\n",
      "Requirement already satisfied: certifi>=2017.4.17 in /Users/necibea/.local/share/mise/installs/python/3.12.11/lib/python3.12/site-packages (from requests<3.0.0,>=2.28.0->strands-agents-tools) (2025.8.3)\n",
      "Requirement already satisfied: markdown-it-py>=2.2.0 in /Users/necibea/.local/share/mise/installs/python/3.12.11/lib/python3.12/site-packages (from rich<15.0.0,>=14.0.0->strands-agents-tools) (4.0.0)\n",
      "Requirement already satisfied: pygments<3.0.0,>=2.13.0 in /Users/necibea/.local/share/mise/installs/python/3.12.11/lib/python3.12/site-packages (from rich<15.0.0,>=14.0.0->strands-agents-tools) (2.19.2)\n",
      "Requirement already satisfied: slack_sdk<4,>=3.35.0 in /Users/necibea/.local/share/mise/installs/python/3.12.11/lib/python3.12/site-packages (from slack-bolt<2.0.0,>=1.23.0->strands-agents-tools) (3.36.0)\n",
      "Requirement already satisfied: mpmath<1.4,>=1.1.0 in /Users/necibea/.local/share/mise/installs/python/3.12.11/lib/python3.12/site-packages (from sympy<2.0.0,>=1.12.0->strands-agents-tools) (1.3.0)\n",
      "Requirement already satisfied: sniffio>=1.1 in /Users/necibea/.local/share/mise/installs/python/3.12.11/lib/python3.12/site-packages (from anyio>=4.5->mcp<2.0.0,>=1.11.0->strands-agents) (1.3.1)\n",
      "Requirement already satisfied: soupsieve>1.2 in /Users/necibea/.local/share/mise/installs/python/3.12.11/lib/python3.12/site-packages (from beautifulsoup4<5,>=4.9->markdownify<2.0.0,>=1.0.0->strands-agents-tools) (2.8)\n",
      "Requirement already satisfied: httpcore==1.* in /Users/necibea/.local/share/mise/installs/python/3.12.11/lib/python3.12/site-packages (from httpx>=0.27.1->mcp<2.0.0,>=1.11.0->strands-agents) (1.0.9)\n",
      "Requirement already satisfied: h11>=0.16 in /Users/necibea/.local/share/mise/installs/python/3.12.11/lib/python3.12/site-packages (from httpcore==1.*->httpx>=0.27.1->mcp<2.0.0,>=1.11.0->strands-agents) (0.16.0)\n",
      "Requirement already satisfied: zipp>=3.20 in /Users/necibea/.local/share/mise/installs/python/3.12.11/lib/python3.12/site-packages (from importlib-metadata<8.8.0,>=6.0->opentelemetry-api<2.0.0,>=1.30.0->strands-agents) (3.23.0)\n",
      "Requirement already satisfied: jsonschema-specifications>=2023.03.6 in /Users/necibea/.local/share/mise/installs/python/3.12.11/lib/python3.12/site-packages (from jsonschema>=4.20.0->mcp<2.0.0,>=1.11.0->strands-agents) (2025.4.1)\n",
      "Requirement already satisfied: referencing>=0.28.4 in /Users/necibea/.local/share/mise/installs/python/3.12.11/lib/python3.12/site-packages (from jsonschema>=4.20.0->mcp<2.0.0,>=1.11.0->strands-agents) (0.36.2)\n",
      "Requirement already satisfied: rpds-py>=0.7.1 in /Users/necibea/.local/share/mise/installs/python/3.12.11/lib/python3.12/site-packages (from jsonschema>=4.20.0->mcp<2.0.0,>=1.11.0->strands-agents) (0.27.0)\n",
      "Requirement already satisfied: mdurl~=0.1 in /Users/necibea/.local/share/mise/installs/python/3.12.11/lib/python3.12/site-packages (from markdown-it-py>=2.2.0->rich<15.0.0,>=14.0.0->strands-agents-tools) (0.1.2)\n",
      "Requirement already satisfied: python-dotenv>=0.21.0 in /Users/necibea/.local/share/mise/installs/python/3.12.11/lib/python3.12/site-packages (from pydantic-settings>=2.5.2->mcp<2.0.0,>=1.11.0->strands-agents) (1.1.1)\n",
      "Requirement already satisfied: click>=7.0 in /Users/necibea/.local/share/mise/installs/python/3.12.11/lib/python3.12/site-packages (from uvicorn>=0.31.1->mcp<2.0.0,>=1.11.0->strands-agents) (8.2.1)\n",
      "\n",
      "\u001b[1m[\u001b[0m\u001b[34;49mnotice\u001b[0m\u001b[1;39;49m]\u001b[0m\u001b[39;49m A new release of pip is available: \u001b[0m\u001b[31;49m24.3.1\u001b[0m\u001b[39;49m -> \u001b[0m\u001b[32;49m25.2\u001b[0m\n",
      "\u001b[1m[\u001b[0m\u001b[34;49mnotice\u001b[0m\u001b[1;39;49m]\u001b[0m\u001b[39;49m To update, run: \u001b[0m\u001b[32;49mpip install --upgrade pip\u001b[0m\n",
      "Note: you may need to restart the kernel to use updated packages.\n"
     ]
    }
   ],
   "source": [
    "%pip install -U boto3 strands-agents strands-agents-tools"
   ]
  },
  {
   "cell_type": "code",
   "execution_count": 2,
   "id": "217d7e17-be9a-474e-b683-d3f7ccd69b34",
   "metadata": {},
   "outputs": [],
   "source": [
    "import logging\n",
    "\n",
    "# Enables Strands debug log level\n",
    "logging.getLogger(\"strands\").setLevel(logging.WARNING)\n",
    "\n",
    "# Sets the logging format and streams logs to stderr\n",
    "logging.basicConfig(\n",
    "    format=\"%(levelname)s | %(name)s | %(message)s\", handlers=[logging.StreamHandler()]\n",
    ")"
   ]
  },
  {
   "cell_type": "code",
   "execution_count": 3,
   "id": "454cab0e-3846-43c5-b448-3787973cb33c",
   "metadata": {},
   "outputs": [],
   "source": [
    "MODEL_ID = \"us.anthropic.claude-3-7-sonnet-20250219-v1:0\""
   ]
  },
  {
   "cell_type": "code",
   "execution_count": 4,
   "id": "3dc83f7c-2fb1-4a83-b11a-295532e3b68f",
   "metadata": {},
   "outputs": [],
   "source": [
    "QUERY = \"What are some recent advances in GLP-1 drugs?\""
   ]
  },
  {
   "cell_type": "markdown",
   "id": "96912844-0b45-43e6-a233-286045130e7d",
   "metadata": {},
   "source": [
    "## Basic Prompt without Context"
   ]
  },
  {
   "cell_type": "markdown",
   "id": "2c283a6b",
   "metadata": {},
   "source": [
    "To begin, we'll create a basic agent and see how well it can answer a scientific question without any additional context."
   ]
  },
  {
   "cell_type": "code",
   "execution_count": 5,
   "id": "fd3e83c5-005b-41af-8fa5-303f75f00f7e",
   "metadata": {},
   "outputs": [
    {
     "name": "stdout",
     "output_type": "stream",
     "text": [
      "# Recent Advances in GLP-1 Drugs\n",
      "\n",
      "## Key Clinical Findings\n",
      "\n",
      "### Improved Formulations and Delivery\n",
      "- **Extended-release formulations** have significantly improved patient adherence by reducing injection frequency from daily to weekly administration (PMCID: PMC8643344)\n",
      "- **Oral semaglutide (Rybelsus)** represents a breakthrough as the first oral GLP-1 receptor agonist, improving patient convenience while maintaining efficacy comparable to injectable forms (PMCID: PMC7195951)\n",
      "- **Dual and triple receptor agonists** (targeting GLP-1/GIP/glucagon) show enhanced efficacy compared to GLP-1 monotherapy, with tirzepatide (GLP-1/GIP) demonstrating superior weight loss and glycemic control (PMCID: PMC8522637)\n",
      "\n",
      "### Expanded Therapeutic Applications\n",
      "- **Cardiovascular benefits** extend beyond glycemic control, with semaglutide and dulaglutide demonstrating significant reductions in major adverse cardiovascular events in large clinical trials (PMCID: PMC7299082)\n",
      "- **Renoprotective effects** showing reduced progression of diabetic kidney disease and decreased albuminuria (PMCID: PMC8279225)\n",
      "- **Weight management applications** have expanded with high-dose semaglutide (Wegovy) approved specifically for obesity treatment, producing average weight loss of 15-20% in clinical trials (PMCID: PMC8522637)\n",
      "- **Emerging applications in NASH** (non-alcoholic steatohepatitis) showing resolution of liver inflammation and fibrosis in preliminary studies (PMCID: PMC8365901)\n",
      "\n",
      "### Novel Mechanisms and Combinations\n",
      "- **Neural mechanisms** of GLP-1 drugs are increasingly recognized, with direct effects on appetite regulation via brain GLP-1 receptors (PMCID: PMC7671714)\n",
      "- **Combination therapies** pairing GLP-1 agonists with SGLT-2 inhibitors show synergistic effects on weight loss, glycemic control, and cardiorenal protection (PMCID: PMC8643344)\n",
      "\n",
      "## Key Research Groups and Methodologies\n",
      "\n",
      "### Leading Research Centers\n",
      "- **University of Copenhagen** (Knudsen, Holst): Pioneering work on incretin physiology and GLP-1 drug development\n",
      "- **University of California, San Diego** (Baron, Henry): Focus on novel delivery systems and oral formulations\n",
      "- **Duke University** (D'Alessio, Drucker): Research on expanded applications beyond diabetes\n",
      "\n",
      "### Innovative Methodologies\n",
      "- **PK/PD modeling** to optimize dosing and understand variable patient responses\n",
      "- **Advanced neuroimaging** to elucidate central nervous system mechanisms of action\n",
      "- **Long-term observational studies** examining cardiorenal outcomes over 5+ years of treatment\n",
      "\n",
      "## Future Directions\n",
      "- Development of **once-monthly formulations** currently in Phase II trials (PMCID: PMC8643344)\n",
      "- Investigation of **tissue-specific GLP-1 receptor agonists** to maximize benefits while reducing side effects (PMCID: PMC7195951)\n",
      "- Expanding applications to **neurodegenerative diseases** with preliminary evidence suggesting neuroprotective effects in Alzheimer's and Parkinson's disease models (PMCID: PMC7671714)\n",
      "\n",
      "This rapidly evolving field has transformed from diabetes-focused therapies to multi-system treatments with applications spanning cardiometabolic, renal, and potentially neurological conditions."
     ]
    }
   ],
   "source": [
    "from strands import Agent\n",
    "\n",
    "SYSTEM_PROMPT = \"\"\"\n",
    "    You are a specialized PubMed research agent. Your role is to:\n",
    "    1. Search PubMed Central for medical papers related to the query\n",
    "    2. Extract and summarize the most relevant clinical findings\n",
    "    3. Identify key research groups and methodologies\n",
    "    4. Return structured, well-cited information with PMCID references\n",
    "    \"\"\"\n",
    "\n",
    "# Initialize your agent\n",
    "agent = Agent(system_prompt=SYSTEM_PROMPT, model=MODEL_ID)\n",
    "\n",
    "# Send a message to the agent\n",
    "response = agent(QUERY)"
   ]
  },
  {
   "cell_type": "markdown",
   "id": "4d8e03cf-6bd2-4739-bfae-c875abeedd76",
   "metadata": {},
   "source": [
    "Copy and paste a few of the PMCIDs in the previous cell into the [PMC web search](https://pmc.ncbi.nlm.nih.gov/). Notice anything unusual? They likely point to completely unrelated resources! Without additional context, LLMs will do their best to generate IDs that seem convincing - they may even return real IDs included in their training data. However, if we want our agent to consistently return accurate, up-to-date results we need to provide it with a tool."
   ]
  },
  {
   "cell_type": "markdown",
   "id": "33c8e13b-12f7-4125-9c68-493b69f876cb",
   "metadata": {},
   "source": [
    "## Search PMC for Scientific Abstracts"
   ]
  },
  {
   "cell_type": "markdown",
   "id": "8e59d15c",
   "metadata": {},
   "source": [
    "Let's see if we can improve the performance of our agent by giving it a tool. To start, we've created a custom tool called `search_pmc_tool` that uses the PMC API to identify relevant scientific article abstracts. This tool has some special features to help the agent focus on the most relevant articles:\n",
    "\n",
    "- It limits the search to only articles licensed for commercial use\n",
    "- For each article in the search results, the tool calculates how many OTHER articles include it as a reference. These are likely to be the most impactful and valuable to the agent\n",
    "\n",
    "You can look at the `search_pmc_tool` code at `tools/search_pmc.py`."
   ]
  },
  {
   "cell_type": "code",
   "execution_count": 6,
   "id": "cbca2f29-3e6d-417c-a25b-beb31433cd5f",
   "metadata": {
    "scrolled": true
   },
   "outputs": [
    {
     "name": "stdout",
     "output_type": "stream",
     "text": [
      "I'll search for recent advances in GLP-1 drugs in the scientific literature. Let me do that for you.\n",
      "Tool #1: search_pmc_tool\n",
      "Let me refine my search to get better results about recent GLP-1 advances.\n",
      "Tool #2: search_pmc_tool\n",
      "Let me try a broader search term to find information about recent GLP-1 drug developments:\n",
      "Tool #3: search_pmc_tool\n",
      "I'll try one more search with broader terms:\n",
      "Tool #4: search_pmc_tool\n",
      "It seems we're having difficulty with the date filter. Let me try a search without the date filter:\n",
      "Tool #5: search_pmc_tool\n",
      "# Recent Advances in GLP-1 Drugs: A Comprehensive Review\n",
      "\n",
      "Based on the latest scientific literature, here are the key recent advances in Glucagon-Like Peptide-1 (GLP-1) drugs:\n",
      "\n",
      "## 1. Evolution Beyond Diabetes Treatment\n",
      "\n",
      "GLP-1 receptor agonists (GLP-1RAs) have expanded far beyond their original use as diabetes treatments. Recent research shows they offer benefits for:\n",
      "\n",
      "- **Obesity management**: GLP-1RAs have demonstrated significant efficacy for weight loss, leading to FDA approval for obesity treatment [PMC8189979]\n",
      "- **Cardiovascular protection**: Several cardiovascular outcome trials have shown reduced risk of major adverse cardiovascular events [PMC8193264, PMC8820186]\n",
      "- **Kidney protection**: Emerging evidence supports their role in reducing progression of diabetic kidney disease [PMC8995488]\n",
      "- **Neurological applications**: Potential benefits in neurodegenerative conditions like Alzheimer's and Parkinson's diseases [PMC9455625, PMC9714676, PMC9812772]\n",
      "- **Addiction treatment**: Novel applications for treating alcohol use disorder and other addictions [PMC10097922, PMC7785877]\n",
      "\n",
      "## 2. Development of Dual and Multi-Agonist Drugs\n",
      "\n",
      "A significant breakthrough has been the creation of dual-action drugs targeting multiple receptors:\n",
      "\n",
      "- **Tirzepatide**: The first \"twincretin\" targeting both GLP-1 and glucose-dependent insulinotropic peptide (GIP) receptors, offering superior glycemic control and weight loss compared to GLP-1 agonists alone [PMC9268041]\n",
      "- **Survodutide**: A dual glucagon/GLP-1 receptor agonist showing promising dose-dependent effects on HbA1c and weight reduction [PMC10844353]\n",
      "- **BI 456906**: A novel GCGR/GLP-1R dual agonist with robust anti-obesity efficacy [PMC9679702]\n",
      "\n",
      "## 3. Improved Drug Formulations and Delivery\n",
      "\n",
      "Research has focused on enhancing the pharmacokinetic profile of GLP-1 drugs:\n",
      "\n",
      "- **Evolution from short to long-acting formulations**: Development from twice-daily to once-weekly injections [PMC8085572]\n",
      "- **Enhanced receptor trafficking**: Research targeting GLP-1 receptor trafficking to improve agonist efficacy [PMC5913239]\n",
      "- **Extended half-life formulations**: Overcoming the original problem of rapid elimination [PMC8085572]\n",
      "\n",
      "## 4. Expanded Understanding of Mechanism of Action\n",
      "\n",
      "Recent research has revealed broader physiological effects:\n",
      "\n",
      "- **Anti-inflammatory properties**: GLP-1RAs demonstrate significant anti-inflammatory effects across multiple organ systems [PMC10823863]\n",
      "- **Central nervous system effects**: Emerging evidence shows GLP-1RAs act directly on the brain to reduce appetite and offer neuroprotection [PMC9455625]\n",
      "- **Pleiotropic effects beyond glycemic control**: Including effects on the liver, heart, gut, and adipose tissue [PMC8775408]\n",
      "- **Receptor trafficking and signaling pathways**: Enhanced understanding of how GLP-1R trafficking affects drug efficacy [PMC8143046]\n",
      "\n",
      "## 5. Real-World Evidence and Clinical Applications\n",
      "\n",
      "Recent studies have provided valuable real-world data:\n",
      "\n",
      "- **Social media analysis**: Revealing public perceptions and discussions about GLP-1RAs [PMC11450939]\n",
      "- **Real-world effectiveness studies**: Demonstrating actual clinical outcomes outside of controlled trials [PMC12000858]\n",
      "- **Comparative effectiveness research**: Studies comparing different GLP-1RAs with other diabetes and weight loss treatments [PMC7804890]\n",
      "\n",
      "## Future Directions\n",
      "\n",
      "The research indicates several promising future directions:\n",
      "\n",
      "- Further development of multi-receptor agonists targeting GLP-1, GIP, and glucagon receptors\n",
      "- Expanded applications for neurodegenerative and psychiatric conditions\n",
      "- Enhanced formulations with improved side effect profiles\n",
      "- Novel delivery systems to increase patient adherence\n",
      "- Combination therapies with SGLT-2 inhibitors and other medications\n",
      "\n",
      "## References\n",
      "\n",
      "These findings are supported by multiple high-quality research articles published in the past five years, with many showing significant citation counts within the scientific community, indicating their importance in advancing our understanding of GLP-1 drugs."
     ]
    }
   ],
   "source": [
    "from strands import Agent\n",
    "from tools.search_pmc import search_pmc_tool\n",
    "\n",
    "SYSTEM_PROMPT = \"\"\"You are a life science research assistant. When given a scientific question, follow this process:\n",
    "\n",
    "1. Use search_pmc_tool with rerank=\"referenced_by\", max_results to 200-500, and max_records to 20-50 to find highly-cited papers. Search broadly first, then narrow down. Use temporal filters like \"last 5 years\"[dp] for recent work. \n",
    "2. Extract and summarize the most relevant clinical findings.\n",
    "3. Return structured, well-cited information with PMC ID references.\n",
    "4. Return URL links associated with PMCID references\n",
    "\n",
    "Key guidelines:\n",
    "- Always use rerank=\"referenced_by\" in searches to prioritize influential papers.\n",
    "- Limit searches to 20-50 articles for focused analysis.\n",
    "- Select articles strategically based on citation count and relevance.\n",
    "\"\"\"\n",
    "\n",
    "# Initialize your agent\n",
    "agent = Agent(system_prompt=SYSTEM_PROMPT, tools=[search_pmc_tool], model=MODEL_ID)\n",
    "\n",
    "# Send a message to the agent\n",
    "response = agent(QUERY)"
   ]
  },
  {
   "cell_type": "markdown",
   "id": "85059df2",
   "metadata": {},
   "source": [
    "The additional information makes the agent response much more detailed. Try [searching](https://pmc.ncbi.nlm.nih.gov/) for the PMCIDs again. This time they should link to the correct articles."
   ]
  },
  {
   "cell_type": "markdown",
   "id": "bad2831a-cad8-4c41-a0e5-9503e1a503f4",
   "metadata": {},
   "source": [
    "## Retrieve Full Text"
   ]
  },
  {
   "cell_type": "markdown",
   "id": "0f0f2e59",
   "metadata": {},
   "source": [
    "Giving our agent the ability to search for PubMed abstracts made a big difference in its response. We can improve the results even further by giving it access full text documents as well. PubMed Central maintains an [online repository of full-text articles](https://pmc.ncbi.nlm.nih.gov/tools/pmcaws/) in Amazon S3 as part of the [AWS Open Data Sponsorship Program](https://aws.amazon.com/opendata/open-data-sponsorship-program/). This is a powerful source of information for scientific research.\n",
    "\n",
    "Let's give our agent access to another tool named `read_pmc_tool` to download and process full-text articles and see how it affects the results."
   ]
  },
  {
   "cell_type": "code",
   "execution_count": 7,
   "id": "8d3709a8-03fc-4f06-91c8-9c4c332198ea",
   "metadata": {},
   "outputs": [
    {
     "name": "stdout",
     "output_type": "stream",
     "text": [
      "I'll help you find information about recent advances in GLP-1 drugs. Let me search for relevant scientific articles in the medical literature.\n",
      "Tool #1: search_pmc_tool\n",
      "Let me refine my search with more specific terminology:\n",
      "Tool #2: search_pmc_tool\n",
      "Let me try a more general search:\n",
      "Tool #3: search_pmc_tool\n",
      "I need to try a different search strategy:\n",
      "Tool #4: search_pmc_tool\n",
      "Let me try once more with a simpler query:\n",
      "Tool #5: search_pmc_tool\n",
      "I need to try a different approach. Let me search with a more general query without the date restriction first:\n",
      "Tool #6: search_pmc_tool\n",
      "Now let me retrieve the full text of one of the most comprehensive recent review articles to understand recent advances in GLP-1 drugs:\n",
      "Tool #7: read_pmc_tool\n"
     ]
    },
    {
     "name": "stderr",
     "output_type": "stream",
     "text": [
      "WARNING | read_pmc_tool | Content for PMC11408715 is very long (313662 chars), pre-truncating\n"
     ]
    },
    {
     "name": "stdout",
     "output_type": "stream",
     "text": [
      "\n",
      "Tool #8: read_pmc_tool\n"
     ]
    },
    {
     "name": "stderr",
     "output_type": "stream",
     "text": [
      "WARNING | read_pmc_tool | Content for PMC8921987 is very long (98922 chars), pre-truncating\n"
     ]
    },
    {
     "name": "stdout",
     "output_type": "stream",
     "text": [
      "# Recent Advances in GLP-1 Drugs: A Comprehensive Overview\n",
      "\n",
      "Based on the scientific literature, here are the key recent advances in GLP-1 (Glucagon-Like Peptide-1) drugs:\n",
      "\n",
      "## Evolution of GLP-1 Receptor Agonists\n",
      "\n",
      "GLP-1 receptor agonists (GLP-1RAs) have evolved significantly since the approval of exenatide in 2005. The most notable recent advances include:\n",
      "\n",
      "1. **Extended Duration Formulations**: Development has progressed from short-acting compounds requiring twice-daily injections to weekly administration options. Current GLP-1RAs can be categorized by duration:\n",
      "   - **Short-acting**: Exenatide (2.4h half-life), Lixisenatide (2-4h)\n",
      "   - **Intermediate-acting**: Liraglutide (11-13h), Beinaglutide\n",
      "   - **Long-acting**: Semaglutide (6-7 days), Dulaglutide (108-112h), PEG-loxenatide (1 week)\n",
      "   ([PMC11408715](https://www.ncbi.nlm.nih.gov/pmc/articles/PMC11408715/))\n",
      "\n",
      "2. **Oral GLP-1 Receptor Agonists**: The development of oral semaglutide (Rybelsus®) represents a breakthrough as the first oral GLP-1RA, improving patient convenience and potentially adherence. Additional oral GLP-1RAs in development include orforglipron, danuglipron, and GSBR-1290.\n",
      "   ([PMC8921987](https://www.ncbi.nlm.nih.gov/pmc/articles/PMC8921987/))\n",
      "\n",
      "## Multi-Receptor Targeting Approaches\n",
      "\n",
      "A major breakthrough has been the development of drugs that target multiple hormone receptors simultaneously:\n",
      "\n",
      "1. **Dual GIP/GLP-1 Receptor Agonists**: Tirzepatide, approved in 2022 for type 2 diabetes and subsequently for obesity, represents the first dual GIP/GLP-1 receptor co-agonist. Clinical trials demonstrate superior efficacy compared to GLP-1RAs alone:\n",
      "   - HbA1c reductions of 1.87-2.59% (vs. 1.24-2.58% for GLP-1RAs)\n",
      "   - Weight loss of 6.2-12.9% (with up to 57% of patients achieving >10% weight loss)\n",
      "   - Similar weight loss efficacy in both diabetic and non-diabetic individuals\n",
      "   ([PMC9438179](https://www.ncbi.nlm.nih.gov/pmc/articles/PMC9438179/), [PMC8921987](https://www.ncbi.nlm.nih.gov/pmc/articles/PMC8921987/))\n",
      "\n",
      "2. **Triple Agonists**: Triagonists targeting GLP-1, GIP, and glucagon receptors (e.g., retatrutide) demonstrate enhanced efficacy for glycemic control and weight reduction compared to mono- or dual-agonists. These are advancing through clinical trials with promising results.\n",
      "   ([PMC5404097](https://www.ncbi.nlm.nih.gov/pmc/articles/PMC5404097/), [PMC11408715](https://www.ncbi.nlm.nih.gov/pmc/articles/PMC11408715/))\n",
      "\n",
      "## Expanded Therapeutic Applications\n",
      "\n",
      "Recent research has revealed GLP-1RAs' potential beyond diabetes treatment:\n",
      "\n",
      "1. **Obesity Management**: High-dose semaglutide (2.4mg, Wegovy®) demonstrates unprecedented efficacy with >15% weight loss in 50.5% of patients, establishing a new benchmark in anti-obesity medication.\n",
      "   ([PMC8921987](https://www.ncbi.nlm.nih.gov/pmc/articles/PMC8921987/))\n",
      "\n",
      "2. **Cardiovascular Benefits**: Multiple GLP-1RAs show significant reduction in major adverse cardiovascular events, improved heart failure outcomes, and decreased atherosclerosis progression.\n",
      "   ([PMC8419463](https://www.ncbi.nlm.nih.gov/pmc/articles/PMC8419463/))\n",
      "\n",
      "3. **Neurodegenerative Diseases**: GLP-1RAs demonstrate neuroprotective effects in models of Alzheimer's and Parkinson's disease through:\n",
      "   - Reduced neuroinflammation\n",
      "   - Improved mitochondrial function\n",
      "   - Enhanced neurotrophic signaling\n",
      "   ([PMC9455625](https://www.ncbi.nlm.nih.gov/pmc/articles/PMC9455625/))\n",
      "\n",
      "4. **Liver Disease**: GLP-1RAs improve non-alcoholic fatty liver disease (NAFLD) and non-alcoholic steatohepatitis (NASH) through:\n",
      "   - Reduced hepatic steatosis\n",
      "   - Decreased inflammation\n",
      "   - Enhanced mitochondrial function\n",
      "   ([PMC11408715](https://www.ncbi.nlm.nih.gov/pmc/articles/PMC11408715/))\n",
      "\n",
      "5. **Addiction Treatment**: Recent clinical trials show that semaglutide reduces alcohol consumption and craving in adults with alcohol use disorder (AUD).\n",
      "   ([PMC11822619](https://www.ncbi.nlm.nih.gov/pmc/articles/PMC11822619/), [PMC10684505](https://www.ncbi.nlm.nih.gov/pmc/articles/PMC10684505/))\n",
      "\n",
      "6. **Musculoskeletal Disorders**: Anti-inflammatory effects in osteoarthritis and rheumatoid arthritis models via inhibition of pro-inflammatory pathways.\n",
      "   ([PMC8888891](https://www.ncbi.nlm.nih.gov/pmc/articles/PMC8888891/))\n",
      "\n",
      "## Novel Mechanisms and Delivery Systems\n",
      "\n",
      "1. **Targeting Receptor Trafficking**: New research shows that modifying GLP-1R trafficking can improve agonist efficacy, leading to development of biased agonists with better therapeutic profiles.\n",
      "   ([PMC5913239](https://www.ncbi.nlm.nih.gov/pmc/articles/PMC5913239/))\n",
      "\n",
      "2. **Improved Formulations**: Innovations in drug delivery systems to improve convenience and adherence include:\n",
      "   - Auto-injectors and pen devices for easier self-administration\n",
      "   - Implantable osmotic delivery systems\n",
      "   - Microencapsulation and sustained-release formulations\n",
      "\n",
      "## Future Directions\n",
      "\n",
      "The research suggests several promising directions for GLP-1-based therapies:\n",
      "\n",
      "1. **Personalized Medicine Approaches**: Development of methods to identify patients most likely to respond to specific GLP-1RAs or multi-agonists.\n",
      "\n",
      "2. **Further Expansion of Clinical Applications**: Ongoing trials are exploring GLP-1RAs for additional conditions including heart failure, chronic kidney disease, and various neurodegenerative disorders.\n",
      "\n",
      "3. **Novel Combination Therapies**: Combining GLP-1RAs with other agents to enhance efficacy or mitigate side effects.\n",
      "\n",
      "4. **Elucidation of GIPR Signaling**: Better understanding the mechanisms through which GIPR signaling affects metabolism and synergizes with GLP-1R activation.\n",
      "\n",
      "These advances represent a paradigm shift in treating metabolic disorders, with GLP-1-based therapies evolving from diabetes treatments to broader therapeutic platforms addressing multiple chronic conditions."
     ]
    }
   ],
   "source": [
    "from strands import Agent\n",
    "from tools.search_pmc import search_pmc_tool\n",
    "from tools.read_pmc import read_pmc_tool\n",
    "\n",
    "SYSTEM_PROMPT = \"\"\"You are a life science research assistant. When given a scientific question, follow this process:\n",
    "\n",
    "1. Use search_pmc_tool with rerank=\"referenced_by\", max_results to 200-500, and max_records to 20-50 to find highly-cited papers. Search broadly first, then narrow down. Use temporal filters like \"last 5 years\"[dp] for recent work. \n",
    "2. Use read_pmc_tool on the 1-2 most relevant articles from your search results to gain a better understanding of the space. Focus on highly-cited papers and reviews.\n",
    "3. Extract and summarize the most relevant clinical findings.\n",
    "4. Return structured, well-cited information with PMCID references.\n",
    "5. Return URL links associated with PMCID references\n",
    "\n",
    "Key guidelines:\n",
    "- Always use rerank=\"referenced_by\" in searches to prioritize influential papers.\n",
    "- Limit searches to 20-50 articles for focused analysis.\n",
    "- Select articles strategically based on citation count and relevance.\n",
    "\"\"\"\n",
    "\n",
    "# Initialize your agent\n",
    "agent = Agent(\n",
    "    system_prompt=SYSTEM_PROMPT, tools=[search_pmc_tool, read_pmc_tool], model=MODEL_ID\n",
    ")\n",
    "\n",
    "# Send a message to the agent\n",
    "response = agent(QUERY)"
   ]
  },
  {
   "cell_type": "markdown",
   "id": "6ee878e3-9f2f-45eb-94c1-2d92b478bcfe",
   "metadata": {},
   "source": [
    "The additional context improves the agent results even further."
   ]
  }
 ],
 "metadata": {
  "kernelspec": {
   "display_name": "Python 3",
   "language": "python",
   "name": "python3"
  },
  "language_info": {
   "codemirror_mode": {
    "name": "ipython",
    "version": 3
   },
   "file_extension": ".py",
   "mimetype": "text/x-python",
   "name": "python",
   "nbconvert_exporter": "python",
   "pygments_lexer": "ipython3",
   "version": "3.12.11"
  }
 },
 "nbformat": 4,
 "nbformat_minor": 5
}
