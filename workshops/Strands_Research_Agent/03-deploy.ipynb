{
 "cells": [
  {
   "cell_type": "markdown",
   "id": "84ccc759-e8f8-4c40-99d4-f14752b5cf1d",
   "metadata": {},
   "source": [
    "# Deploy Agent as Lambda Function\n",
    "\n",
    "Strands agents agents can be deployed where you would host a Python application, including Amazon EC2, Amazon EKS, and AWS Fargate. You can also deploy many agents to a serverless AWS Lambda function. In this example, we'll package the code and dependencies for our research agent, deploy it to AWS Lambda, and then test the resulting function.\n",
    "\n",
    "## Prerequisites\n",
    "\n",
    "- Python 3.10 or later\n",
    "- AWS account configured with appropriate permissions\n",
    "- Access to the Anthropic Claude 3.7 Sonnet model in Amazon Bedrock\n",
    "- Basic understanding of Python programming"
   ]
  },
  {
   "cell_type": "code",
   "execution_count": null,
   "id": "abfd1cfb-5818-4a11-83e0-6960030e40c0",
   "metadata": {},
   "outputs": [],
   "source": [
    "import boto3\n",
    "import json\n",
    "import os\n",
    "from pathlib import Path\n",
    "import time\n",
    "\n",
    "FUNCTION_NAME = \"strands-research-agent\"\n",
    "ROLE_NAME = \"strands-agent-lambda-role\"\n",
    "script_dir = Path(os.path.abspath(\"\"))\n",
    "source_dir = script_dir\n",
    "ZIP_FILE = script_dir / f\"{FUNCTION_NAME}.zip\"\n",
    "\n",
    "boto_session = boto3.session.Session()\n",
    "region = boto_session.region_name\n",
    "sts_client = boto_session.client(\"sts\")\n",
    "account_id = sts_client.get_caller_identity()[\"Account\"]\n",
    "DEPLOYMENT_BUCKET = f\"lambda-deployments-{account_id}-{region}\"\n",
    "print(DEPLOYMENT_BUCKET)"
   ]
  },
  {
   "cell_type": "markdown",
   "id": "47a10eb3-cd71-45b9-a43e-597c1d4bb2d9",
   "metadata": {},
   "source": [
    "## Review Lambda Handler\n",
    "\n",
    "Let's take a look at the lambda handler function. This is a pretty simple file that defines the agent system prompt and imports the necessary tools."
   ]
  },
  {
   "cell_type": "code",
   "execution_count": null,
   "id": "f8e9f171-fa1a-4c1d-aa18-f9865f8441e4",
   "metadata": {},
   "outputs": [],
   "source": [
    "%pycat lambda/agent_handler.py"
   ]
  },
  {
   "cell_type": "markdown",
   "id": "31276a0c-12d9-407a-abe0-9481e67fca68",
   "metadata": {},
   "source": [
    "## Prepare Deployment Packages"
   ]
  },
  {
   "cell_type": "markdown",
   "id": "77b9b924",
   "metadata": {},
   "source": [
    "Next, we package the agent code and dependencies into zip archives and upload them to an Amazon S3 bucket."
   ]
  },
  {
   "cell_type": "code",
   "execution_count": null,
   "id": "ce4f1441-f3a2-4c57-8377-0ee7099c5035",
   "metadata": {
    "scrolled": true
   },
   "outputs": [],
   "source": [
    "%%sh\n",
    "pip install -r requirements.txt --python-version 3.12 --platform manylinux2014_aarch64 --target ./packaging/_dependencies --only-binary=:all:\n",
    "python package_for_lambda.py"
   ]
  },
  {
   "cell_type": "code",
   "execution_count": null,
   "id": "b64c8fd4-bd98-4bc3-826a-34f609114986",
   "metadata": {},
   "outputs": [],
   "source": [
    "s3_client = boto_session.client(\"s3\")\n",
    "\n",
    "# Create S3 bucket if it doesn't exist\n",
    "try:\n",
    "    s3_client.head_bucket(Bucket=DEPLOYMENT_BUCKET)\n",
    "    print(f\"Using existing S3 bucket: {DEPLOYMENT_BUCKET}\")\n",
    "except:\n",
    "    print(f\"Creating S3 bucket: {DEPLOYMENT_BUCKET}\")\n",
    "    s3_client.create_bucket(Bucket=DEPLOYMENT_BUCKET)\n",
    "\n",
    "s3_key = f\"{FUNCTION_NAME}/{ZIP_FILE.name}\"\n",
    "s3_client.upload_file(\n",
    "    \"packaging/app.zip\", DEPLOYMENT_BUCKET, f\"{FUNCTION_NAME}/app.zip\"\n",
    ")\n",
    "s3_client.upload_file(\n",
    "    \"packaging/dependencies.zip\", DEPLOYMENT_BUCKET, f\"{FUNCTION_NAME}/dependencies.zip\"\n",
    ")"
   ]
  },
  {
   "cell_type": "markdown",
   "id": "fee72e01-4dd4-462a-b1c6-f57540d398dc",
   "metadata": {},
   "source": [
    "## Create Lambda Execution Role"
   ]
  },
  {
   "cell_type": "markdown",
   "id": "7bae64c2",
   "metadata": {},
   "source": [
    "Next, we create an execution role for our Lambda function to make a call to the Amazon Bedrock API."
   ]
  },
  {
   "cell_type": "code",
   "execution_count": null,
   "id": "880726a5-b8a4-4f04-abbe-4d3b4863f364",
   "metadata": {},
   "outputs": [],
   "source": [
    "iam_client = boto3.client(\"iam\")\n",
    "\n",
    "trust_policy = {\n",
    "    \"Version\": \"2012-10-17\",\n",
    "    \"Statement\": [\n",
    "        {\n",
    "            \"Effect\": \"Allow\",\n",
    "            \"Principal\": {\"Service\": \"lambda.amazonaws.com\"},\n",
    "            \"Action\": \"sts:AssumeRole\",\n",
    "        }\n",
    "    ],\n",
    "}\n",
    "\n",
    "try:\n",
    "    # Try to get existing role\n",
    "    response = iam_client.get_role(RoleName=ROLE_NAME)\n",
    "    role_arn = response[\"Role\"][\"Arn\"]\n",
    "    print(f\"Using existing IAM role: {role_arn}\")\n",
    "\n",
    "except iam_client.exceptions.NoSuchEntityException:\n",
    "    # Create new role\n",
    "    print(f\"Creating IAM role: {ROLE_NAME}\")\n",
    "    response = iam_client.create_role(\n",
    "        RoleName=ROLE_NAME,\n",
    "        AssumeRolePolicyDocument=json.dumps(trust_policy),\n",
    "        Description=\"Execution role for Strands Research Agent Lambda function\",\n",
    "    )\n",
    "\n",
    "    role_arn = response[\"Role\"][\"Arn\"]\n",
    "\n",
    "    # Attach basic execution policy\n",
    "    iam_client.attach_role_policy(\n",
    "        RoleName=ROLE_NAME,\n",
    "        PolicyArn=\"arn:aws:iam::aws:policy/service-role/AWSLambdaBasicExecutionRole\",\n",
    "    )\n",
    "\n",
    "    print(f\"Created IAM role: {role_arn}\")\n",
    "    print(\n",
    "        \"Note: You may need to wait a few minutes for the role to propagate before deploying.\"\n",
    "    )"
   ]
  },
  {
   "cell_type": "markdown",
   "id": "7d63ef3d-2e9d-4e78-94d6-6ac989e34d55",
   "metadata": {},
   "source": [
    "## Create Lambda Function"
   ]
  },
  {
   "cell_type": "markdown",
   "id": "9b59a93f",
   "metadata": {},
   "source": [
    "Next, we create a lambda function using the agent code package in S3."
   ]
  },
  {
   "cell_type": "code",
   "execution_count": null,
   "id": "e8d2aafb-6f1a-4e6c-99cb-2aa9805e262d",
   "metadata": {},
   "outputs": [],
   "source": [
    "TIMEOUT = 900\n",
    "MEMORY_SIZE = 512\n",
    "lambda_client = boto_session.client(\"lambda\")\n",
    "\n",
    "try:\n",
    "    # Try to update existing function\n",
    "    response = lambda_client.update_function_code(\n",
    "        FunctionName=FUNCTION_NAME,\n",
    "        S3Bucket=DEPLOYMENT_BUCKET,\n",
    "        S3Key=f\"{FUNCTION_NAME}/app.zip\",\n",
    "    )\n",
    "    print(f\"Updated existing function: {FUNCTION_NAME}\")\n",
    "    time.sleep(15)\n",
    "\n",
    "    # Update configuration\n",
    "    lambda_client.update_function_configuration(\n",
    "        FunctionName=FUNCTION_NAME,\n",
    "        Timeout=TIMEOUT,\n",
    "        MemorySize=MEMORY_SIZE,\n",
    "    )\n",
    "\n",
    "except lambda_client.exceptions.ResourceNotFoundException:\n",
    "    # Create new function\n",
    "    response = lambda_client.create_function(\n",
    "        FunctionName=FUNCTION_NAME,\n",
    "        Runtime=\"python3.12\",\n",
    "        Role=role_arn,\n",
    "        Handler=\"agent_handler.handler\",\n",
    "        Architectures=[\"arm64\"],\n",
    "        Code={\"S3Bucket\": DEPLOYMENT_BUCKET, \"S3Key\": f\"{FUNCTION_NAME}/app.zip\"},\n",
    "        Timeout=TIMEOUT,\n",
    "        MemorySize=MEMORY_SIZE,\n",
    "    )\n",
    "    print(f\"Created new function: {FUNCTION_NAME}\")"
   ]
  },
  {
   "cell_type": "markdown",
   "id": "67948558-1fbd-43e1-810c-925f7c7f524e",
   "metadata": {},
   "source": [
    "## Create Lambda Layer"
   ]
  },
  {
   "cell_type": "markdown",
   "id": "c743c51d",
   "metadata": {},
   "source": [
    "Finally, we create a Lambda layer with the agent code dependencies and attach it to the function."
   ]
  },
  {
   "cell_type": "code",
   "execution_count": null,
   "id": "deefa809-1cba-48bd-889f-a3bd1a3c0dcb",
   "metadata": {},
   "outputs": [],
   "source": [
    "layer_details = lambda_client.publish_layer_version(\n",
    "    LayerName=\"strands-research-agent-dependencies\",\n",
    "    Description=\"Dependencies for the Strands Agents deployment\",\n",
    "    Content={\n",
    "        \"S3Bucket\": DEPLOYMENT_BUCKET,\n",
    "        \"S3Key\": f\"{FUNCTION_NAME}/dependencies.zip\",\n",
    "    },\n",
    "    CompatibleRuntimes=[\"python3.12\"],\n",
    "    CompatibleArchitectures=[\"arm64\"],\n",
    ")\n",
    "\n",
    "layer_version = layer_details.get(\"Version\")\n",
    "layer_version_arn = layer_details.get(\"LayerVersionArn\")"
   ]
  },
  {
   "cell_type": "code",
   "execution_count": null,
   "id": "258ca593-377e-4d40-809f-91f9c3830479",
   "metadata": {},
   "outputs": [],
   "source": [
    "lambda_client.update_function_configuration(\n",
    "    FunctionName=FUNCTION_NAME, Layers=[layer_version_arn]\n",
    ")"
   ]
  },
  {
   "cell_type": "markdown",
   "id": "73c7274c",
   "metadata": {},
   "source": [
    "## Invoke Lambda Function"
   ]
  },
  {
   "cell_type": "markdown",
   "id": "8b0ff9da",
   "metadata": {},
   "source": [
    "Let's run a test. Depending on the question, it may take 5-10 for the Lambda function to return a response."
   ]
  },
  {
   "cell_type": "code",
   "execution_count": null,
   "id": "6923762b-f480-47f0-a508-185ec26d7875",
   "metadata": {},
   "outputs": [],
   "source": [
    "import botocore\n",
    "\n",
    "config = botocore.config.Config(read_timeout=900, connect_timeout=30)\n",
    "\n",
    "lambda_client = boto3.client(\"lambda\", config=config)\n",
    "\n",
    "response = lambda_client.invoke(\n",
    "    FunctionName=FUNCTION_NAME,\n",
    "    Payload=json.dumps({\"prompt\": \"What are recent developments in GLP-1 drugs?\"}),\n",
    ")\n",
    "\n",
    "result = json.loads(response[\"Payload\"].read().decode())\n",
    "print(result)"
   ]
  },
  {
   "cell_type": "markdown",
   "id": "0c1e4c83",
   "metadata": {},
   "source": [
    "Deploying a Strands agent to AWS Lambda gives us a flexible way to integrate scientific insights into a wide variety of workflows."
   ]
  },
  {
   "cell_type": "markdown",
   "id": "f3b428c3",
   "metadata": {},
   "source": [
    "## (Optional) Clean Up"
   ]
  },
  {
   "cell_type": "markdown",
   "id": "cc33b37d",
   "metadata": {},
   "source": [
    "Delete Lambda Function"
   ]
  },
  {
   "cell_type": "code",
   "execution_count": null,
   "id": "27537d3b",
   "metadata": {
    "vscode": {
     "languageId": "plaintext"
    }
   },
   "outputs": [],
   "source": [
    "lambda_client.delete_function(FunctionName=FUNCTION_NAME)"
   ]
  },
  {
   "cell_type": "markdown",
   "id": "036d017c",
   "metadata": {},
   "source": [
    "Delete Lambda Layer"
   ]
  },
  {
   "cell_type": "code",
   "execution_count": null,
   "id": "c9037873",
   "metadata": {
    "vscode": {
     "languageId": "plaintext"
    }
   },
   "outputs": [],
   "source": [
    "lambda_client.delete_layer_version(\n",
    "    LayerName='strands-research-agent-dependencies',\n",
    "    VersionNumber=layer_version\n",
    ")"
   ]
  },
  {
   "cell_type": "markdown",
   "id": "c2d1b594",
   "metadata": {},
   "source": [
    "Delete S3 objects and bucket"
   ]
  },
  {
   "cell_type": "code",
   "execution_count": null,
   "id": "ce445c86",
   "metadata": {
    "vscode": {
     "languageId": "plaintext"
    }
   },
   "outputs": [],
   "source": [
    "bucket = boto_session.resource(\"s3\").Bucket(DEPLOYMENT_BUCKET)\n",
    "bucket.objects.filter().delete()\n",
    "bucket.delete()"
   ]
  }
 ],
 "metadata": {
  "kernelspec": {
   "display_name": "Python 3 (ipykernel)",
   "language": "python",
   "name": "python3"
  },
  "language_info": {
   "codemirror_mode": {
    "name": "ipython",
    "version": 3
   },
   "file_extension": ".py",
   "mimetype": "text/x-python",
   "name": "python",
   "nbconvert_exporter": "python",
   "pygments_lexer": "ipython3",
   "version": "3.12.9"
  }
 },
 "nbformat": 4,
 "nbformat_minor": 5
}
