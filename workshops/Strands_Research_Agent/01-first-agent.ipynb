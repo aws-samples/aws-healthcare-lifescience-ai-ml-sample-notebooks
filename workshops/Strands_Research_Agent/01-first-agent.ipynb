{
 "cells": [
  {
   "cell_type": "markdown",
   "id": "8e394456",
   "metadata": {},
   "source": [
    "# Quickstart Guide for Strands Agents\n",
    "\n",
    "Strands Agents is a powerful framework for building AI agents that can interact with AWS services and perform complex tasks. This quickstart guide will help you get started with creating your first Strands agent.\n",
    "\n",
    "NOTE: This notebook is adapted from the [Getting Started with Strands Agents](https://catalog.us-east-1.prod.workshops.aws/workshops/33f099a6-45a2-47d7-9e3c-a23a6568821e/en-US) workshop.\n",
    "\n",
    "## Prerequisites\n",
    "\n",
    "- Python 3.10 or later\n",
    "- AWS account configured with appropriate permissions\n",
    "- Basic understanding of Python programming\n",
    "\n",
    "Lets get started by first installing some dependencies"
   ]
  },
  {
   "cell_type": "code",
   "execution_count": null,
   "id": "5f7b62fd",
   "metadata": {
    "scrolled": true
   },
   "outputs": [],
   "source": [
    "%pip install -U boto3 strands-agents strands-agents-tools uv"
   ]
  },
  {
   "cell_type": "markdown",
   "id": "79a45632",
   "metadata": {
    "vscode": {
     "languageId": "plaintext"
    }
   },
   "source": [
    "\n",
    "## Creating Your First Agent\n",
    "\n",
    "Lets get an overview of the agentic components needed.\n",
    "\n",
    "### 1. Create a simple Agent\n",
    "\n",
    "This will create an agent with the default model provider, [Amazon Bedrock](https://aws.amazon.com/bedrock/), and the default model, Claude 3.7 Sonnet, in the region of your AWS setup. While the agent runs in the same local environment as it is being invoked, Amazon Bedrock models will run in an AWS account and your agent will invoke the model in the cloud account. The architecture looks as following:\n",
    "\n",
    "<div style=\"text-align:center\">\n",
    "    <img src=\"images/simple_agent.png\" width=\"75%\" />\n",
    "</div>"
   ]
  },
  {
   "cell_type": "code",
   "execution_count": null,
   "id": "8d549346",
   "metadata": {},
   "outputs": [],
   "source": [
    "from strands import Agent\n",
    "\n",
    "# Initialize your agent\n",
    "agent = Agent(\n",
    "    system_prompt=\"You are a helpful assistant that provides concise responses.\"\n",
    ")\n",
    "\n",
    "# Send a message to the agent\n",
    "response = agent(\"Hello! Tell me a joke.\")"
   ]
  },
  {
   "cell_type": "markdown",
   "id": "cc305d76",
   "metadata": {},
   "source": [
    "### 2. Add Tools to the Agent\n",
    "\n",
    "The [strands-agents-tools](https://github.com/strands-agents/tools) repository provides some in-built tools which you can import. You can also create custom tools using the `@tool` decorator. We can create agents with built-in and custom tools. For instance, adding the built-in tool of a calculator and a custom tool for getting the weather you get the following architecture:\n",
    "<div style=\"text-align:center\">\n",
    "    <img src=\"images/agent_with_tools.png\" width=\"75%\" />\n",
    "</div>\n",
    "\n",
    "Implementing this architecture you have the following:"
   ]
  },
  {
   "cell_type": "code",
   "execution_count": null,
   "id": "c84d9466",
   "metadata": {},
   "outputs": [],
   "source": [
    "from strands import Agent, tool\n",
    "from strands_tools import calculator  # Import the calculator tool\n",
    "\n",
    "\n",
    "# Create a custom tool\n",
    "@tool\n",
    "def weather():\n",
    "    \"\"\"Get weather\"\"\"  # Dummy implementation\n",
    "    return \"sunny\"\n",
    "\n",
    "\n",
    "agent = Agent(\n",
    "    tools=[calculator, weather],\n",
    "    system_prompt=\"You're a helpful assistant. You can do simple math calculation, and tell the weather.\",\n",
    ")\n",
    "\n",
    "response = agent(\"What is the weather today?\")\n",
    "print(response)"
   ]
  },
  {
   "cell_type": "markdown",
   "id": "c96537ad-a5af-49d9-aaff-c9101ae31e73",
   "metadata": {},
   "source": [
    "### Invoking tool directly\n",
    "\n",
    "For some applications it is important to directly call the tool. For instance, you might want to debug the tool, pre-populate the agent knowledge with your customer's information or using a tool inside of another tool. In Strands you can do it using the ``tool`` method of your agent followed by the tool name"
   ]
  },
  {
   "cell_type": "code",
   "execution_count": null,
   "id": "7743fe69",
   "metadata": {},
   "outputs": [],
   "source": [
    "# Alternatively, you can invoke the tool directly like so:\n",
    "agent.tool.calculator(expression=\"sin(x)\", mode=\"derive\", wrt=\"x\", order=2)"
   ]
  },
  {
   "cell_type": "markdown",
   "id": "1f6bceed",
   "metadata": {},
   "source": [
    "\n",
    "### 3. Changing the log level and format\n",
    "\n",
    "Strands SDK uses Python's standard `logging` module to provide visibility into its operations.\n",
    "\n",
    "The Strands Agents SDK implements a straightforward logging approach:\n",
    "\n",
    "1. **Module-level Loggers**: Each module in the SDK creates its own logger using logging.getLogger(__name__), following Python best practices for hierarchical logging.\n",
    "2. **Root Logger**: All loggers in the SDK are children of the \"strands\" root logger, making it easy to configure logging for the entire SDK.\n",
    "3. **Default Behavior**: By default, the SDK doesn't configure any handlers or log levels, allowing you to integrate it with your application's logging configuration.\n",
    "\n",
    "To enable logging for the Strands Agents SDK, you can configure the **\"strands\"** logger. If you want to change the log level, for example during debugging, or modify the log format, you can set the logger configuration as follows:"
   ]
  },
  {
   "cell_type": "code",
   "execution_count": null,
   "id": "66415155",
   "metadata": {},
   "outputs": [],
   "source": [
    "import logging\n",
    "from strands import Agent\n",
    "\n",
    "# Enables Strands debug log level\n",
    "logging.getLogger(\"strands\").setLevel(logging.DEBUG)  # or logging.INFO\n",
    "\n",
    "# Sets the logging format and streams logs to stderr\n",
    "logging.basicConfig(\n",
    "    format=\"%(levelname)s | %(name)s | %(message)s\", handlers=[logging.StreamHandler()]\n",
    ")\n",
    "\n",
    "agent = Agent()\n",
    "agent(\"Hello!\")"
   ]
  },
  {
   "cell_type": "markdown",
   "id": "7c5ddfed",
   "metadata": {},
   "source": [
    "\n",
    "### 4. Updating the Model Provider\n",
    "\n",
    "The default model provider is [Amazon Bedrock](https://aws.amazon.com/bedrock/) and the default model is Claude 3.7 Sonnet in the region of your current AWS environment\n",
    "\n",
    "You can specify a different model in Amazon Bedrock providing the model ID string directly:"
   ]
  },
  {
   "cell_type": "code",
   "execution_count": null,
   "id": "207432b2",
   "metadata": {},
   "outputs": [],
   "source": [
    "from strands import Agent\n",
    "\n",
    "agent = Agent(model=\"us.anthropic.claude-3-5-haiku-20241022-v1:0\")\n",
    "print(agent.model.config)"
   ]
  },
  {
   "cell_type": "markdown",
   "id": "88b79bb2",
   "metadata": {},
   "source": [
    "\n",
    "For more control over the model configuration, you can create a `BedrockModel` provider instance:"
   ]
  },
  {
   "cell_type": "code",
   "execution_count": null,
   "id": "13767dd5",
   "metadata": {},
   "outputs": [],
   "source": [
    "from strands import Agent\n",
    "from strands.models import BedrockModel\n",
    "\n",
    "# Create a BedrockModel\n",
    "bedrock_model = BedrockModel(\n",
    "    model_id=\"us.anthropic.claude-3-5-haiku-20241022-v1:0\",\n",
    "    temperature=0.3,\n",
    ")\n",
    "\n",
    "agent = Agent(model=bedrock_model)"
   ]
  },
  {
   "cell_type": "markdown",
   "id": "538e5e20",
   "metadata": {},
   "source": [
    "\n",
    "More details on the available model providers on the [Model Provider Quickstart page](https://strandsagents.com/0.1.x/user-guide/quickstart/#model-providers)\n"
   ]
  },
  {
   "cell_type": "markdown",
   "id": "8b94855e-da03-4e99-a4ad-e1bea5261efc",
   "metadata": {},
   "source": [
    "### 5. Model Context Protocol (MCP)\n",
    "\n",
    "The [Model Context Protocol (MCP)](https://modelcontextprotocol.io/introduction) is an open protocol that standardizes how applications provide context to Large Language Models (LLMs). Strands AI SDK integrates with MCP to extend agent capabilities through external tools and services.\n",
    "\n",
    "MCP enables communication between agents and MCP servers that provide additional tools. The Strands Agent SDK includes built-in support for connecting to MCP servers and using their tools.\n",
    "\n",
    "In this example we will show you how to use MCP tools on your Strands Agent. We will use the [AWS Documentation MCP server](https://awslabs.github.io/mcp/servers/aws-documentation-mcp-server/) which provides tools to access AWS documentation, search for content, and get recommendations. This MCP server has 3 main features:\n",
    "\n",
    "- **Read Documentation**: Fetch and convert AWS documentation pages to markdown format\n",
    "- **Search Documentation**: Search AWS documentation using the official search API\n",
    "- **Recommendations**: Get content recommendations for AWS documentation pages\n",
    "\n",
    "<div style=\"text-align:center\">\n",
    "    <img src=\"images/mcp_architecture.png\" width=\"75%\" />\n",
    "</div>\n"
   ]
  },
  {
   "attachments": {},
   "cell_type": "markdown",
   "id": "5f1637bb-2291-4fd1-81e1-a2a903cbab32",
   "metadata": {},
   "source": [
    "### Connect to MCP server using stdio transport\n",
    "\n",
    "[Transposts](https://modelcontextprotocol.io/specification/2025-03-26/basic/transports) in MCP provide the foundations for communication between clients and servers. It handles the underlying mechanics of how messages are sent and received. At the moment there are three standards transport implementations built-in in MCP:\n",
    "\n",
    "- **Standard Input/Output (stdio)**: enables communication through standard input and output streams. It is particulary useful for local integrations and command-line tools\n",
    "- **Streamable HTTP**: this replaces the HTTP+SSE transport from previous protocol version. In the Streamable HTTP transport, the server operates as an independent process that can handle multiple client connections. This transport uses HTTP POST and GET requests. Server can optionally make use of Server-Sent Events (SSE) to stream multiple server messages. This permits basic MCP servers, as well as more feature-rich servers supporting streaming and server-to-client notifications and requests.\n",
    "- **SSE**: legacy transport for HTTP-based MCP servers that use Server-Sent Events transport  \n",
    "\n",
    "Overall, you should use stdio for building command-line tools, implementing local integrations and working with shell scripts. You should use Streamable HTTP transports when you need a flexible and efficient way for AI agents to communicate with tools and services, especially when dealing with stateless communication or when minimizing resource usage is crucial.\n",
    "\n",
    "You can also use **custom transports** implementation for your specific needs. \n",
    "\n",
    "\n",
    "Let's now connect to the MCP server using stdio transport. First of all, we will use the class `MCPClient` to connect to the [AWS Documentation MCP Server](https://awslabs.github.io/mcp/servers/aws-documentation-mcp-server/). This server provides tools to access AWS documentation, search for content, and get recommendations."
   ]
  },
  {
   "cell_type": "code",
   "execution_count": null,
   "id": "2446c089-9f32-49f1-acef-412b663f0a33",
   "metadata": {},
   "outputs": [],
   "source": [
    "# from datetime import timedelta\n",
    "import logging\n",
    "from mcp import StdioServerParameters, stdio_client\n",
    "from mcp.client.streamable_http import streamablehttp_client\n",
    "from strands import Agent\n",
    "from strands.tools.mcp import MCPClient\n",
    "\n",
    "logging.getLogger(\"strands\").setLevel(logging.INFO)  # or logging.INFO"
   ]
  },
  {
   "cell_type": "code",
   "execution_count": null,
   "id": "cb9d98f6-1ebc-4d5c-b1e4-d480cb94041f",
   "metadata": {},
   "outputs": [],
   "source": [
    "# Connect to an MCP server using stdio transport\n",
    "stdio_mcp_client = MCPClient(\n",
    "    lambda: stdio_client(\n",
    "        StdioServerParameters(\n",
    "            command=\"uvx\", args=[\"awslabs.aws-documentation-mcp-server@latest\"]\n",
    "        )\n",
    "    )\n",
    ")"
   ]
  },
  {
   "cell_type": "markdown",
   "id": "0969ff8d-8a72-4857-84e4-66abe8cee8fe",
   "metadata": {},
   "source": [
    "#### Setup agent configuration and invoke it\n",
    "\n",
    "Next we will set our agent configuration using the tools from the `stdio_mcp_client` object we just created. To do so, we need to list the tools available in the MCP server. We can use the `list_tools_sync` method for it. \n",
    "\n",
    "After that, we will ask a question to our agent."
   ]
  },
  {
   "cell_type": "code",
   "execution_count": null,
   "id": "f25f02e0-222d-47ce-ae4e-a3063bf30eee",
   "metadata": {},
   "outputs": [],
   "source": [
    "# Create an agent with MCP tools\n",
    "with stdio_mcp_client:\n",
    "    # Get the tools from the MCP server\n",
    "    tools = stdio_mcp_client.list_tools_sync()\n",
    "    print(f\"Available MCP tools are {[tool.tool_name for tool in tools]}\")\n",
    "\n",
    "    # Create an agent with these tools\n",
    "    agent = Agent(tools=tools)\n",
    "\n",
    "    response = agent(\"What is Amazon Bedrock pricing model. Be concise.\")"
   ]
  },
  {
   "cell_type": "markdown",
   "id": "037ba1d7",
   "metadata": {},
   "source": [
    "**Congratulations !! Now you have learned how to build a simple agent using Strands!!**"
   ]
  }
 ],
 "metadata": {
  "kernelspec": {
   "display_name": "Python 3 (ipykernel)",
   "language": "python",
   "name": "python3"
  },
  "language_info": {
   "codemirror_mode": {
    "name": "ipython",
    "version": 3
   },
   "file_extension": ".py",
   "mimetype": "text/x-python",
   "name": "python",
   "nbconvert_exporter": "python",
   "pygments_lexer": "ipython3",
   "version": "3.12.9"
  }
 },
 "nbformat": 4,
 "nbformat_minor": 5
}
