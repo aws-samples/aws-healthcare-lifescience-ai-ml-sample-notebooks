{
 "cells": [
  {
   "cell_type": "code",
   "execution_count": 1,
   "id": "dfa6287d-f48b-459a-91e5-1116b7c4c14e",
   "metadata": {
    "tags": []
   },
   "outputs": [],
   "source": [
    "from anthropic import AnthropicBedrock\n",
    "\n",
    "anthropic_client = AnthropicBedrock()"
   ]
  },
  {
   "cell_type": "code",
   "execution_count": 2,
   "id": "be78120c-2bf7-4fef-9eb5-5197a93525a1",
   "metadata": {
    "tags": []
   },
   "outputs": [],
   "source": [
    "prompt_data=f'''\n",
    "Human: I want you to come up with a mock lab results for testing\n",
    "penicillin against a bacteria. You can use your imagination, but make it real and technical looking. Also, make it long\n",
    "\n",
    "Assistant:\n",
    "'''"
   ]
  },
  {
   "cell_type": "code",
   "execution_count": 3,
   "id": "dac0a436-2655-404d-9919-80c81a86211f",
   "metadata": {
    "tags": []
   },
   "outputs": [
    {
     "name": "stdout",
     "output_type": "stream",
     "text": [
      "Here is a mock lab report for testing the efficacy of penicillin against a bacterial strain:\n",
      "\n",
      "Antimicrobial Susceptibility Testing Report\n",
      "\n",
      "Patient Name: Mock Patient                  \n",
      "Patient ID: 12345\n",
      "Specimen Type: Wound culture\n",
      "Date Collected: 05/15/2023\n",
      "\n",
      "Organism Identification:\n",
      "Gram Stain: Gram-positive cocci in clusters\n",
      "Catalase Test: Positive\n",
      "Coagulase Test: Negative\n",
      "Organism ID: Staphylococcus epidermidis\n",
      "\n",
      "Antimicrobial Susceptibility Testing:\n",
      "\n",
      "Antimicrobial Agent    Disk Content    Zone Diameter    Interpretive \n",
      "                       (μg)            (mm)             Category*\n",
      "\n",
      "Penicillin             10 units        28               S\n",
      "Oxacillin              1                20               S  \n",
      "Gentamicin             10               16               I\n",
      "Erythromycin           15               22               S\n",
      "Clindamycin            2                25               S\n",
      "Trimethoprim/Sulfa     1.25/23.75      6                R\n",
      "Vancomycin             30               18               S\n",
      "Linezolid              30               25               S\n",
      "\n",
      "*Interpretive Categories: \n",
      "S = Susceptible  \n",
      "I = Intermediate\n",
      "R = Resistant\n",
      "\n",
      "Testing Method: Kirby-Bauer Disk Diffusion\n",
      "Media: Mueller-Hinton Agar\n",
      "Inoculum: 0.5 McFarland turbidity standard\n",
      "Incubation: 35°C, ambient air, 16-20 hours\n",
      "\n",
      "Quality Control:\n",
      "S. aureus ATCC 25923\n",
      "E. coli ATCC 25922 \n",
      "(All QC results within acceptable ranges)\n",
      "\n",
      "Comments:\n",
      "The isolate, Staphylococcus epidermidis, is susceptible to penicillin, oxacillin, erythromycin, clindamycin, vancomycin, and linezolid. It shows intermediate susceptibility to gentamicin and resistance to trimethoprim/sulfamethoxazole.\n",
      "\n",
      "Penicillin exhibited a zone of inhibition of 28mm against this isolate, indicating susceptibility. Based on CLSI interpretive criteria, penicillin would be an appropriate treatment option for this patient's infection caused by S. epidermidis.\n",
      "\n",
      "Verified By: \n",
      "Dr. Microbiology Lab\n",
      "Attending Microbiologisttext\n"
     ]
    }
   ],
   "source": [
    "message = anthropic_client.messages.create(\n",
    "    model=\"anthropic.claude-3-sonnet-20240229-v1:0\",\n",
    "    max_tokens=2000,\n",
    "    temperature=0,\n",
    "    messages=[\n",
    "        {\"role\": \"user\", \"content\": [{\"type\": \"text\", \"text\": prompt_data}]}\n",
    "    ],\n",
    ")\n",
    "\n",
    "message_content = \"\"\n",
    "for block in message.content[0]:\n",
    "    message_content = message_content + block[1]\n",
    "\n",
    "print(message_content)"
   ]
  },
  {
   "cell_type": "code",
   "execution_count": null,
   "id": "d4bace3f-c61d-40f6-8864-2e7e573764ba",
   "metadata": {},
   "outputs": [],
   "source": []
  }
 ],
 "metadata": {
  "kernelspec": {
   "display_name": ".venv",
   "language": "python",
   "name": "python3"
  },
  "language_info": {
   "codemirror_mode": {
    "name": "ipython",
    "version": 3
   },
   "file_extension": ".py",
   "mimetype": "text/x-python",
   "name": "python",
   "nbconvert_exporter": "python",
   "pygments_lexer": "ipython3",
   "version": "3.11.4"
  }
 },
 "nbformat": 4,
 "nbformat_minor": 5
}
