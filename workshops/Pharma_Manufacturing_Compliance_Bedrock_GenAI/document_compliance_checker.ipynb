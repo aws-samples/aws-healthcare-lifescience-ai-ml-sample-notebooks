{
 "cells": [
  {
   "cell_type": "code",
   "execution_count": 7,
   "id": "dfa6287d-f48b-459a-91e5-1116b7c4c14e",
   "metadata": {
    "tags": []
   },
   "outputs": [],
   "source": [
    "from anthropic import AnthropicBedrock\n",
    "\n",
    "anthropic_client = AnthropicBedrock()"
   ]
  },
  {
   "cell_type": "code",
   "execution_count": 8,
   "id": "567e24d8-5d78-407a-861a-5a10c0432e04",
   "metadata": {
    "tags": []
   },
   "outputs": [],
   "source": [
    "protocol=open('penicillin_manufacturing.txt', 'r').read()\n",
    "sop=open('sample_sop.txt', 'r').read()"
   ]
  },
  {
   "cell_type": "code",
   "execution_count": 9,
   "id": "be78120c-2bf7-4fef-9eb5-5197a93525a1",
   "metadata": {
    "tags": []
   },
   "outputs": [],
   "source": [
    "prompt_data=f'''\n",
    "Human: I want you to first read the following two passages. \n",
    "The first passage, called \"Procedure\", contains manufacturing instructions for a pharmaceutical product.\n",
    "The second passage, called \"Rules\", contains a list of rules that **regulate** manufacturing of the a pharmaceutical product.\n",
    "\n",
    "After you read the Procedure and Rules passages, I want you to write a report that contains all the times that the Procedure\n",
    "violate the Rules. Please include where specifically the Procedure and Rules are in conflict. I want you to think carefully about this, \n",
    "noting even subtle contradictions.\n",
    "\n",
    "Please note that there many not be any violations. In which case I want you to simply return \"no violations found\"\n",
    "\n",
    "Procedure:\n",
    "\n",
    "{protocol}\n",
    "\n",
    "Rules:\n",
    "{sop}\n",
    "\n",
    "Assistant:\n",
    "'''"
   ]
  },
  {
   "cell_type": "code",
   "execution_count": 10,
   "id": "dac0a436-2655-404d-9919-80c81a86211f",
   "metadata": {
    "tags": []
   },
   "outputs": [
    {
     "name": "stdout",
     "output_type": "stream",
     "text": [
      "Based on the \"Procedure\" and \"Rules\" provided, here are the violations I found:\n",
      "\n",
      "1. Violation of Rule 1: The procedure calls for incubating the starter culture for 2 days (step 2) and incubating the fermentation vessel for 5-7 days (step 4), which exceeds the 2-day limit set by Rule 1.\n",
      "\n",
      "2. Violation of Rule 2: The procedure specifies re-suspending the product in sterile 0.9% sodium chloride solution (step 10), which is less than the required 0.95% sodium chloride solution stated in Rule 2.\n",
      "\n",
      "3. Violation of Rule 4: The procedure mentions filtering the final product through a 0.22μm membrane (step 11), which is larger than the maximum filter size of 0.2 microns specified in Rule 4.\n",
      "\n",
      "4. Potential violation of Rule 5: The procedure does not mention any requirements or limitations regarding the age or expiration of raw materials used, which could potentially violate Rule 5 if raw materials older than 6 months are used.\n",
      "\n",
      "5. Potential violation of Rule 6: The procedure does not mention any sterilization requirements for equipment, which could potentially violate Rule 6 if equipment is not sterilized at 121°C for at least 15 minutes.\n",
      "\n",
      "6. Potential violation of Rule 7: The procedure does not mention any limitations on the number of products manufactured in the same facility, which could potentially violate Rule 7 if more than two different products are manufactured.\n",
      "\n",
      "7. Potential violation of Rule 8: The procedure does not mention any requirements for wiping down surfaces with 70% isopropyl alcohol, which could potentially violate Rule 8.\n",
      "\n",
      "8. Potential violation of Rule 9: The procedure does not mention any limitations on the number of deviations allowed in batch records, which could potentially violate Rule 9 if more than 10 deviations are noted.\n",
      "\n",
      "9. Potential violation of Rule 10: The procedure does not mention any requirements for the shelf life of the finished product, which could potentially violate Rule 10 if the finished product does not have at least 2 years of shelf life remaining at the time of release.\n",
      "\n",
      "If there are no other violations beyond these, you can summarize the report as: \"Violations of Rules 1, 2, and 4 were found in the provided procedure. Potential violations of Rules 5, 6, 7, 8, 9, and 10 were also identified, but more information is needed to confirm these violations.\"text\n"
     ]
    }
   ],
   "source": [
    "message = anthropic_client.messages.create(\n",
    "    model=\"anthropic.claude-3-sonnet-20240229-v1:0\",\n",
    "    max_tokens=2000,\n",
    "    temperature=0,\n",
    "    messages=[\n",
    "        {\"role\": \"user\", \"content\": [{\"type\": \"text\", \"text\": prompt_data}]}\n",
    "    ],\n",
    ")\n",
    "\n",
    "message_content = \"\"\n",
    "for block in message.content[0]:\n",
    "    message_content = message_content + block[1]\n",
    "\n",
    "print(message_content)"
   ]
  },
  {
   "cell_type": "code",
   "execution_count": null,
   "id": "d4bace3f-c61d-40f6-8864-2e7e573764ba",
   "metadata": {},
   "outputs": [],
   "source": []
  }
 ],
 "metadata": {
  "kernelspec": {
   "display_name": "Python 3",
   "language": "python",
   "name": "python3"
  },
  "language_info": {
   "codemirror_mode": {
    "name": "ipython",
    "version": 3
   },
   "file_extension": ".py",
   "mimetype": "text/x-python",
   "name": "python",
   "nbconvert_exporter": "python",
   "pygments_lexer": "ipython3",
   "version": "3.11.4"
  }
 },
 "nbformat": 4,
 "nbformat_minor": 5
}
